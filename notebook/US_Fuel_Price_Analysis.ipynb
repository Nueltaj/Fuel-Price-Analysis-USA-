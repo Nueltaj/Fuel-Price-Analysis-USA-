{
 "cells": [
  {
   "cell_type": "markdown",
   "id": "65b505c9",
   "metadata": {},
   "source": [
    "# Petroleum Price Analysis Pipeline\n",
    "\n",
    "**Project Description**:  \n",
    "A complete workflow to fetch, clean, and visualize U.S. petroleum price data from the EIA API.\n",
    "\n",
    "**Workflow**:\n",
    "1. Data Fetching: Retrieve raw data from EIA API (2000-2024)\n",
    "2. Data Cleaning: Preprocess and standardize the dataset\n",
    "3. Visualization: Generate 5 analytical views of the data\n",
    "\n",
    "**Data Sources**:  \n",
    "U.S. Energy Information Administration (EIA) API - Petroleum Price Data\n",
    "\n",
    "# 👤 About the Author\n",
    "**Name:** Omotaje Emmanuel Oluwaferanmi  \n",
    "**Role:** Computer Engineering Student at Abiola Ajimobi Technical University, Ibadan  \n",
    "**Expected Graduation:** 2027  \n",
    "**LinkedIn:** [www.linkedin.com/in/emmanuel-omotaje-40154a275](https://www.linkedin.com/in/emmanuel-omotaje-40154a275)  \n",
    "**GitHub:** [github.com/Nueltaj](https://github.com/Nueltaj)  \n",
    "**Email:** nueltajart@gmail.com\n",
    "\n",
    "Passionate about Data Visualization, Python Programming, and Building AI-Driven Applications."
   ]
  },
  {
   "cell_type": "code",
   "execution_count": 13,
   "id": "68283925",
   "metadata": {},
   "outputs": [],
   "source": [
    "# Import libraries\n",
    "import os\n",
    "import requests\n",
    "import pandas as pd\n",
    "import numpy as np\n",
    "import matplotlib.pyplot as plt\n",
    "import seaborn as sns\n",
    "import plotly.express as px\n",
    "from pathlib import Path\n",
    "from datetime import date\n",
    "\n",
    "# configuration\n",
    "PLOT_DIR = os.path.join(\"outputs\", \"plots\")\n",
    "os.makedirs(PLOT_DIR, exist_ok=True)"
   ]
  },
  {
   "cell_type": "markdown",
   "id": "52d28d2e",
   "metadata": {},
   "source": [
    "## 1. Data Fetching\n",
    "Retrieves petroleum price data from EIA API for:\n",
    "- Products: Diesel & Gasoline variants\n",
    "- Regions: National (NUS) and PADD regions\n",
    "- Timeframe: 2000-2024 (annual)"
   ]
  },
  {
   "cell_type": "code",
   "execution_count": 14,
   "id": "8e28d7eb",
   "metadata": {},
   "outputs": [],
   "source": [
    "# Data Fetching\n",
    "def fetch_petroleum_data(api_key):\n",
    "    \"\"\"\n",
    "    Fetch petroleum price data from EIA API.\n",
    "    \n",
    "    Args:\n",
    "        api_key (str): EIA API authentication key\n",
    "        \n",
    "    Returns:\n",
    "        pd.DataFrame: Contains petroleum price data with columns:\n",
    "            - period (str): Year of record\n",
    "            - value (float): Price value\n",
    "            - product (str): Fuel product code\n",
    "            - duoarea (str): Region code\n",
    "            - process (str): Always 'PTE' (Price to End User)\n",
    "            \n",
    "    Raises:\n",
    "        RuntimeError: If API request fails (non-200 status code)\n",
    "    \"\"\"\n",
    "    url = \"https://api.eia.gov/v2/petroleum/pri/gnd/data/\"\n",
    "\n",
    "    params = {\n",
    "        \"api_key\": api_key,\n",
    "        \"frequency\": \"annual\",\n",
    "        \"data[0]\": \"value\",\n",
    "        \"facets[product][]\": [\"EPD2D\", \"EPD2DXL0\", \"EPM0\", \"EPM0R\", \"EPMP\", \"EPMR\"],\n",
    "        \"facets[duoarea][]\": [\n",
    "            \"NUS\",\n",
    "            \"R10\",\n",
    "            \"R1X\",\n",
    "            \"R1Y\",\n",
    "            \"R20\",\n",
    "            \"R30\",\n",
    "            \"R40\",\n",
    "            \"R50\",\n",
    "            \"R5XCA\",\n",
    "            \"SCA\",\n",
    "        ],\n",
    "        \"facets[process][]\": [\"PTE\"],\n",
    "        \"start\": \"2000\",\n",
    "        \"end\": \"2024\",\n",
    "        \"sort[0][column]\": \"period\",\n",
    "        \"sort[0][direction]\": \"asc\",\n",
    "        \"offset\": \"0\",\n",
    "        \"length\": \"5000\",\n",
    "    }\n",
    "\n",
    "    response = requests.get(url, params=params)\n",
    "    if response.status_code != 200:\n",
    "        raise RuntimeError(f\"API request failed: {response.status_code}\")\n",
    "\n",
    "    data = response.json().get(\"response\", {}).get(\"data\", [])\n",
    "    df = pd.DataFrame(data)\n",
    "    # Ensure data directory exists\n",
    "    raw_dir = Path(\"data/raw\")\n",
    "    raw_dir.mkdir(parents=True, exist_ok=True)\n",
    "\n",
    "    # Export raw data to CSV\n",
    "    csv_path = raw_dir / \"petroleum_raw.csv\"\n",
    "    df.to_csv(csv_path, index=False)\n",
    "    if not df.empty:\n",
    "        df.to_csv(csv_path, index=False)\n",
    "    else:\n",
    "        csv_path.touch()\n",
    "\n",
    "    return df if data else pd.DataFrame()\n"
   ]
  },
  {
   "cell_type": "markdown",
   "id": "a7dcf03a",
   "metadata": {},
   "source": [
    "## 2. Data Cleaning\n",
    "Processes raw data by:\n",
    "- Converting data types\n",
    "- Handling missing values\n",
    "- Standardizing text formats\n",
    "- Removing outliers\n",
    "- Mapping codes to readable labels"
   ]
  },
  {
   "cell_type": "code",
   "execution_count": 15,
   "id": "05895080",
   "metadata": {},
   "outputs": [],
   "source": [
    "# Data cleaning\n",
    "def clean_petroleum_data(df):\n",
    "    \"\"\"\n",
    "    Cleans and preprocesses raw petroleum price data from EIA API.\n",
    "    \n",
    "    Args:\n",
    "        df (pd.DataFrame): Raw petroleum data containing at minimum:\n",
    "            - period: Date/time information\n",
    "            - value: Numeric price values\n",
    "            - Various categorical columns (area-name, product-name, etc.)\n",
    "            \n",
    "    Returns:\n",
    "        pd.DataFrame: Cleaned dataset with:\n",
    "            - Proper data types\n",
    "            - Handled missing values\n",
    "            - Standardized text formats\n",
    "            - Removed outliers\n",
    "            - Mapped categorical values\n",
    "            \n",
    "    Side Effects:\n",
    "        - Creates 'data/cleaned' directory if missing\n",
    "        - Saves cleaned data to 'data/cleaned/fuel_prices_cleaned.csv'\n",
    "    \"\"\"\n",
    "    # Convert types\n",
    "    df['period'] = pd.to_datetime(df['period'], errors='coerce')\n",
    "    df = df[df['period'].dt.year.between(1990, 2025)]\n",
    "    df['value'] = pd.to_numeric(df['value'], errors='coerce')\n",
    "\n",
    "    # Drop duplicates\n",
    "    df.drop_duplicates(inplace=True)\n",
    "\n",
    "    # Fill missing values\n",
    "    numeric_cols = df.select_dtypes(include=[np.number]).columns\n",
    "    df[numeric_cols] = df[numeric_cols].fillna(df[numeric_cols].median())\n",
    "\n",
    "    for col in df.select_dtypes(exclude=[np.number]).columns:\n",
    "        df[col] = df[col].fillna(df[col].mode()[0])\n",
    "\n",
    "    # Format text columns\n",
    "    for col in ['area-name', 'product-name', 'process-name']:\n",
    "        if col in df.columns:\n",
    "            df[col] = df[col].str.strip().str.title()\n",
    "\n",
    "    # Remove outliers\n",
    "    Q1, Q3 = df['value'].quantile([0.25, 0.75])\n",
    "    IQR = Q3 - Q1\n",
    "    df = df[(df['value'] >= (Q1 - 1.5 * IQR)) & (df['value'] <= (Q3 + 1.5 * IQR))]\n",
    "\n",
    "    # Mapping\n",
    "    area_map = {\n",
    "        'NUS': 'United States',\n",
    "        'R10': 'PADD 1 (East Coast)',\n",
    "        'R1X': 'PADD 1A (New England)',\n",
    "        'R1Y': 'PADD 1B (Central Atlantic)',\n",
    "        'R20': 'PADD 2 (Midwest)',\n",
    "        'R30': 'PADD 3 (Gulf Coast)',\n",
    "        'R40': 'PADD 4 (Rocky Mountain)',\n",
    "        'R50': 'PADD 5 (West Coast)',\n",
    "        'R5XCA': 'PADD 5 (Except California)',\n",
    "        'SCA': 'California',\n",
    "    }\n",
    "    product_map = {\n",
    "        'EPD2D': 'No 2 Diesel',\n",
    "        'EPD2DXL0': 'Ultra-Low Sulfur Diesel (0–15 ppm)',\n",
    "        'EPM0': 'Total Gasoline',\n",
    "        'EPMR': 'Regular Gasoline',\n",
    "        'EPMP': 'Premium Gasoline',\n",
    "        'EPM0R': 'Reformulated Motor Gasoline',\n",
    "    }\n",
    "    if 'product' in df.columns:\n",
    "        df['product'] = df['product'].map(product_map).fillna(df['product'])\n",
    "    if 'duoarea' in df.columns:\n",
    "        df['duoarea'] = df['duoarea'].map(area_map).fillna(\"Unknown\")\n",
    "\n",
    "    # Ensure data directory exists\n",
    "    cleaned_dir = Path(\"data/processed\")\n",
    "    cleaned_dir.mkdir(parents=True, exist_ok=True)\n",
    "\n",
    "    # Export cleaned data to CSV\n",
    "    csv_path = cleaned_dir / \"petroleum_clean.csv\"\n",
    "    df.to_csv(csv_path, index=False)\n",
    "    if not df.empty:\n",
    "        df.to_csv(csv_path, index=False)\n",
    "    else:\n",
    "        csv_path.touch()\n",
    "    return df\n"
   ]
  },
  {
   "cell_type": "markdown",
   "id": "50c2ee72",
   "metadata": {},
   "source": [
    "## 3. Visualization\n",
    "Generates 5 analytical views:\n",
    "\n",
    "1. **Product Prices**: Scatter plot of fuel costs\n",
    "2. **Price Trends**: Historical price movements  \n",
    "3. **Regional Costs**: Geographic comparisons (2024-2025)\n",
    "4. **Fuel Comparisons**: Product-type analysis  \n",
    "5. **National vs States**: Trend comparisons"
   ]
  },
  {
   "cell_type": "code",
   "execution_count": 16,
   "id": "5a673088",
   "metadata": {},
   "outputs": [
    {
     "name": "stdout",
     "output_type": "stream",
     "text": [
      "✅ All Seaborn plots saved in 'outputs/plots'\n"
     ]
    }
   ],
   "source": [
    "# visualization\n",
    "def set_plot_style():\n",
    "    \"\"\"\n",
    "    Configures the base styling for all plots in the module.\n",
    "    \n",
    "    Applies:\n",
    "    - Whitegrid theme\n",
    "    - DejaVu Serif font family\n",
    "    - Consistent font sizing (titles 14pt, labels 12pt, ticks 10pt)\n",
    "    \"\"\"\n",
    "    sns.set_theme(style=\"whitegrid\")\n",
    "    plt.rcParams.update(\n",
    "        {\n",
    "            \"font.family\": \"DejaVu Serif\",\n",
    "            \"axes.titlesize\": 14,\n",
    "            \"axes.labelsize\": 12,\n",
    "            \"xtick.labelsize\": 10,\n",
    "            \"ytick.labelsize\": 10,\n",
    "        }\n",
    "    )\n",
    "\n",
    "\n",
    "def plot_scatter(df):\n",
    "    \"\"\"\n",
    "    Creates a scatter plot of fuel product prices.\n",
    "    \n",
    "    Args:\n",
    "        df (pd.DataFrame): Cleaned petroleum data containing:\n",
    "            - value: Price values\n",
    "            - product-name: Fuel product categories\n",
    "            \n",
    "    Outputs:\n",
    "        Saves scatter plot to: outputs/plots/Fuel_Product_Prices_YYYY-MM-DD.png\n",
    "    \"\"\"\n",
    "    plt.figure(figsize=(8, 5))\n",
    "    sns.scatterplot(\n",
    "        x=\"value\",\n",
    "        y=\"product-name\",\n",
    "        data=df,\n",
    "        size=\"value\",\n",
    "        hue=\"value\",\n",
    "        sizes=(50, 200),\n",
    "        palette=\"viridis\",\n",
    "        alpha=0.7,\n",
    "    )\n",
    "    plt.title(\"Fuel Product Prices ($/Gallon)\", pad=20)\n",
    "    plt.xlabel(\"Cost ($/GAL)\")\n",
    "    plt.ylabel(\"Product Type\")\n",
    "    plt.legend(bbox_to_anchor=(1.05, 1), loc=\"upper left\")\n",
    "    today_str = date.today().strftime(\"%Y-%m-%d\")\n",
    "    plt.savefig(os.path.join(PLOT_DIR, f\"Fuel_Product_Prices_{today_str}.png\"))\n",
    "    plt.tight_layout()\n",
    "\n",
    "\n",
    "def plot_price_trend(df):\n",
    "    \"\"\"\n",
    "    Creates a line plot showing price trends over time by product.\n",
    "    \n",
    "    Args:\n",
    "        df (pd.DataFrame): Must contain:\n",
    "            - period: Datetime values\n",
    "            - value: Price values\n",
    "            - product-name: Fuel categories\n",
    "            \n",
    "    Outputs:\n",
    "        Saves line plot to: outputs/plots/Prices_Trend_Over_the_Years_YYYY-MM-DD.png\n",
    "    \"\"\"\n",
    "    plt.figure(figsize=(8, 5))\n",
    "    sns.lineplot(x=\"period\", y=\"value\", data=df, hue=\"product-name\", palette=\"husl\")\n",
    "    plt.xticks(rotation=60)\n",
    "    plt.title(\"Prices ($/Gallon) Trend Over the Years\", pad=20)\n",
    "    plt.xlabel(\"Year\")\n",
    "    plt.ylabel(\"Cost ($/GAL)\")\n",
    "    plt.legend(bbox_to_anchor=(1.05, 1), loc=\"upper left\")\n",
    "    today_str = date.today().strftime(\"%Y-%m-%d\")\n",
    "    plt.savefig(\n",
    "        os.path.join(PLOT_DIR, f\"Prices_Prices_Trend_Over_the_Years_{today_str}.png\")\n",
    "    )\n",
    "    plt.tight_layout()\n",
    "\n",
    "\n",
    "def plot_regional_cost(df):\n",
    "    \"\"\"\n",
    "    Creates a bar plot comparing regional costs by product (2024-2025).\n",
    "    \n",
    "    Args:\n",
    "        df (pd.DataFrame): Must contain:\n",
    "            - period: Filtered to 2024-2025\n",
    "            - area-name: Region categories\n",
    "            - product-name: Fuel types\n",
    "            - value: Price values\n",
    "            \n",
    "    Outputs:\n",
    "        Saves bar plot to: outputs/plots/Regional_Cost_by_Area_and_Product_YYYY-MM-DD.png\n",
    "    \"\"\"\n",
    "    data_2024_25 = df[df[\"period\"].dt.year.isin([2024, 2025])]\n",
    "    plt.figure(figsize=(12, 6))\n",
    "    sns.barplot(data=data_2024_25, x=\"area-name\", y=\"value\", hue=\"product-name\")\n",
    "    plt.xticks(rotation=60)\n",
    "    plt.title(\"Regional Cost by Area and Product (2024–2025)\", pad=20)\n",
    "    plt.ylabel(\"Cost ($/GAL)\")\n",
    "    plt.xlabel(\"Region\")\n",
    "    plt.legend(bbox_to_anchor=(1.05, 1), loc=\"upper left\")\n",
    "    today_str = date.today().strftime(\"%Y-%m-%d\")\n",
    "    plt.savefig(\n",
    "        os.path.join(PLOT_DIR, f\"Regional_Cost_by_Area_and_Product_{today_str}.png\")\n",
    "    )\n",
    "    plt.tight_layout()\n",
    "\n",
    "\n",
    "def plot_fuel_type_comparison(df):\n",
    "    \"\"\"\n",
    "    Generate and save a static bar chart comparing fuel prices by product type (2024-2025).\n",
    "    \n",
    "    Creates a grouped bar chart showing cost comparisons between different fuel products\n",
    "    for years 2024 and 2025, with prices grouped by product type and differentiated by year.\n",
    "\n",
    "    Args:\n",
    "        df (pd.DataFrame): Cleaned petroleum data containing:\n",
    "            - period (datetime): Must include 2024 and 2025 data\n",
    "            - value (numeric): Price values\n",
    "            - product-name (str): Fuel product categories\n",
    "            \n",
    "    Outputs:\n",
    "        Saves PNG file to: outputs/plots/Fuel_Type_Cost_Comparison_YYYY-MM-DD.png\n",
    "        \n",
    "    Example:\n",
    "        >>> plot_fuel_type_comparison(cleaned_data)\n",
    "    \"\"\"\n",
    "    data_2024_25 = df[df[\"period\"].dt.year.isin([2024, 2025])]\n",
    "    plt.figure(figsize=(10, 5))\n",
    "    sns.barplot(data=data_2024_25, x=\"product-name\", y=\"value\", hue=\"period\")\n",
    "    plt.xticks(rotation=45)\n",
    "    plt.title(\"Fuel type Cost by Area and Time (2024–2025)\", pad=20)\n",
    "    plt.ylabel(\"Cost ($/GAL)\")\n",
    "    plt.xlabel(\"Product Name\")\n",
    "    plt.legend(bbox_to_anchor=(1.05, 1), loc=\"upper left\")\n",
    "    today_str = date.today().strftime(\"%Y-%m-%d\")\n",
    "    plt.savefig(os.path.join(PLOT_DIR, f\"Fuel_Type_Cost_Comparison_{today_str}.png\"))\n",
    "    plt.tight_layout()\n",
    "\n",
    "\n",
    "def plot_us_trend_vs_states(df):\n",
    "    \"\"\"\n",
    "    Generate and save a static line chart comparing national vs state-level fuel price trends.\n",
    "    \n",
    "    Creates a multi-line plot showing fuel price trends over time, comparing the\n",
    "    national average against individual state/regional trends. Uses a qualitative\n",
    "    color palette to distinguish between regions.\n",
    "\n",
    "    Args:\n",
    "        df (pd.DataFrame): Cleaned petroleum data containing:\n",
    "            - period (datetime): Time series data\n",
    "            - value (numeric): Price values\n",
    "            - area-name (str): Region/state identifiers\n",
    "            \n",
    "    Outputs:\n",
    "        Saves PNG file to: outputs/plots/U_S_National_Trend_vs_States_YYYY-MM-DD.png\n",
    "        \n",
    "    Example:\n",
    "        >>> plot_us_trend_vs_states(cleaned_data)\n",
    "    \"\"\"\n",
    "    plt.figure(figsize=(8, 5))\n",
    "    sns.lineplot(x=\"period\", y=\"value\", data=df, hue=\"area-name\", palette=\"tab20\")\n",
    "    plt.xticks(rotation=60)\n",
    "    plt.title(\"U.S. National Trend vs States\", pad=20)\n",
    "    plt.ylabel(\"Cost ($/GAL)\")\n",
    "    plt.xlabel(\"Year\")\n",
    "    plt.legend(bbox_to_anchor=(1.05, 1), loc=\"upper left\")\n",
    "    plt.tight_layout()\n",
    "    today_str = date.today().strftime(\"%Y-%m-%d\")\n",
    "    plt.savefig(\n",
    "        os.path.join(PLOT_DIR, f\"U_S__National_Trend_vs_States_{today_str}.png\")\n",
    "    )\n",
    "\n",
    "\n",
    "print(f\"✅ All Seaborn plots saved in '{PLOT_DIR}'\")\n"
   ]
  },
  {
   "cell_type": "code",
   "execution_count": 17,
   "id": "5c58b8da",
   "metadata": {},
   "outputs": [],
   "source": [
    "def create_all_charts(df):\n",
    "    \"\"\"\n",
    "    Generates and displays all Plotly interactive visualizations for fuel price analysis.\n",
    "    \n",
    "    Args:\n",
    "        df (pd.DataFrame): Cleaned petroleum data containing:\n",
    "            - period: Date/time information\n",
    "            - value: Numeric price values\n",
    "            - product-name: Fuel product categories\n",
    "            - area-name: Geographic regions\n",
    "            \n",
    "    Returns:\n",
    "        None: Displays interactive charts and shows warning messages for missing data\n",
    "        \n",
    "    Side Effects:\n",
    "        - Opens browser windows/tabs with interactive visualizations\n",
    "        - Prints warnings if expected data is missing\n",
    "    \"\"\"\n",
    "\n",
    "    # Scatter plot: Fuel Product Prices\n",
    "    fig1 = px.scatter(\n",
    "        df,\n",
    "        x='value',\n",
    "        y='product-name',\n",
    "        size='value',\n",
    "        color='value',\n",
    "        color_continuous_scale='viridis',\n",
    "        title=\"Fuel Product Prices ($/Gallon)\",\n",
    "        labels={\"value\": \"Cost ($/GAL)\", \"product-name\": \"Product Type\"},\n",
    "        height=500\n",
    "    )\n",
    "    fig1.show()\n",
    "\n",
    "    # Line plot: Prices trend over the years\n",
    "    fig2 = px.line(\n",
    "        df,\n",
    "        x='period',\n",
    "        y='value',\n",
    "        color='product-name',\n",
    "        title=\"Prices ($/Gallon) Trend Over the Years\",\n",
    "        labels={\"value\": \"Cost ($/GAL)\", \"period\": \"Year\"},\n",
    "        height=500\n",
    "    )\n",
    "    fig2.update_xaxes(tickangle=60)\n",
    "    fig2.show()\n",
    "\n",
    "    # ✅ Fix for regional_data being empty\n",
    "    # Ensure `period` is numeric or matches dataset values\n",
    "    df['period'] = df['period'].astype(str).str.strip()\n",
    "    regional_data = df[df['period'].isin(['2021', '2024', '2025'])]\n",
    "\n",
    "    if regional_data.empty:\n",
    "        print(\"⚠️ No regional data found for 2021, 2024, or 2025.\")\n",
    "    else:\n",
    "        # Bar plot: Regional Cost by Area and Product (2024–2025)\n",
    "        fig3 = px.bar(\n",
    "            regional_data,\n",
    "            x='area-name',\n",
    "            y='value',\n",
    "            color='product-name',\n",
    "            barmode='group',\n",
    "            title=\"Regional Cost by Area and Product (2024–2025)\",\n",
    "            labels={\"value\": \"Cost ($/GAL)\", \"area-name\": \"Region\"},\n",
    "            height=600\n",
    "        )\n",
    "        fig3.update_xaxes(tickangle=60)\n",
    "        fig3.show()\n",
    "\n",
    "        # Bar plot: Fuel type Cost by Area and Time (2024–2025)\n",
    "        fig4 = px.bar(\n",
    "            regional_data,\n",
    "            x='product-name',\n",
    "            y='value',\n",
    "            color='period',\n",
    "            barmode='group',\n",
    "            title=\"Fuel Type Cost by Area and Time (2024–2025)\",\n",
    "            labels={\"value\": \"Cost ($/GAL)\", \"product-name\": \"Product Name\"},\n",
    "            height=500\n",
    "        )\n",
    "        fig4.update_xaxes(tickangle=45)\n",
    "        fig4.show()\n",
    "\n",
    "    # Line plot: U.S. National Trend vs States\n",
    "    fig5 = px.line(\n",
    "        df,\n",
    "        x='period',\n",
    "        y='value',\n",
    "        color='area-name',\n",
    "        title=\"U.S. National Trend vs States (Period)\",\n",
    "        labels={\"value\": \"Cost ($/GAL)\", \"period\": \"Period\"},\n",
    "        height=500\n",
    "    )\n",
    "    fig5.update_xaxes(tickangle=60)\n",
    "    fig5.show()\n"
   ]
  },
  {
   "cell_type": "markdown",
   "id": "944cb5fa",
   "metadata": {},
   "source": [
    "## 4. Pipeline Execution\n",
    "Running the complete workflow:"
   ]
  },
  {
   "cell_type": "code",
   "execution_count": 18,
   "id": "713bb9ca",
   "metadata": {},
   "outputs": [
    {
     "data": {
      "image/png": "[encoded data removed]",
      "text/plain": [
       "<Figure size 800x500 with 1 Axes>"
      ]
     },
     "metadata": {},
     "output_type": "display_data"
    },
    {
     "data": {
      "image/png": "[encoded data removed]",
      "text/plain": [
       "<Figure size 800x500 with 1 Axes>"
      ]
     },
     "metadata": {},
     "output_type": "display_data"
    },
    {
     "data": {
      "image/png": "[encoded data removed]",
      "text/plain": [
       "<Figure size 1200x600 with 1 Axes>"
      ]
     },
     "metadata": {},
     "output_type": "display_data"
    },
    {
     "data": {
      "image/png": "[encoded data removed]",
      "text/plain": [
       "<Figure size 1000x500 with 1 Axes>"
      ]
     },
     "metadata": {},
     "output_type": "display_data"
    },
    {
     "data": {
      "image/png": "[encoded data removed]",
      "text/plain": [
       "<Figure size 800x500 with 1 Axes>"
      ]
     },
     "metadata": {},
     "output_type": "display_data"
    }
   ],
   "source": [
    "# Main execution\n",
    "if __name__ == \"__main__\":\n",
    "    set_plot_style()\n",
    "\n",
    "    # Fetch data\n",
    "    API_KEY = os.getenv(\"EIA_API_KEY\", \"eg3hiIakLLsprBiSiTVP4C1Wz0NeLYPLISKYe5ap\")\n",
    "    df = fetch_petroleum_data(API_KEY)\n",
    "\n",
    "    # Clean data\n",
    "    df = clean_petroleum_data(df)\n",
    "\n",
    "    # Generate Visualizations (seaborn)\n",
    "    plot_scatter(df)\n",
    "    plot_price_trend(df)\n",
    "    plot_regional_cost(df)\n",
    "    plot_fuel_type_comparison(df)\n",
    "    plot_us_trend_vs_states(df)\n",
    "\n",
    "    plt.show()"
   ]
  },
  {
   "cell_type": "markdown",
   "id": "2c7ac270",
   "metadata": {},
   "source": [
    "**Utilizing Plotly to create an interactive chart of the charts above**"
   ]
  },
  {
   "cell_type": "code",
   "execution_count": 19,
   "id": "c9fa9c33",
   "metadata": {},
   "outputs": [
    {
     "data": {
      "application/vnd.plotly.v1+json": {
       "config": {
        "plotlyServerURL": "https://plot.ly"
       },
       "data": [
        {
         "hovertemplate": "Cost ($/GAL)=%{marker.color}<br>Product Type=%{y}<extra></extra>",
         "legendgroup": "",
         "marker": {
          "color": {
           "bdata": "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",
           "dtype": "f8"
          },
          "coloraxis": "coloraxis",
          "size": {
           "bdata": "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",
           "dtype": "f8"
          },
          "sizemode": "area",
          "sizeref": 0.013515,
          "symbol": "circle"
         },
         "mode": "markers",
         "name": "",
         "showlegend": false,
         "type": "scattergl",
         "x": {
          "bdata": "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",
          "dtype": "f8"
         },
         "xaxis": "x",
         "y": [
          "Regular Gasoline",
          "Reformulated Motor Gasoline",
          "Regular Gasoline",
          "Premium Gasoline",
          "Total Gasoline",
          "Reformulated Motor Gasoline",
          "Premium Gasoline",
          "Reformulated Motor Gasoline",
          "Reformulated Motor Gasoline",
          "Premium Gasoline",
          "Total Gasoline",
          "Total Gasoline",
          "Premium Gasoline",
          "Reformulated Motor Gasoline",
          "Total Gasoline",
          "Reformulated Motor Gasoline",
          "No 2 Diesel",
          "Total Gasoline",
          "Regular Gasoline",
          "Regular Gasoline",
          "No 2 Diesel",
          "Reformulated Motor Gasoline",
          "Regular Gasoline",
          "Total Gasoline",
          "No 2 Diesel",
          "No 2 Diesel",
          "Premium Gasoline",
          "Premium Gasoline",
          "Total Gasoline",
          "Premium Gasoline",
          "No 2 Diesel",
          "Premium Gasoline",
          "Premium Gasoline",
          "Reformulated Motor Gasoline",
          "Regular Gasoline",
          "Reformulated Motor Gasoline",
          "No 2 Diesel",
          "Regular Gasoline",
          "Regular Gasoline",
          "Total Gasoline",
          "Regular Gasoline",
          "Total Gasoline",
          "Regular Gasoline",
          "No 2 Diesel",
          "No 2 Diesel",
          "No 2 Diesel",
          "Premium Gasoline",
          "Total Gasoline",
          "Total Gasoline",
          "Regular Gasoline",
          "Premium Gasoline",
          "Reformulated Motor Gasoline",
          "Reformulated Motor Gasoline",
          "No 2 Diesel",
          "Reformulated Motor Gasoline",
          "No 2 Diesel",
          "Total Gasoline",
          "Premium Gasoline",
          "Premium Gasoline",
          "Reformulated Motor Gasoline",
          "Total Gasoline",
          "Premium Gasoline",
          "Reformulated Motor Gasoline",
          "Regular Gasoline",
          "Total Gasoline",
          "Total Gasoline",
          "No 2 Diesel",
          "Regular Gasoline",
          "No 2 Diesel",
          "Total Gasoline",
          "Total Gasoline",
          "Total Gasoline",
          "Reformulated Motor Gasoline",
          "No 2 Diesel",
          "Premium Gasoline",
          "No 2 Diesel",
          "Regular Gasoline",
          "Premium Gasoline",
          "Regular Gasoline",
          "Premium Gasoline",
          "Total Gasoline",
          "Regular Gasoline",
          "Total Gasoline",
          "Regular Gasoline",
          "No 2 Diesel",
          "Premium Gasoline",
          "Premium Gasoline",
          "Reformulated Motor Gasoline",
          "Premium Gasoline",
          "Reformulated Motor Gasoline",
          "Regular Gasoline",
          "Regular Gasoline",
          "Regular Gasoline",
          "Reformulated Motor Gasoline",
          "No 2 Diesel",
          "No 2 Diesel",
          "Total Gasoline",
          "Total Gasoline",
          "Regular Gasoline",
          "Regular Gasoline",
          "No 2 Diesel",
          "Reformulated Motor Gasoline",
          "Regular Gasoline",
          "Premium Gasoline",
          "Reformulated Motor Gasoline",
          "Total Gasoline",
          "No 2 Diesel",
          "Regular Gasoline",
          "No 2 Diesel",
          "Regular Gasoline",
          "Premium Gasoline",
          "No 2 Diesel",
          "No 2 Diesel",
          "Total Gasoline",
          "No 2 Diesel",
          "No 2 Diesel",
          "Reformulated Motor Gasoline",
          "Premium Gasoline",
          "Reformulated Motor Gasoline",
          "Total Gasoline",
          "No 2 Diesel",
          "Premium Gasoline",
          "Reformulated Motor Gasoline",
          "Premium Gasoline",
          "Regular Gasoline",
          "Total Gasoline",
          "Premium Gasoline",
          "Premium Gasoline",
          "Total Gasoline",
          "Regular Gasoline",
          "Premium Gasoline",
          "Reformulated Motor Gasoline",
          "Regular Gasoline",
          "Premium Gasoline",
          "Reformulated Motor Gasoline",
          "Premium Gasoline",
          "No 2 Diesel",
          "Reformulated Motor Gasoline",
          "Regular Gasoline",
          "Reformulated Motor Gasoline",
          "Total Gasoline",
          "Total Gasoline",
          "Regular Gasoline",
          "Total Gasoline",
          "Total Gasoline",
          "Premium Gasoline",
          "Premium Gasoline",
          "Total Gasoline",
          "Total Gasoline",
          "Reformulated Motor Gasoline",
          "Total Gasoline",
          "No 2 Diesel",
          "No 2 Diesel",
          "No 2 Diesel",
          "Total Gasoline",
          "No 2 Diesel",
          "Total Gasoline",
          "Premium Gasoline",
          "No 2 Diesel",
          "Reformulated Motor Gasoline",
          "Regular Gasoline",
          "Premium Gasoline",
          "Reformulated Motor Gasoline",
          "Premium Gasoline",
          "Reformulated Motor Gasoline",
          "Regular Gasoline",
          "Premium Gasoline",
          "Total Gasoline",
          "Total Gasoline",
          "Regular Gasoline",
          "Reformulated Motor Gasoline",
          "Regular Gasoline",
          "No 2 Diesel",
          "Regular Gasoline",
          "No 2 Diesel",
          "Total Gasoline",
          "Reformulated Motor Gasoline",
          "Total Gasoline",
          "Reformulated Motor Gasoline",
          "Premium Gasoline",
          "Reformulated Motor Gasoline",
          "Premium Gasoline",
          "Regular Gasoline",
          "Premium Gasoline",
          "Regular Gasoline",
          "Regular Gasoline",
          "No 2 Diesel",
          "No 2 Diesel",
          "Regular Gasoline",
          "Reformulated Motor Gasoline",
          "Regular Gasoline",
          "Premium Gasoline",
          "Total Gasoline",
          "Regular Gasoline",
          "No 2 Diesel",
          "No 2 Diesel",
          "No 2 Diesel",
          "Premium Gasoline",
          "No 2 Diesel",
          "Total Gasoline",
          "No 2 Diesel",
          "Regular Gasoline",
          "Premium Gasoline",
          "Reformulated Motor Gasoline",
          "Total Gasoline",
          "Premium Gasoline",
          "Regular Gasoline",
          "Reformulated Motor Gasoline",
          "Total Gasoline",
          "Regular Gasoline",
          "Premium Gasoline",
          "Reformulated Motor Gasoline",
          "Total Gasoline",
          "No 2 Diesel",
          "Premium Gasoline",
          "Total Gasoline",
          "Total Gasoline",
          "No 2 Diesel",
          "Reformulated Motor Gasoline",
          "Reformulated Motor Gasoline",
          "Total Gasoline",
          "No 2 Diesel",
          "Regular Gasoline",
          "Reformulated Motor Gasoline",
          "Reformulated Motor Gasoline",
          "Reformulated Motor Gasoline",
          "Total Gasoline",
          "Reformulated Motor Gasoline",
          "No 2 Diesel",
          "Regular Gasoline",
          "Regular Gasoline",
          "Premium Gasoline",
          "Regular Gasoline",
          "Premium Gasoline",
          "Premium Gasoline",
          "Premium Gasoline",
          "Regular Gasoline",
          "Premium Gasoline",
          "Regular Gasoline",
          "Total Gasoline",
          "Total Gasoline",
          "Reformulated Motor Gasoline",
          "Regular Gasoline",
          "Regular Gasoline",
          "Regular Gasoline",
          "Reformulated Motor Gasoline",
          "No 2 Diesel",
          "No 2 Diesel",
          "Regular Gasoline",
          "Total Gasoline",
          "Regular Gasoline",
          "Premium Gasoline",
          "Total Gasoline",
          "Reformulated Motor Gasoline",
          "Regular Gasoline",
          "Total Gasoline",
          "No 2 Diesel",
          "Regular Gasoline",
          "Total Gasoline",
          "No 2 Diesel",
          "Regular Gasoline",
          "Premium Gasoline",
          "Regular Gasoline",
          "Premium Gasoline",
          "Reformulated Motor Gasoline",
          "Premium Gasoline",
          "Premium Gasoline",
          "Total Gasoline",
          "Reformulated Motor Gasoline",
          "No 2 Diesel",
          "Premium Gasoline",
          "Regular Gasoline",
          "Premium Gasoline",
          "Reformulated Motor Gasoline",
          "Total Gasoline",
          "No 2 Diesel",
          "Premium Gasoline",
          "Reformulated Motor Gasoline",
          "Premium Gasoline",
          "Total Gasoline",
          "Reformulated Motor Gasoline",
          "No 2 Diesel",
          "Premium Gasoline",
          "Reformulated Motor Gasoline",
          "No 2 Diesel",
          "Total Gasoline",
          "No 2 Diesel",
          "Total Gasoline",
          "Premium Gasoline",
          "Regular Gasoline",
          "Regular Gasoline",
          "Regular Gasoline",
          "Premium Gasoline",
          "Reformulated Motor Gasoline",
          "Reformulated Motor Gasoline",
          "Reformulated Motor Gasoline",
          "Total Gasoline",
          "No 2 Diesel",
          "Premium Gasoline",
          "Premium Gasoline",
          "No 2 Diesel Low Sulfur (0-15 Ppm)",
          "No 2 Diesel",
          "Regular Gasoline",
          "Reformulated Motor Gasoline",
          "No 2 Diesel",
          "Regular Gasoline",
          "Total Gasoline",
          "Regular Gasoline",
          "No 2 Diesel",
          "No 2 Diesel Low Sulfur (0-15 Ppm)",
          "No 2 Diesel",
          "No 2 Diesel Low Sulfur (0-15 Ppm)",
          "Total Gasoline",
          "Reformulated Motor Gasoline",
          "Total Gasoline",
          "Total Gasoline",
          "No 2 Diesel",
          "No 2 Diesel Low Sulfur (0-15 Ppm)",
          "Premium Gasoline",
          "Premium Gasoline",
          "No 2 Diesel",
          "No 2 Diesel",
          "Premium Gasoline",
          "Reformulated Motor Gasoline",
          "Regular Gasoline",
          "Reformulated Motor Gasoline",
          "Reformulated Motor Gasoline",
          "Total Gasoline",
          "Regular Gasoline",
          "No 2 Diesel Low Sulfur (0-15 Ppm)",
          "Premium Gasoline",
          "No 2 Diesel Low Sulfur (0-15 Ppm)",
          "Reformulated Motor Gasoline",
          "Total Gasoline",
          "Regular Gasoline",
          "Regular Gasoline",
          "Total Gasoline",
          "No 2 Diesel Low Sulfur (0-15 Ppm)",
          "Premium Gasoline",
          "No 2 Diesel Low Sulfur (0-15 Ppm)",
          "Total Gasoline",
          "No 2 Diesel Low Sulfur (0-15 Ppm)",
          "No 2 Diesel",
          "Premium Gasoline",
          "Total Gasoline",
          "Total Gasoline",
          "Regular Gasoline",
          "Total Gasoline",
          "Regular Gasoline",
          "Total Gasoline",
          "No 2 Diesel",
          "Reformulated Motor Gasoline",
          "No 2 Diesel Low Sulfur (0-15 Ppm)",
          "Regular Gasoline",
          "Regular Gasoline",
          "No 2 Diesel Low Sulfur (0-15 Ppm)",
          "Total Gasoline",
          "No 2 Diesel",
          "No 2 Diesel Low Sulfur (0-15 Ppm)",
          "No 2 Diesel",
          "No 2 Diesel Low Sulfur (0-15 Ppm)",
          "No 2 Diesel",
          "Premium Gasoline",
          "Premium Gasoline",
          "Reformulated Motor Gasoline",
          "Regular Gasoline",
          "No 2 Diesel",
          "Total Gasoline",
          "Reformulated Motor Gasoline",
          "Reformulated Motor Gasoline",
          "No 2 Diesel",
          "Premium Gasoline",
          "Total Gasoline",
          "Reformulated Motor Gasoline",
          "Premium Gasoline",
          "Total Gasoline",
          "No 2 Diesel",
          "Reformulated Motor Gasoline",
          "Regular Gasoline",
          "Total Gasoline",
          "Regular Gasoline",
          "Total Gasoline",
          "Premium Gasoline",
          "Regular Gasoline",
          "Reformulated Motor Gasoline",
          "Reformulated Motor Gasoline",
          "No 2 Diesel",
          "No 2 Diesel Low Sulfur (0-15 Ppm)",
          "No 2 Diesel",
          "Premium Gasoline",
          "Regular Gasoline",
          "Premium Gasoline",
          "Premium Gasoline",
          "Reformulated Motor Gasoline",
          "Regular Gasoline",
          "No 2 Diesel Low Sulfur (0-15 Ppm)",
          "Premium Gasoline",
          "No 2 Diesel Low Sulfur (0-15 Ppm)",
          "No 2 Diesel Low Sulfur (0-15 Ppm)",
          "Premium Gasoline",
          "Total Gasoline",
          "No 2 Diesel Low Sulfur (0-15 Ppm)",
          "Reformulated Motor Gasoline",
          "Reformulated Motor Gasoline",
          "Reformulated Motor Gasoline",
          "No 2 Diesel",
          "Regular Gasoline",
          "Premium Gasoline",
          "Total Gasoline",
          "Total Gasoline",
          "Reformulated Motor Gasoline",
          "Regular Gasoline",
          "Premium Gasoline",
          "Premium Gasoline",
          "No 2 Diesel Low Sulfur (0-15 Ppm)",
          "Reformulated Motor Gasoline",
          "No 2 Diesel Low Sulfur (0-15 Ppm)",
          "No 2 Diesel Low Sulfur (0-15 Ppm)",
          "No 2 Diesel",
          "Regular Gasoline",
          "Regular Gasoline",
          "No 2 Diesel Low Sulfur (0-15 Ppm)",
          "No 2 Diesel",
          "Regular Gasoline",
          "Premium Gasoline",
          "No 2 Diesel",
          "Regular Gasoline",
          "Regular Gasoline",
          "Total Gasoline",
          "Total Gasoline",
          "Reformulated Motor Gasoline",
          "No 2 Diesel",
          "Premium Gasoline",
          "Total Gasoline",
          "No 2 Diesel",
          "Regular Gasoline",
          "No 2 Diesel Low Sulfur (0-15 Ppm)",
          "No 2 Diesel",
          "No 2 Diesel Low Sulfur (0-15 Ppm)",
          "Regular Gasoline",
          "No 2 Diesel",
          "Total Gasoline",
          "Regular Gasoline",
          "Total Gasoline",
          "Reformulated Motor Gasoline",
          "Reformulated Motor Gasoline",
          "Premium Gasoline",
          "No 2 Diesel Low Sulfur (0-15 Ppm)",
          "Total Gasoline",
          "Premium Gasoline",
          "No 2 Diesel Low Sulfur (0-15 Ppm)",
          "Premium Gasoline",
          "Total Gasoline",
          "Premium Gasoline",
          "Total Gasoline",
          "No 2 Diesel",
          "No 2 Diesel Low Sulfur (0-15 Ppm)",
          "Reformulated Motor Gasoline",
          "Premium Gasoline",
          "No 2 Diesel",
          "Regular Gasoline",
          "Regular Gasoline",
          "No 2 Diesel",
          "Regular Gasoline",
          "No 2 Diesel",
          "No 2 Diesel Low Sulfur (0-15 Ppm)",
          "Premium Gasoline",
          "Regular Gasoline",
          "Premium Gasoline",
          "Reformulated Motor Gasoline",
          "Premium Gasoline",
          "Total Gasoline",
          "No 2 Diesel",
          "No 2 Diesel",
          "Premium Gasoline",
          "Premium Gasoline",
          "No 2 Diesel Low Sulfur (0-15 Ppm)",
          "No 2 Diesel",
          "No 2 Diesel Low Sulfur (0-15 Ppm)",
          "Regular Gasoline",
          "No 2 Diesel",
          "Total Gasoline",
          "Total Gasoline",
          "Regular Gasoline",
          "Reformulated Motor Gasoline",
          "Reformulated Motor Gasoline",
          "Total Gasoline",
          "Reformulated Motor Gasoline",
          "Total Gasoline",
          "Premium Gasoline",
          "Reformulated Motor Gasoline",
          "No 2 Diesel Low Sulfur (0-15 Ppm)",
          "Total Gasoline",
          "No 2 Diesel Low Sulfur (0-15 Ppm)",
          "No 2 Diesel",
          "Regular Gasoline",
          "No 2 Diesel Low Sulfur (0-15 Ppm)",
          "Reformulated Motor Gasoline",
          "No 2 Diesel Low Sulfur (0-15 Ppm)",
          "Reformulated Motor Gasoline",
          "No 2 Diesel Low Sulfur (0-15 Ppm)",
          "Total Gasoline",
          "Reformulated Motor Gasoline",
          "Premium Gasoline",
          "Premium Gasoline",
          "Total Gasoline",
          "Regular Gasoline",
          "Reformulated Motor Gasoline",
          "No 2 Diesel Low Sulfur (0-15 Ppm)",
          "Premium Gasoline",
          "Regular Gasoline",
          "No 2 Diesel",
          "Total Gasoline",
          "Total Gasoline",
          "Premium Gasoline",
          "Regular Gasoline",
          "Reformulated Motor Gasoline",
          "Regular Gasoline",
          "Regular Gasoline",
          "No 2 Diesel Low Sulfur (0-15 Ppm)",
          "Regular Gasoline",
          "Regular Gasoline",
          "No 2 Diesel",
          "No 2 Diesel Low Sulfur (0-15 Ppm)",
          "Regular Gasoline",
          "Total Gasoline",
          "Premium Gasoline",
          "Total Gasoline",
          "Premium Gasoline",
          "No 2 Diesel Low Sulfur (0-15 Ppm)",
          "Total Gasoline",
          "Total Gasoline",
          "No 2 Diesel",
          "Regular Gasoline",
          "Premium Gasoline",
          "Regular Gasoline",
          "Reformulated Motor Gasoline",
          "No 2 Diesel",
          "Reformulated Motor Gasoline",
          "No 2 Diesel Low Sulfur (0-15 Ppm)",
          "Regular Gasoline",
          "Premium Gasoline",
          "Reformulated Motor Gasoline",
          "No 2 Diesel Low Sulfur (0-15 Ppm)",
          "No 2 Diesel",
          "Total Gasoline",
          "No 2 Diesel",
          "Reformulated Motor Gasoline",
          "No 2 Diesel",
          "Premium Gasoline",
          "Premium Gasoline",
          "Premium Gasoline",
          "Premium Gasoline",
          "No 2 Diesel",
          "Total Gasoline",
          "No 2 Diesel Low Sulfur (0-15 Ppm)",
          "Premium Gasoline",
          "No 2 Diesel Low Sulfur (0-15 Ppm)",
          "Total Gasoline",
          "No 2 Diesel",
          "Total Gasoline",
          "Reformulated Motor Gasoline",
          "Total Gasoline",
          "Regular Gasoline",
          "No 2 Diesel",
          "Premium Gasoline",
          "No 2 Diesel Low Sulfur (0-15 Ppm)",
          "No 2 Diesel",
          "Reformulated Motor Gasoline",
          "Reformulated Motor Gasoline",
          "No 2 Diesel Low Sulfur (0-15 Ppm)",
          "Regular Gasoline",
          "Total Gasoline",
          "No 2 Diesel Low Sulfur (0-15 Ppm)",
          "Reformulated Motor Gasoline",
          "Premium Gasoline",
          "Premium Gasoline",
          "Regular Gasoline",
          "Total Gasoline",
          "Regular Gasoline",
          "Regular Gasoline",
          "Premium Gasoline",
          "Total Gasoline",
          "No 2 Diesel",
          "No 2 Diesel",
          "Total Gasoline",
          "No 2 Diesel Low Sulfur (0-15 Ppm)",
          "Regular Gasoline",
          "Total Gasoline",
          "No 2 Diesel",
          "Reformulated Motor Gasoline",
          "Reformulated Motor Gasoline",
          "No 2 Diesel Low Sulfur (0-15 Ppm)",
          "No 2 Diesel Low Sulfur (0-15 Ppm)",
          "Premium Gasoline",
          "No 2 Diesel Low Sulfur (0-15 Ppm)",
          "No 2 Diesel Low Sulfur (0-15 Ppm)",
          "Regular Gasoline",
          "Premium Gasoline",
          "No 2 Diesel",
          "Regular Gasoline",
          "Reformulated Motor Gasoline",
          "Total Gasoline",
          "No 2 Diesel Low Sulfur (0-15 Ppm)",
          "Reformulated Motor Gasoline",
          "Premium Gasoline",
          "No 2 Diesel",
          "No 2 Diesel Low Sulfur (0-15 Ppm)",
          "Premium Gasoline",
          "Reformulated Motor Gasoline",
          "No 2 Diesel Low Sulfur (0-15 Ppm)",
          "No 2 Diesel Low Sulfur (0-15 Ppm)",
          "Total Gasoline",
          "No 2 Diesel",
          "Regular Gasoline",
          "Reformulated Motor Gasoline",
          "No 2 Diesel",
          "Regular Gasoline",
          "No 2 Diesel Low Sulfur (0-15 Ppm)",
          "No 2 Diesel",
          "Reformulated Motor Gasoline",
          "No 2 Diesel",
          "Reformulated Motor Gasoline",
          "Regular Gasoline",
          "Premium Gasoline",
          "Total Gasoline",
          "Premium Gasoline",
          "Total Gasoline",
          "No 2 Diesel",
          "Total Gasoline",
          "Premium Gasoline",
          "Reformulated Motor Gasoline",
          "Total Gasoline",
          "Regular Gasoline",
          "No 2 Diesel Low Sulfur (0-15 Ppm)",
          "Total Gasoline",
          "No 2 Diesel Low Sulfur (0-15 Ppm)",
          "Reformulated Motor Gasoline",
          "Total Gasoline",
          "No 2 Diesel",
          "Reformulated Motor Gasoline",
          "Premium Gasoline",
          "No 2 Diesel Low Sulfur (0-15 Ppm)",
          "No 2 Diesel",
          "Regular Gasoline",
          "Premium Gasoline",
          "Total Gasoline",
          "Reformulated Motor Gasoline",
          "Premium Gasoline",
          "Regular Gasoline",
          "No 2 Diesel Low Sulfur (0-15 Ppm)",
          "No 2 Diesel",
          "Regular Gasoline",
          "Total Gasoline",
          "Total Gasoline",
          "Total Gasoline",
          "No 2 Diesel Low Sulfur (0-15 Ppm)",
          "Total Gasoline",
          "Regular Gasoline",
          "Premium Gasoline",
          "Regular Gasoline",
          "No 2 Diesel Low Sulfur (0-15 Ppm)",
          "No 2 Diesel Low Sulfur (0-15 Ppm)",
          "Regular Gasoline",
          "Premium Gasoline",
          "Regular Gasoline",
          "Premium Gasoline",
          "No 2 Diesel",
          "Reformulated Motor Gasoline",
          "No 2 Diesel Low Sulfur (0-15 Ppm)",
          "Total Gasoline",
          "Total Gasoline",
          "Regular Gasoline",
          "No 2 Diesel",
          "Premium Gasoline",
          "No 2 Diesel",
          "Total Gasoline",
          "Reformulated Motor Gasoline",
          "No 2 Diesel",
          "Premium Gasoline",
          "Regular Gasoline",
          "Reformulated Motor Gasoline",
          "No 2 Diesel",
          "Premium Gasoline",
          "Reformulated Motor Gasoline",
          "No 2 Diesel Low Sulfur (0-15 Ppm)",
          "Reformulated Motor Gasoline",
          "No 2 Diesel",
          "Premium Gasoline",
          "No 2 Diesel Low Sulfur (0-15 Ppm)",
          "No 2 Diesel",
          "Regular Gasoline",
          "Reformulated Motor Gasoline",
          "No 2 Diesel Low Sulfur (0-15 Ppm)",
          "No 2 Diesel",
          "Total Gasoline",
          "Regular Gasoline",
          "No 2 Diesel Low Sulfur (0-15 Ppm)",
          "Total Gasoline",
          "No 2 Diesel",
          "Reformulated Motor Gasoline",
          "Total Gasoline",
          "Premium Gasoline",
          "No 2 Diesel",
          "Reformulated Motor Gasoline",
          "No 2 Diesel",
          "Reformulated Motor Gasoline",
          "Reformulated Motor Gasoline",
          "No 2 Diesel Low Sulfur (0-15 Ppm)",
          "Premium Gasoline",
          "Total Gasoline",
          "Reformulated Motor Gasoline",
          "Reformulated Motor Gasoline",
          "Regular Gasoline",
          "Premium Gasoline",
          "No 2 Diesel",
          "No 2 Diesel",
          "Premium Gasoline",
          "Regular Gasoline",
          "Total Gasoline",
          "Regular Gasoline",
          "Reformulated Motor Gasoline",
          "No 2 Diesel Low Sulfur (0-15 Ppm)",
          "No 2 Diesel",
          "Regular Gasoline",
          "Regular Gasoline",
          "Reformulated Motor Gasoline",
          "Total Gasoline",
          "Premium Gasoline",
          "No 2 Diesel Low Sulfur (0-15 Ppm)",
          "No 2 Diesel Low Sulfur (0-15 Ppm)",
          "No 2 Diesel Low Sulfur (0-15 Ppm)",
          "No 2 Diesel Low Sulfur (0-15 Ppm)",
          "Regular Gasoline",
          "Reformulated Motor Gasoline",
          "No 2 Diesel Low Sulfur (0-15 Ppm)",
          "No 2 Diesel Low Sulfur (0-15 Ppm)",
          "Total Gasoline",
          "Premium Gasoline",
          "Total Gasoline",
          "Premium Gasoline",
          "No 2 Diesel",
          "Total Gasoline",
          "Premium Gasoline",
          "Regular Gasoline",
          "Premium Gasoline",
          "Premium Gasoline",
          "Regular Gasoline",
          "Total Gasoline",
          "No 2 Diesel",
          "No 2 Diesel",
          "Regular Gasoline",
          "Reformulated Motor Gasoline",
          "Reformulated Motor Gasoline",
          "Regular Gasoline",
          "No 2 Diesel Low Sulfur (0-15 Ppm)",
          "No 2 Diesel",
          "No 2 Diesel",
          "Reformulated Motor Gasoline",
          "No 2 Diesel",
          "Premium Gasoline",
          "No 2 Diesel",
          "Premium Gasoline",
          "Reformulated Motor Gasoline",
          "Premium Gasoline",
          "Reformulated Motor Gasoline",
          "Premium Gasoline",
          "Premium Gasoline",
          "Total Gasoline",
          "No 2 Diesel Low Sulfur (0-15 Ppm)",
          "Regular Gasoline",
          "Total Gasoline",
          "Total Gasoline",
          "No 2 Diesel",
          "Regular Gasoline",
          "Reformulated Motor Gasoline",
          "No 2 Diesel",
          "Premium Gasoline",
          "Premium Gasoline",
          "Regular Gasoline",
          "Reformulated Motor Gasoline",
          "No 2 Diesel Low Sulfur (0-15 Ppm)",
          "No 2 Diesel",
          "No 2 Diesel",
          "No 2 Diesel Low Sulfur (0-15 Ppm)",
          "No 2 Diesel Low Sulfur (0-15 Ppm)",
          "No 2 Diesel Low Sulfur (0-15 Ppm)",
          "No 2 Diesel Low Sulfur (0-15 Ppm)",
          "Regular Gasoline",
          "No 2 Diesel",
          "Regular Gasoline",
          "Total Gasoline",
          "Regular Gasoline",
          "Reformulated Motor Gasoline",
          "Total Gasoline",
          "Regular Gasoline",
          "No 2 Diesel Low Sulfur (0-15 Ppm)",
          "Total Gasoline",
          "No 2 Diesel Low Sulfur (0-15 Ppm)",
          "Total Gasoline",
          "Total Gasoline",
          "No 2 Diesel",
          "Total Gasoline",
          "No 2 Diesel Low Sulfur (0-15 Ppm)",
          "Premium Gasoline",
          "Regular Gasoline",
          "Reformulated Motor Gasoline",
          "Premium Gasoline",
          "Total Gasoline",
          "Regular Gasoline",
          "Premium Gasoline",
          "No 2 Diesel Low Sulfur (0-15 Ppm)",
          "Regular Gasoline",
          "No 2 Diesel",
          "Premium Gasoline",
          "Total Gasoline",
          "Reformulated Motor Gasoline",
          "Premium Gasoline",
          "Regular Gasoline",
          "Regular Gasoline",
          "Reformulated Motor Gasoline",
          "Regular Gasoline",
          "Reformulated Motor Gasoline",
          "Premium Gasoline",
          "No 2 Diesel Low Sulfur (0-15 Ppm)",
          "No 2 Diesel",
          "Regular Gasoline",
          "Regular Gasoline",
          "No 2 Diesel",
          "No 2 Diesel Low Sulfur (0-15 Ppm)",
          "Total Gasoline",
          "Total Gasoline",
          "Premium Gasoline",
          "No 2 Diesel Low Sulfur (0-15 Ppm)",
          "Regular Gasoline",
          "Premium Gasoline",
          "Premium Gasoline",
          "No 2 Diesel",
          "Premium Gasoline",
          "No 2 Diesel Low Sulfur (0-15 Ppm)",
          "No 2 Diesel Low Sulfur (0-15 Ppm)",
          "Total Gasoline",
          "No 2 Diesel Low Sulfur (0-15 Ppm)",
          "Regular Gasoline",
          "No 2 Diesel Low Sulfur (0-15 Ppm)",
          "No 2 Diesel",
          "No 2 Diesel",
          "Total Gasoline",
          "Reformulated Motor Gasoline",
          "Regular Gasoline",
          "Reformulated Motor Gasoline",
          "No 2 Diesel Low Sulfur (0-15 Ppm)",
          "Reformulated Motor Gasoline",
          "Premium Gasoline",
          "Reformulated Motor Gasoline",
          "Total Gasoline",
          "No 2 Diesel Low Sulfur (0-15 Ppm)",
          "Total Gasoline",
          "No 2 Diesel",
          "Premium Gasoline",
          "Premium Gasoline",
          "Reformulated Motor Gasoline",
          "Total Gasoline",
          "No 2 Diesel",
          "No 2 Diesel",
          "Regular Gasoline",
          "Total Gasoline",
          "No 2 Diesel",
          "Reformulated Motor Gasoline",
          "Total Gasoline",
          "Regular Gasoline",
          "Premium Gasoline",
          "Regular Gasoline",
          "Total Gasoline",
          "No 2 Diesel Low Sulfur (0-15 Ppm)",
          "Regular Gasoline",
          "Total Gasoline",
          "Premium Gasoline",
          "No 2 Diesel",
          "No 2 Diesel Low Sulfur (0-15 Ppm)",
          "No 2 Diesel",
          "Premium Gasoline",
          "Reformulated Motor Gasoline",
          "Total Gasoline",
          "No 2 Diesel",
          "No 2 Diesel",
          "Premium Gasoline",
          "Regular Gasoline",
          "No 2 Diesel",
          "Regular Gasoline",
          "No 2 Diesel",
          "Regular Gasoline",
          "No 2 Diesel Low Sulfur (0-15 Ppm)",
          "Premium Gasoline",
          "No 2 Diesel",
          "Total Gasoline",
          "Premium Gasoline",
          "Premium Gasoline",
          "Reformulated Motor Gasoline",
          "Premium Gasoline",
          "Total Gasoline",
          "Reformulated Motor Gasoline",
          "Total Gasoline",
          "Reformulated Motor Gasoline",
          "Total Gasoline",
          "Reformulated Motor Gasoline",
          "No 2 Diesel",
          "Total Gasoline",
          "Regular Gasoline",
          "Regular Gasoline",
          "Total Gasoline",
          "No 2 Diesel Low Sulfur (0-15 Ppm)",
          "No 2 Diesel Low Sulfur (0-15 Ppm)",
          "Regular Gasoline",
          "Reformulated Motor Gasoline",
          "Premium Gasoline",
          "No 2 Diesel Low Sulfur (0-15 Ppm)",
          "Total Gasoline",
          "No 2 Diesel Low Sulfur (0-15 Ppm)",
          "No 2 Diesel",
          "Reformulated Motor Gasoline",
          "No 2 Diesel",
          "No 2 Diesel Low Sulfur (0-15 Ppm)",
          "No 2 Diesel Low Sulfur (0-15 Ppm)",
          "Reformulated Motor Gasoline",
          "No 2 Diesel Low Sulfur (0-15 Ppm)",
          "Reformulated Motor Gasoline",
          "Regular Gasoline",
          "Premium Gasoline",
          "Total Gasoline",
          "Premium Gasoline",
          "Reformulated Motor Gasoline",
          "Regular Gasoline",
          "Premium Gasoline",
          "No 2 Diesel Low Sulfur (0-15 Ppm)",
          "Regular Gasoline",
          "Premium Gasoline",
          "Reformulated Motor Gasoline",
          "Total Gasoline",
          "Regular Gasoline",
          "Regular Gasoline",
          "Total Gasoline",
          "No 2 Diesel Low Sulfur (0-15 Ppm)",
          "Reformulated Motor Gasoline",
          "Premium Gasoline",
          "Premium Gasoline",
          "No 2 Diesel",
          "Total Gasoline",
          "Total Gasoline",
          "No 2 Diesel",
          "Regular Gasoline",
          "Reformulated Motor Gasoline",
          "No 2 Diesel Low Sulfur (0-15 Ppm)",
          "Regular Gasoline",
          "No 2 Diesel",
          "No 2 Diesel Low Sulfur (0-15 Ppm)",
          "No 2 Diesel Low Sulfur (0-15 Ppm)",
          "No 2 Diesel Low Sulfur (0-15 Ppm)",
          "Regular Gasoline",
          "No 2 Diesel Low Sulfur (0-15 Ppm)",
          "No 2 Diesel",
          "No 2 Diesel Low Sulfur (0-15 Ppm)",
          "Regular Gasoline",
          "Total Gasoline",
          "No 2 Diesel",
          "Reformulated Motor Gasoline",
          "Regular Gasoline",
          "Reformulated Motor Gasoline",
          "Premium Gasoline",
          "No 2 Diesel Low Sulfur (0-15 Ppm)",
          "Total Gasoline",
          "Total Gasoline",
          "Premium Gasoline",
          "No 2 Diesel",
          "No 2 Diesel",
          "Premium Gasoline",
          "Reformulated Motor Gasoline",
          "No 2 Diesel",
          "Reformulated Motor Gasoline",
          "Premium Gasoline",
          "Regular Gasoline",
          "Total Gasoline",
          "No 2 Diesel Low Sulfur (0-15 Ppm)",
          "No 2 Diesel",
          "Premium Gasoline",
          "No 2 Diesel",
          "Reformulated Motor Gasoline",
          "Total Gasoline",
          "Total Gasoline",
          "Regular Gasoline",
          "No 2 Diesel",
          "No 2 Diesel Low Sulfur (0-15 Ppm)",
          "Regular Gasoline",
          "Total Gasoline",
          "No 2 Diesel",
          "Premium Gasoline",
          "Regular Gasoline",
          "Premium Gasoline",
          "No 2 Diesel",
          "Reformulated Motor Gasoline",
          "Regular Gasoline",
          "Reformulated Motor Gasoline",
          "Reformulated Motor Gasoline",
          "No 2 Diesel",
          "Reformulated Motor Gasoline",
          "Premium Gasoline",
          "Reformulated Motor Gasoline",
          "Reformulated Motor Gasoline",
          "Total Gasoline",
          "Premium Gasoline",
          "Premium Gasoline",
          "Total Gasoline",
          "Total Gasoline",
          "Total Gasoline",
          "Premium Gasoline",
          "No 2 Diesel Low Sulfur (0-15 Ppm)",
          "No 2 Diesel",
          "Premium Gasoline",
          "No 2 Diesel Low Sulfur (0-15 Ppm)",
          "No 2 Diesel Low Sulfur (0-15 Ppm)",
          "No 2 Diesel",
          "Total Gasoline",
          "No 2 Diesel Low Sulfur (0-15 Ppm)",
          "No 2 Diesel Low Sulfur (0-15 Ppm)",
          "Reformulated Motor Gasoline",
          "Regular Gasoline",
          "No 2 Diesel Low Sulfur (0-15 Ppm)",
          "Premium Gasoline",
          "Premium Gasoline",
          "Total Gasoline",
          "No 2 Diesel Low Sulfur (0-15 Ppm)",
          "No 2 Diesel",
          "Reformulated Motor Gasoline",
          "Regular Gasoline",
          "Premium Gasoline",
          "Total Gasoline",
          "No 2 Diesel Low Sulfur (0-15 Ppm)",
          "No 2 Diesel",
          "Regular Gasoline",
          "Regular Gasoline",
          "Regular Gasoline",
          "No 2 Diesel",
          "Regular Gasoline",
          "Total Gasoline",
          "No 2 Diesel Low Sulfur (0-15 Ppm)",
          "No 2 Diesel",
          "Reformulated Motor Gasoline",
          "No 2 Diesel Low Sulfur (0-15 Ppm)",
          "Total Gasoline",
          "Reformulated Motor Gasoline",
          "No 2 Diesel",
          "Regular Gasoline",
          "Premium Gasoline",
          "Reformulated Motor Gasoline",
          "Regular Gasoline",
          "Reformulated Motor Gasoline",
          "Regular Gasoline",
          "Premium Gasoline",
          "Total Gasoline",
          "No 2 Diesel",
          "Premium Gasoline",
          "No 2 Diesel",
          "Regular Gasoline",
          "Reformulated Motor Gasoline",
          "Regular Gasoline",
          "No 2 Diesel Low Sulfur (0-15 Ppm)",
          "No 2 Diesel Low Sulfur (0-15 Ppm)",
          "Regular Gasoline",
          "Total Gasoline",
          "No 2 Diesel Low Sulfur (0-15 Ppm)",
          "No 2 Diesel",
          "Regular Gasoline",
          "Premium Gasoline",
          "Reformulated Motor Gasoline",
          "No 2 Diesel Low Sulfur (0-15 Ppm)",
          "Reformulated Motor Gasoline",
          "No 2 Diesel",
          "Reformulated Motor Gasoline",
          "Regular Gasoline",
          "No 2 Diesel",
          "Premium Gasoline",
          "Regular Gasoline",
          "Reformulated Motor Gasoline",
          "Total Gasoline",
          "Premium Gasoline",
          "Total Gasoline",
          "No 2 Diesel",
          "Premium Gasoline",
          "Total Gasoline",
          "No 2 Diesel Low Sulfur (0-15 Ppm)",
          "No 2 Diesel Low Sulfur (0-15 Ppm)",
          "Premium Gasoline",
          "Reformulated Motor Gasoline",
          "Premium Gasoline",
          "No 2 Diesel Low Sulfur (0-15 Ppm)",
          "Total Gasoline",
          "No 2 Diesel",
          "No 2 Diesel Low Sulfur (0-15 Ppm)",
          "Regular Gasoline",
          "Total Gasoline",
          "Total Gasoline",
          "No 2 Diesel",
          "Total Gasoline",
          "No 2 Diesel",
          "No 2 Diesel Low Sulfur (0-15 Ppm)",
          "Premium Gasoline",
          "Premium Gasoline",
          "Regular Gasoline",
          "No 2 Diesel Low Sulfur (0-15 Ppm)",
          "Regular Gasoline",
          "Total Gasoline",
          "No 2 Diesel",
          "No 2 Diesel Low Sulfur (0-15 Ppm)",
          "Total Gasoline",
          "No 2 Diesel",
          "No 2 Diesel Low Sulfur (0-15 Ppm)",
          "No 2 Diesel Low Sulfur (0-15 Ppm)",
          "Regular Gasoline",
          "Premium Gasoline",
          "No 2 Diesel",
          "No 2 Diesel",
          "Regular Gasoline",
          "Total Gasoline",
          "Regular Gasoline",
          "Total Gasoline",
          "No 2 Diesel",
          "No 2 Diesel",
          "Regular Gasoline",
          "Premium Gasoline",
          "Regular Gasoline",
          "No 2 Diesel",
          "Premium Gasoline",
          "No 2 Diesel Low Sulfur (0-15 Ppm)",
          "Reformulated Motor Gasoline",
          "Regular Gasoline",
          "Premium Gasoline",
          "Total Gasoline",
          "Reformulated Motor Gasoline",
          "Reformulated Motor Gasoline",
          "Reformulated Motor Gasoline",
          "No 2 Diesel",
          "No 2 Diesel Low Sulfur (0-15 Ppm)",
          "Total Gasoline",
          "No 2 Diesel",
          "Reformulated Motor Gasoline",
          "Total Gasoline",
          "Premium Gasoline",
          "Total Gasoline",
          "Reformulated Motor Gasoline",
          "No 2 Diesel Low Sulfur (0-15 Ppm)",
          "Reformulated Motor Gasoline",
          "Premium Gasoline",
          "Reformulated Motor Gasoline",
          "Reformulated Motor Gasoline",
          "Regular Gasoline",
          "Premium Gasoline",
          "No 2 Diesel Low Sulfur (0-15 Ppm)",
          "No 2 Diesel",
          "Regular Gasoline",
          "No 2 Diesel Low Sulfur (0-15 Ppm)",
          "Total Gasoline",
          "No 2 Diesel Low Sulfur (0-15 Ppm)",
          "Premium Gasoline",
          "Premium Gasoline",
          "Total Gasoline",
          "Total Gasoline",
          "Regular Gasoline",
          "Reformulated Motor Gasoline",
          "Total Gasoline",
          "No 2 Diesel",
          "Regular Gasoline",
          "No 2 Diesel Low Sulfur (0-15 Ppm)",
          "No 2 Diesel Low Sulfur (0-15 Ppm)",
          "No 2 Diesel",
          "Premium Gasoline",
          "No 2 Diesel Low Sulfur (0-15 Ppm)",
          "Regular Gasoline",
          "Premium Gasoline",
          "Total Gasoline",
          "Reformulated Motor Gasoline",
          "No 2 Diesel",
          "Premium Gasoline",
          "Regular Gasoline",
          "Regular Gasoline",
          "Reformulated Motor Gasoline",
          "No 2 Diesel",
          "Reformulated Motor Gasoline",
          "Total Gasoline",
          "No 2 Diesel",
          "Total Gasoline",
          "Reformulated Motor Gasoline",
          "Regular Gasoline",
          "No 2 Diesel",
          "Reformulated Motor Gasoline",
          "Premium Gasoline",
          "No 2 Diesel Low Sulfur (0-15 Ppm)",
          "No 2 Diesel",
          "Premium Gasoline",
          "No 2 Diesel Low Sulfur (0-15 Ppm)",
          "Regular Gasoline",
          "Premium Gasoline",
          "Premium Gasoline",
          "Regular Gasoline",
          "Total Gasoline",
          "Premium Gasoline",
          "Regular Gasoline",
          "Reformulated Motor Gasoline",
          "Regular Gasoline",
          "No 2 Diesel",
          "Total Gasoline",
          "Total Gasoline",
          "Total Gasoline",
          "Total Gasoline",
          "No 2 Diesel Low Sulfur (0-15 Ppm)",
          "Reformulated Motor Gasoline",
          "No 2 Diesel Low Sulfur (0-15 Ppm)",
          "No 2 Diesel Low Sulfur (0-15 Ppm)",
          "Reformulated Motor Gasoline",
          "No 2 Diesel",
          "Total Gasoline",
          "No 2 Diesel",
          "No 2 Diesel",
          "Regular Gasoline",
          "Reformulated Motor Gasoline",
          "Premium Gasoline",
          "No 2 Diesel Low Sulfur (0-15 Ppm)",
          "No 2 Diesel",
          "No 2 Diesel",
          "Total Gasoline",
          "No 2 Diesel Low Sulfur (0-15 Ppm)",
          "No 2 Diesel Low Sulfur (0-15 Ppm)",
          "Premium Gasoline",
          "Reformulated Motor Gasoline",
          "No 2 Diesel",
          "No 2 Diesel Low Sulfur (0-15 Ppm)",
          "Reformulated Motor Gasoline",
          "Regular Gasoline",
          "Premium Gasoline",
          "Regular Gasoline",
          "Regular Gasoline",
          "Total Gasoline",
          "No 2 Diesel Low Sulfur (0-15 Ppm)",
          "Total Gasoline",
          "Premium Gasoline",
          "Reformulated Motor Gasoline",
          "Total Gasoline",
          "Total Gasoline",
          "Premium Gasoline",
          "Reformulated Motor Gasoline",
          "No 2 Diesel",
          "Regular Gasoline",
          "Regular Gasoline",
          "Reformulated Motor Gasoline",
          "Regular Gasoline",
          "No 2 Diesel Low Sulfur (0-15 Ppm)",
          "Premium Gasoline",
          "Regular Gasoline",
          "Total Gasoline",
          "No 2 Diesel",
          "No 2 Diesel Low Sulfur (0-15 Ppm)",
          "Reformulated Motor Gasoline",
          "Regular Gasoline",
          "No 2 Diesel",
          "Total Gasoline",
          "Premium Gasoline",
          "Regular Gasoline",
          "Premium Gasoline",
          "No 2 Diesel Low Sulfur (0-15 Ppm)",
          "Premium Gasoline",
          "No 2 Diesel",
          "No 2 Diesel Low Sulfur (0-15 Ppm)",
          "Total Gasoline",
          "Reformulated Motor Gasoline",
          "Premium Gasoline",
          "Total Gasoline",
          "Reformulated Motor Gasoline",
          "No 2 Diesel Low Sulfur (0-15 Ppm)",
          "Reformulated Motor Gasoline",
          "Reformulated Motor Gasoline",
          "Total Gasoline",
          "Premium Gasoline",
          "No 2 Diesel Low Sulfur (0-15 Ppm)",
          "Reformulated Motor Gasoline",
          "Regular Gasoline",
          "Premium Gasoline",
          "Regular Gasoline",
          "Premium Gasoline",
          "Total Gasoline",
          "No 2 Diesel",
          "Total Gasoline",
          "Premium Gasoline",
          "No 2 Diesel",
          "No 2 Diesel Low Sulfur (0-15 Ppm)",
          "Reformulated Motor Gasoline",
          "No 2 Diesel",
          "Total Gasoline",
          "Regular Gasoline",
          "Regular Gasoline",
          "Reformulated Motor Gasoline",
          "No 2 Diesel Low Sulfur (0-15 Ppm)",
          "No 2 Diesel Low Sulfur (0-15 Ppm)",
          "No 2 Diesel",
          "Total Gasoline",
          "Reformulated Motor Gasoline",
          "No 2 Diesel",
          "Regular Gasoline",
          "No 2 Diesel Low Sulfur (0-15 Ppm)",
          "Total Gasoline",
          "No 2 Diesel",
          "Total Gasoline",
          "Regular Gasoline",
          "Regular Gasoline",
          "Regular Gasoline",
          "No 2 Diesel Low Sulfur (0-15 Ppm)",
          "No 2 Diesel",
          "Premium Gasoline",
          "Reformulated Motor Gasoline",
          "No 2 Diesel",
          "Premium Gasoline",
          "No 2 Diesel",
          "Total Gasoline",
          "Premium Gasoline",
          "No 2 Diesel Low Sulfur (0-15 Ppm)",
          "Reformulated Motor Gasoline",
          "Premium Gasoline",
          "No 2 Diesel Low Sulfur (0-15 Ppm)",
          "No 2 Diesel Low Sulfur (0-15 Ppm)",
          "Regular Gasoline",
          "Premium Gasoline",
          "No 2 Diesel Low Sulfur (0-15 Ppm)",
          "No 2 Diesel",
          "Total Gasoline",
          "Regular Gasoline",
          "Total Gasoline",
          "Premium Gasoline",
          "Reformulated Motor Gasoline"
         ],
         "yaxis": "y"
        }
       ],
       "layout": {
        "coloraxis": {
         "colorbar": {
          "title": {
           "text": "Cost ($/GAL)"
          }
         },
         "colorscale": [
          [
           0,
           "#440154"
          ],
          [
           0.1111111111111111,
           "#482878"
          ],
          [
           0.2222222222222222,
           "#3e4989"
          ],
          [
           0.3333333333333333,
           "#31688e"
          ],
          [
           0.4444444444444444,
           "#26828e"
          ],
          [
           0.5555555555555556,
           "#1f9e89"
          ],
          [
           0.6666666666666666,
           "#35b779"
          ],
          [
           0.7777777777777778,
           "#6ece58"
          ],
          [
           0.8888888888888888,
           "#b5de2b"
          ],
          [
           1,
           "#fde725"
          ]
         ]
        },
        "height": 500,
        "legend": {
         "itemsizing": "constant",
         "tracegroupgap": 0
        },
        "template": {
         "data": {
          "bar": [
           {
            "error_x": {
             "color": "#2a3f5f"
            },
            "error_y": {
             "color": "#2a3f5f"
            },
            "marker": {
             "line": {
              "color": "#E5ECF6",
              "width": 0.5
             },
             "pattern": {
              "fillmode": "overlay",
              "size": 10,
              "solidity": 0.2
             }
            },
            "type": "bar"
           }
          ],
          "barpolar": [
           {
            "marker": {
             "line": {
              "color": "#E5ECF6",
              "width": 0.5
             },
             "pattern": {
              "fillmode": "overlay",
              "size": 10,
              "solidity": 0.2
             }
            },
            "type": "barpolar"
           }
          ],
          "carpet": [
           {
            "aaxis": {
             "endlinecolor": "#2a3f5f",
             "gridcolor": "white",
             "linecolor": "white",
             "minorgridcolor": "white",
             "startlinecolor": "#2a3f5f"
            },
            "baxis": {
             "endlinecolor": "#2a3f5f",
             "gridcolor": "white",
             "linecolor": "white",
             "minorgridcolor": "white",
             "startlinecolor": "#2a3f5f"
            },
            "type": "carpet"
           }
          ],
          "choropleth": [
           {
            "colorbar": {
             "outlinewidth": 0,
             "ticks": ""
            },
            "type": "choropleth"
           }
          ],
          "contour": [
           {
            "colorbar": {
             "outlinewidth": 0,
             "ticks": ""
            },
            "colorscale": [
             [
              0,
              "#0d0887"
             ],
             [
              0.1111111111111111,
              "#46039f"
             ],
             [
              0.2222222222222222,
              "#7201a8"
             ],
             [
              0.3333333333333333,
              "#9c179e"
             ],
             [
              0.4444444444444444,
              "#bd3786"
             ],
             [
              0.5555555555555556,
              "#d8576b"
             ],
             [
              0.6666666666666666,
              "#ed7953"
             ],
             [
              0.7777777777777778,
              "#fb9f3a"
             ],
             [
              0.8888888888888888,
              "#fdca26"
             ],
             [
              1,
              "#f0f921"
             ]
            ],
            "type": "contour"
           }
          ],
          "contourcarpet": [
           {
            "colorbar": {
             "outlinewidth": 0,
             "ticks": ""
            },
            "type": "contourcarpet"
           }
          ],
          "heatmap": [
           {
            "colorbar": {
             "outlinewidth": 0,
             "ticks": ""
            },
            "colorscale": [
             [
              0,
              "#0d0887"
             ],
             [
              0.1111111111111111,
              "#46039f"
             ],
             [
              0.2222222222222222,
              "#7201a8"
             ],
             [
              0.3333333333333333,
              "#9c179e"
             ],
             [
              0.4444444444444444,
              "#bd3786"
             ],
             [
              0.5555555555555556,
              "#d8576b"
             ],
             [
              0.6666666666666666,
              "#ed7953"
             ],
             [
              0.7777777777777778,
              "#fb9f3a"
             ],
             [
              0.8888888888888888,
              "#fdca26"
             ],
             [
              1,
              "#f0f921"
             ]
            ],
            "type": "heatmap"
           }
          ],
          "histogram": [
           {
            "marker": {
             "pattern": {
              "fillmode": "overlay",
              "size": 10,
              "solidity": 0.2
             }
            },
            "type": "histogram"
           }
          ],
          "histogram2d": [
           {
            "colorbar": {
             "outlinewidth": 0,
             "ticks": ""
            },
            "colorscale": [
             [
              0,
              "#0d0887"
             ],
             [
              0.1111111111111111,
              "#46039f"
             ],
             [
              0.2222222222222222,
              "#7201a8"
             ],
             [
              0.3333333333333333,
              "#9c179e"
             ],
             [
              0.4444444444444444,
              "#bd3786"
             ],
             [
              0.5555555555555556,
              "#d8576b"
             ],
             [
              0.6666666666666666,
              "#ed7953"
             ],
             [
              0.7777777777777778,
              "#fb9f3a"
             ],
             [
              0.8888888888888888,
              "#fdca26"
             ],
             [
              1,
              "#f0f921"
             ]
            ],
            "type": "histogram2d"
           }
          ],
          "histogram2dcontour": [
           {
            "colorbar": {
             "outlinewidth": 0,
             "ticks": ""
            },
            "colorscale": [
             [
              0,
              "#0d0887"
             ],
             [
              0.1111111111111111,
              "#46039f"
             ],
             [
              0.2222222222222222,
              "#7201a8"
             ],
             [
              0.3333333333333333,
              "#9c179e"
             ],
             [
              0.4444444444444444,
              "#bd3786"
             ],
             [
              0.5555555555555556,
              "#d8576b"
             ],
             [
              0.6666666666666666,
              "#ed7953"
             ],
             [
              0.7777777777777778,
              "#fb9f3a"
             ],
             [
              0.8888888888888888,
              "#fdca26"
             ],
             [
              1,
              "#f0f921"
             ]
            ],
            "type": "histogram2dcontour"
           }
          ],
          "mesh3d": [
           {
            "colorbar": {
             "outlinewidth": 0,
             "ticks": ""
            },
            "type": "mesh3d"
           }
          ],
          "parcoords": [
           {
            "line": {
             "colorbar": {
              "outlinewidth": 0,
              "ticks": ""
             }
            },
            "type": "parcoords"
           }
          ],
          "pie": [
           {
            "automargin": true,
            "type": "pie"
           }
          ],
          "scatter": [
           {
            "fillpattern": {
             "fillmode": "overlay",
             "size": 10,
             "solidity": 0.2
            },
            "type": "scatter"
           }
          ],
          "scatter3d": [
           {
            "line": {
             "colorbar": {
              "outlinewidth": 0,
              "ticks": ""
             }
            },
            "marker": {
             "colorbar": {
              "outlinewidth": 0,
              "ticks": ""
             }
            },
            "type": "scatter3d"
           }
          ],
          "scattercarpet": [
           {
            "marker": {
             "colorbar": {
              "outlinewidth": 0,
              "ticks": ""
             }
            },
            "type": "scattercarpet"
           }
          ],
          "scattergeo": [
           {
            "marker": {
             "colorbar": {
              "outlinewidth": 0,
              "ticks": ""
             }
            },
            "type": "scattergeo"
           }
          ],
          "scattergl": [
           {
            "marker": {
             "colorbar": {
              "outlinewidth": 0,
              "ticks": ""
             }
            },
            "type": "scattergl"
           }
          ],
          "scattermap": [
           {
            "marker": {
             "colorbar": {
              "outlinewidth": 0,
              "ticks": ""
             }
            },
            "type": "scattermap"
           }
          ],
          "scattermapbox": [
           {
            "marker": {
             "colorbar": {
              "outlinewidth": 0,
              "ticks": ""
             }
            },
            "type": "scattermapbox"
           }
          ],
          "scatterpolar": [
           {
            "marker": {
             "colorbar": {
              "outlinewidth": 0,
              "ticks": ""
             }
            },
            "type": "scatterpolar"
           }
          ],
          "scatterpolargl": [
           {
            "marker": {
             "colorbar": {
              "outlinewidth": 0,
              "ticks": ""
             }
            },
            "type": "scatterpolargl"
           }
          ],
          "scatterternary": [
           {
            "marker": {
             "colorbar": {
              "outlinewidth": 0,
              "ticks": ""
             }
            },
            "type": "scatterternary"
           }
          ],
          "surface": [
           {
            "colorbar": {
             "outlinewidth": 0,
             "ticks": ""
            },
            "colorscale": [
             [
              0,
              "#0d0887"
             ],
             [
              0.1111111111111111,
              "#46039f"
             ],
             [
              0.2222222222222222,
              "#7201a8"
             ],
             [
              0.3333333333333333,
              "#9c179e"
             ],
             [
              0.4444444444444444,
              "#bd3786"
             ],
             [
              0.5555555555555556,
              "#d8576b"
             ],
             [
              0.6666666666666666,
              "#ed7953"
             ],
             [
              0.7777777777777778,
              "#fb9f3a"
             ],
             [
              0.8888888888888888,
              "#fdca26"
             ],
             [
              1,
              "#f0f921"
             ]
            ],
            "type": "surface"
           }
          ],
          "table": [
           {
            "cells": {
             "fill": {
              "color": "#EBF0F8"
             },
             "line": {
              "color": "white"
             }
            },
            "header": {
             "fill": {
              "color": "#C8D4E3"
             },
             "line": {
              "color": "white"
             }
            },
            "type": "table"
           }
          ]
         },
         "layout": {
          "annotationdefaults": {
           "arrowcolor": "#2a3f5f",
           "arrowhead": 0,
           "arrowwidth": 1
          },
          "autotypenumbers": "strict",
          "coloraxis": {
           "colorbar": {
            "outlinewidth": 0,
            "ticks": ""
           }
          },
          "colorscale": {
           "diverging": [
            [
             0,
             "#8e0152"
            ],
            [
             0.1,
             "#c51b7d"
            ],
            [
             0.2,
             "#de77ae"
            ],
            [
             0.3,
             "#f1b6da"
            ],
            [
             0.4,
             "#fde0ef"
            ],
            [
             0.5,
             "#f7f7f7"
            ],
            [
             0.6,
             "#e6f5d0"
            ],
            [
             0.7,
             "#b8e186"
            ],
            [
             0.8,
             "#7fbc41"
            ],
            [
             0.9,
             "#4d9221"
            ],
            [
             1,
             "#276419"
            ]
           ],
           "sequential": [
            [
             0,
             "#0d0887"
            ],
            [
             0.1111111111111111,
             "#46039f"
            ],
            [
             0.2222222222222222,
             "#7201a8"
            ],
            [
             0.3333333333333333,
             "#9c179e"
            ],
            [
             0.4444444444444444,
             "#bd3786"
            ],
            [
             0.5555555555555556,
             "#d8576b"
            ],
            [
             0.6666666666666666,
             "#ed7953"
            ],
            [
             0.7777777777777778,
             "#fb9f3a"
            ],
            [
             0.8888888888888888,
             "#fdca26"
            ],
            [
             1,
             "#f0f921"
            ]
           ],
           "sequentialminus": [
            [
             0,
             "#0d0887"
            ],
            [
             0.1111111111111111,
             "#46039f"
            ],
            [
             0.2222222222222222,
             "#7201a8"
            ],
            [
             0.3333333333333333,
             "#9c179e"
            ],
            [
             0.4444444444444444,
             "#bd3786"
            ],
            [
             0.5555555555555556,
             "#d8576b"
            ],
            [
             0.6666666666666666,
             "#ed7953"
            ],
            [
             0.7777777777777778,
             "#fb9f3a"
            ],
            [
             0.8888888888888888,
             "#fdca26"
            ],
            [
             1,
             "#f0f921"
            ]
           ]
          },
          "colorway": [
           "#636efa",
           "#EF553B",
           "#00cc96",
           "#ab63fa",
           "#FFA15A",
           "#19d3f3",
           "#FF6692",
           "#B6E880",
           "#FF97FF",
           "#FECB52"
          ],
          "font": {
           "color": "#2a3f5f"
          },
          "geo": {
           "bgcolor": "white",
           "lakecolor": "white",
           "landcolor": "#E5ECF6",
           "showlakes": true,
           "showland": true,
           "subunitcolor": "white"
          },
          "hoverlabel": {
           "align": "left"
          },
          "hovermode": "closest",
          "mapbox": {
           "style": "light"
          },
          "paper_bgcolor": "white",
          "plot_bgcolor": "#E5ECF6",
          "polar": {
           "angularaxis": {
            "gridcolor": "white",
            "linecolor": "white",
            "ticks": ""
           },
           "bgcolor": "#E5ECF6",
           "radialaxis": {
            "gridcolor": "white",
            "linecolor": "white",
            "ticks": ""
           }
          },
          "scene": {
           "xaxis": {
            "backgroundcolor": "#E5ECF6",
            "gridcolor": "white",
            "gridwidth": 2,
            "linecolor": "white",
            "showbackground": true,
            "ticks": "",
            "zerolinecolor": "white"
           },
           "yaxis": {
            "backgroundcolor": "#E5ECF6",
            "gridcolor": "white",
            "gridwidth": 2,
            "linecolor": "white",
            "showbackground": true,
            "ticks": "",
            "zerolinecolor": "white"
           },
           "zaxis": {
            "backgroundcolor": "#E5ECF6",
            "gridcolor": "white",
            "gridwidth": 2,
            "linecolor": "white",
            "showbackground": true,
            "ticks": "",
            "zerolinecolor": "white"
           }
          },
          "shapedefaults": {
           "line": {
            "color": "#2a3f5f"
           }
          },
          "ternary": {
           "aaxis": {
            "gridcolor": "white",
            "linecolor": "white",
            "ticks": ""
           },
           "baxis": {
            "gridcolor": "white",
            "linecolor": "white",
            "ticks": ""
           },
           "bgcolor": "#E5ECF6",
           "caxis": {
            "gridcolor": "white",
            "linecolor": "white",
            "ticks": ""
           }
          },
          "title": {
           "x": 0.05
          },
          "xaxis": {
           "automargin": true,
           "gridcolor": "white",
           "linecolor": "white",
           "ticks": "",
           "title": {
            "standoff": 15
           },
           "zerolinecolor": "white",
           "zerolinewidth": 2
          },
          "yaxis": {
           "automargin": true,
           "gridcolor": "white",
           "linecolor": "white",
           "ticks": "",
           "title": {
            "standoff": 15
           },
           "zerolinecolor": "white",
           "zerolinewidth": 2
          }
         }
        },
        "title": {
         "text": "Fuel Product Prices ($/Gallon)"
        },
        "xaxis": {
         "anchor": "y",
         "domain": [
          0,
          1
         ],
         "title": {
          "text": "Cost ($/GAL)"
         }
        },
        "yaxis": {
         "anchor": "x",
         "domain": [
          0,
          1
         ],
         "title": {
          "text": "Product Type"
         }
        }
       }
      }
     },
     "metadata": {},
     "output_type": "display_data"
    },
    {
     "data": {
      "application/vnd.plotly.v1+json": {
       "config": {
        "plotlyServerURL": "https://plot.ly"
       },
       "data": [
        {
         "hovertemplate": "product-name=Regular Gasoline<br>Year=%{x}<br>Cost ($/GAL)=%{y}<extra></extra>",
         "legendgroup": "Regular Gasoline",
         "line": {
          "color": "#636efa",
          "dash": "solid"
         },
         "marker": {
          "symbol": "circle"
         },
         "mode": "lines",
         "name": "Regular Gasoline",
         "showlegend": true,
         "type": "scattergl",
         "x": [
          "2001-01-01T00:00:00.000000000",
          "2001-01-01T00:00:00.000000000",
          "2001-01-01T00:00:00.000000000",
          "2001-01-01T00:00:00.000000000",
          "2001-01-01T00:00:00.000000000",
          "2001-01-01T00:00:00.000000000",
          "2001-01-01T00:00:00.000000000",
          "2001-01-01T00:00:00.000000000",
          "2001-01-01T00:00:00.000000000",
          "2001-01-01T00:00:00.000000000",
          "2002-01-01T00:00:00.000000000",
          "2002-01-01T00:00:00.000000000",
          "2002-01-01T00:00:00.000000000",
          "2002-01-01T00:00:00.000000000",
          "2002-01-01T00:00:00.000000000",
          "2002-01-01T00:00:00.000000000",
          "2002-01-01T00:00:00.000000000",
          "2002-01-01T00:00:00.000000000",
          "2002-01-01T00:00:00.000000000",
          "2002-01-01T00:00:00.000000000",
          "2003-01-01T00:00:00.000000000",
          "2003-01-01T00:00:00.000000000",
          "2003-01-01T00:00:00.000000000",
          "2003-01-01T00:00:00.000000000",
          "2003-01-01T00:00:00.000000000",
          "2003-01-01T00:00:00.000000000",
          "2003-01-01T00:00:00.000000000",
          "2003-01-01T00:00:00.000000000",
          "2003-01-01T00:00:00.000000000",
          "2003-01-01T00:00:00.000000000",
          "2004-01-01T00:00:00.000000000",
          "2004-01-01T00:00:00.000000000",
          "2004-01-01T00:00:00.000000000",
          "2004-01-01T00:00:00.000000000",
          "2004-01-01T00:00:00.000000000",
          "2004-01-01T00:00:00.000000000",
          "2004-01-01T00:00:00.000000000",
          "2004-01-01T00:00:00.000000000",
          "2004-01-01T00:00:00.000000000",
          "2004-01-01T00:00:00.000000000",
          "2005-01-01T00:00:00.000000000",
          "2005-01-01T00:00:00.000000000",
          "2005-01-01T00:00:00.000000000",
          "2005-01-01T00:00:00.000000000",
          "2005-01-01T00:00:00.000000000",
          "2005-01-01T00:00:00.000000000",
          "2005-01-01T00:00:00.000000000",
          "2005-01-01T00:00:00.000000000",
          "2005-01-01T00:00:00.000000000",
          "2005-01-01T00:00:00.000000000",
          "2006-01-01T00:00:00.000000000",
          "2006-01-01T00:00:00.000000000",
          "2006-01-01T00:00:00.000000000",
          "2006-01-01T00:00:00.000000000",
          "2006-01-01T00:00:00.000000000",
          "2006-01-01T00:00:00.000000000",
          "2006-01-01T00:00:00.000000000",
          "2006-01-01T00:00:00.000000000",
          "2006-01-01T00:00:00.000000000",
          "2006-01-01T00:00:00.000000000",
          "2007-01-01T00:00:00.000000000",
          "2007-01-01T00:00:00.000000000",
          "2007-01-01T00:00:00.000000000",
          "2007-01-01T00:00:00.000000000",
          "2007-01-01T00:00:00.000000000",
          "2007-01-01T00:00:00.000000000",
          "2007-01-01T00:00:00.000000000",
          "2007-01-01T00:00:00.000000000",
          "2007-01-01T00:00:00.000000000",
          "2007-01-01T00:00:00.000000000",
          "2008-01-01T00:00:00.000000000",
          "2008-01-01T00:00:00.000000000",
          "2008-01-01T00:00:00.000000000",
          "2008-01-01T00:00:00.000000000",
          "2008-01-01T00:00:00.000000000",
          "2008-01-01T00:00:00.000000000",
          "2008-01-01T00:00:00.000000000",
          "2008-01-01T00:00:00.000000000",
          "2008-01-01T00:00:00.000000000",
          "2008-01-01T00:00:00.000000000",
          "2009-01-01T00:00:00.000000000",
          "2009-01-01T00:00:00.000000000",
          "2009-01-01T00:00:00.000000000",
          "2009-01-01T00:00:00.000000000",
          "2009-01-01T00:00:00.000000000",
          "2009-01-01T00:00:00.000000000",
          "2009-01-01T00:00:00.000000000",
          "2009-01-01T00:00:00.000000000",
          "2009-01-01T00:00:00.000000000",
          "2009-01-01T00:00:00.000000000",
          "2010-01-01T00:00:00.000000000",
          "2010-01-01T00:00:00.000000000",
          "2010-01-01T00:00:00.000000000",
          "2010-01-01T00:00:00.000000000",
          "2010-01-01T00:00:00.000000000",
          "2010-01-01T00:00:00.000000000",
          "2010-01-01T00:00:00.000000000",
          "2010-01-01T00:00:00.000000000",
          "2010-01-01T00:00:00.000000000",
          "2010-01-01T00:00:00.000000000",
          "2011-01-01T00:00:00.000000000",
          "2011-01-01T00:00:00.000000000",
          "2011-01-01T00:00:00.000000000",
          "2011-01-01T00:00:00.000000000",
          "2011-01-01T00:00:00.000000000",
          "2011-01-01T00:00:00.000000000",
          "2011-01-01T00:00:00.000000000",
          "2011-01-01T00:00:00.000000000",
          "2011-01-01T00:00:00.000000000",
          "2011-01-01T00:00:00.000000000",
          "2012-01-01T00:00:00.000000000",
          "2012-01-01T00:00:00.000000000",
          "2012-01-01T00:00:00.000000000",
          "2012-01-01T00:00:00.000000000",
          "2012-01-01T00:00:00.000000000",
          "2012-01-01T00:00:00.000000000",
          "2012-01-01T00:00:00.000000000",
          "2012-01-01T00:00:00.000000000",
          "2012-01-01T00:00:00.000000000",
          "2012-01-01T00:00:00.000000000",
          "2013-01-01T00:00:00.000000000",
          "2013-01-01T00:00:00.000000000",
          "2013-01-01T00:00:00.000000000",
          "2013-01-01T00:00:00.000000000",
          "2013-01-01T00:00:00.000000000",
          "2013-01-01T00:00:00.000000000",
          "2013-01-01T00:00:00.000000000",
          "2013-01-01T00:00:00.000000000",
          "2013-01-01T00:00:00.000000000",
          "2013-01-01T00:00:00.000000000",
          "2014-01-01T00:00:00.000000000",
          "2014-01-01T00:00:00.000000000",
          "2014-01-01T00:00:00.000000000",
          "2014-01-01T00:00:00.000000000",
          "2014-01-01T00:00:00.000000000",
          "2014-01-01T00:00:00.000000000",
          "2014-01-01T00:00:00.000000000",
          "2014-01-01T00:00:00.000000000",
          "2014-01-01T00:00:00.000000000",
          "2014-01-01T00:00:00.000000000",
          "2015-01-01T00:00:00.000000000",
          "2015-01-01T00:00:00.000000000",
          "2015-01-01T00:00:00.000000000",
          "2015-01-01T00:00:00.000000000",
          "2015-01-01T00:00:00.000000000",
          "2015-01-01T00:00:00.000000000",
          "2015-01-01T00:00:00.000000000",
          "2015-01-01T00:00:00.000000000",
          "2015-01-01T00:00:00.000000000",
          "2015-01-01T00:00:00.000000000",
          "2016-01-01T00:00:00.000000000",
          "2016-01-01T00:00:00.000000000",
          "2016-01-01T00:00:00.000000000",
          "2016-01-01T00:00:00.000000000",
          "2016-01-01T00:00:00.000000000",
          "2016-01-01T00:00:00.000000000",
          "2016-01-01T00:00:00.000000000",
          "2016-01-01T00:00:00.000000000",
          "2016-01-01T00:00:00.000000000",
          "2016-01-01T00:00:00.000000000",
          "2017-01-01T00:00:00.000000000",
          "2017-01-01T00:00:00.000000000",
          "2017-01-01T00:00:00.000000000",
          "2017-01-01T00:00:00.000000000",
          "2017-01-01T00:00:00.000000000",
          "2017-01-01T00:00:00.000000000",
          "2017-01-01T00:00:00.000000000",
          "2017-01-01T00:00:00.000000000",
          "2017-01-01T00:00:00.000000000",
          "2017-01-01T00:00:00.000000000",
          "2018-01-01T00:00:00.000000000",
          "2018-01-01T00:00:00.000000000",
          "2018-01-01T00:00:00.000000000",
          "2018-01-01T00:00:00.000000000",
          "2018-01-01T00:00:00.000000000",
          "2018-01-01T00:00:00.000000000",
          "2018-01-01T00:00:00.000000000",
          "2018-01-01T00:00:00.000000000",
          "2018-01-01T00:00:00.000000000",
          "2018-01-01T00:00:00.000000000",
          "2019-01-01T00:00:00.000000000",
          "2019-01-01T00:00:00.000000000",
          "2019-01-01T00:00:00.000000000",
          "2019-01-01T00:00:00.000000000",
          "2019-01-01T00:00:00.000000000",
          "2019-01-01T00:00:00.000000000",
          "2019-01-01T00:00:00.000000000",
          "2019-01-01T00:00:00.000000000",
          "2019-01-01T00:00:00.000000000",
          "2019-01-01T00:00:00.000000000",
          "2020-01-01T00:00:00.000000000",
          "2020-01-01T00:00:00.000000000",
          "2020-01-01T00:00:00.000000000",
          "2020-01-01T00:00:00.000000000",
          "2020-01-01T00:00:00.000000000",
          "2020-01-01T00:00:00.000000000",
          "2020-01-01T00:00:00.000000000",
          "2020-01-01T00:00:00.000000000",
          "2020-01-01T00:00:00.000000000",
          "2020-01-01T00:00:00.000000000",
          "2021-01-01T00:00:00.000000000",
          "2021-01-01T00:00:00.000000000",
          "2021-01-01T00:00:00.000000000",
          "2021-01-01T00:00:00.000000000",
          "2021-01-01T00:00:00.000000000",
          "2021-01-01T00:00:00.000000000",
          "2021-01-01T00:00:00.000000000",
          "2021-01-01T00:00:00.000000000",
          "2021-01-01T00:00:00.000000000",
          "2021-01-01T00:00:00.000000000",
          "2022-01-01T00:00:00.000000000",
          "2022-01-01T00:00:00.000000000",
          "2022-01-01T00:00:00.000000000",
          "2022-01-01T00:00:00.000000000",
          "2022-01-01T00:00:00.000000000",
          "2022-01-01T00:00:00.000000000",
          "2022-01-01T00:00:00.000000000",
          "2022-01-01T00:00:00.000000000",
          "2022-01-01T00:00:00.000000000",
          "2022-01-01T00:00:00.000000000",
          "2023-01-01T00:00:00.000000000",
          "2023-01-01T00:00:00.000000000",
          "2023-01-01T00:00:00.000000000",
          "2023-01-01T00:00:00.000000000",
          "2023-01-01T00:00:00.000000000",
          "2023-01-01T00:00:00.000000000",
          "2023-01-01T00:00:00.000000000",
          "2023-01-01T00:00:00.000000000",
          "2023-01-01T00:00:00.000000000",
          "2023-01-01T00:00:00.000000000",
          "2024-01-01T00:00:00.000000000",
          "2024-01-01T00:00:00.000000000",
          "2024-01-01T00:00:00.000000000",
          "2024-01-01T00:00:00.000000000",
          "2024-01-01T00:00:00.000000000",
          "2024-01-01T00:00:00.000000000",
          "2024-01-01T00:00:00.000000000",
          "2024-01-01T00:00:00.000000000",
          "2024-01-01T00:00:00.000000000",
          "2024-01-01T00:00:00.000000000"
         ],
         "xaxis": "x",
         "y": {
          "bdata": "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",
          "dtype": "f8"
         },
         "yaxis": "y"
        },
        {
         "hovertemplate": "product-name=Reformulated Motor Gasoline<br>Year=%{x}<br>Cost ($/GAL)=%{y}<extra></extra>",
         "legendgroup": "Reformulated Motor Gasoline",
         "line": {
          "color": "#EF553B",
          "dash": "solid"
         },
         "marker": {
          "symbol": "circle"
         },
         "mode": "lines",
         "name": "Reformulated Motor Gasoline",
         "showlegend": true,
         "type": "scattergl",
         "x": [
          "2001-01-01T00:00:00.000000000",
          "2001-01-01T00:00:00.000000000",
          "2001-01-01T00:00:00.000000000",
          "2001-01-01T00:00:00.000000000",
          "2001-01-01T00:00:00.000000000",
          "2001-01-01T00:00:00.000000000",
          "2001-01-01T00:00:00.000000000",
          "2001-01-01T00:00:00.000000000",
          "2001-01-01T00:00:00.000000000",
          "2002-01-01T00:00:00.000000000",
          "2002-01-01T00:00:00.000000000",
          "2002-01-01T00:00:00.000000000",
          "2002-01-01T00:00:00.000000000",
          "2002-01-01T00:00:00.000000000",
          "2002-01-01T00:00:00.000000000",
          "2002-01-01T00:00:00.000000000",
          "2002-01-01T00:00:00.000000000",
          "2002-01-01T00:00:00.000000000",
          "2003-01-01T00:00:00.000000000",
          "2003-01-01T00:00:00.000000000",
          "2003-01-01T00:00:00.000000000",
          "2003-01-01T00:00:00.000000000",
          "2003-01-01T00:00:00.000000000",
          "2003-01-01T00:00:00.000000000",
          "2003-01-01T00:00:00.000000000",
          "2003-01-01T00:00:00.000000000",
          "2003-01-01T00:00:00.000000000",
          "2004-01-01T00:00:00.000000000",
          "2004-01-01T00:00:00.000000000",
          "2004-01-01T00:00:00.000000000",
          "2004-01-01T00:00:00.000000000",
          "2004-01-01T00:00:00.000000000",
          "2004-01-01T00:00:00.000000000",
          "2004-01-01T00:00:00.000000000",
          "2004-01-01T00:00:00.000000000",
          "2004-01-01T00:00:00.000000000",
          "2005-01-01T00:00:00.000000000",
          "2005-01-01T00:00:00.000000000",
          "2005-01-01T00:00:00.000000000",
          "2005-01-01T00:00:00.000000000",
          "2005-01-01T00:00:00.000000000",
          "2005-01-01T00:00:00.000000000",
          "2005-01-01T00:00:00.000000000",
          "2005-01-01T00:00:00.000000000",
          "2005-01-01T00:00:00.000000000",
          "2006-01-01T00:00:00.000000000",
          "2006-01-01T00:00:00.000000000",
          "2006-01-01T00:00:00.000000000",
          "2006-01-01T00:00:00.000000000",
          "2006-01-01T00:00:00.000000000",
          "2006-01-01T00:00:00.000000000",
          "2006-01-01T00:00:00.000000000",
          "2006-01-01T00:00:00.000000000",
          "2006-01-01T00:00:00.000000000",
          "2007-01-01T00:00:00.000000000",
          "2007-01-01T00:00:00.000000000",
          "2007-01-01T00:00:00.000000000",
          "2007-01-01T00:00:00.000000000",
          "2007-01-01T00:00:00.000000000",
          "2007-01-01T00:00:00.000000000",
          "2007-01-01T00:00:00.000000000",
          "2007-01-01T00:00:00.000000000",
          "2007-01-01T00:00:00.000000000",
          "2008-01-01T00:00:00.000000000",
          "2008-01-01T00:00:00.000000000",
          "2008-01-01T00:00:00.000000000",
          "2008-01-01T00:00:00.000000000",
          "2008-01-01T00:00:00.000000000",
          "2008-01-01T00:00:00.000000000",
          "2008-01-01T00:00:00.000000000",
          "2008-01-01T00:00:00.000000000",
          "2008-01-01T00:00:00.000000000",
          "2009-01-01T00:00:00.000000000",
          "2009-01-01T00:00:00.000000000",
          "2009-01-01T00:00:00.000000000",
          "2009-01-01T00:00:00.000000000",
          "2009-01-01T00:00:00.000000000",
          "2009-01-01T00:00:00.000000000",
          "2009-01-01T00:00:00.000000000",
          "2009-01-01T00:00:00.000000000",
          "2009-01-01T00:00:00.000000000",
          "2010-01-01T00:00:00.000000000",
          "2010-01-01T00:00:00.000000000",
          "2010-01-01T00:00:00.000000000",
          "2010-01-01T00:00:00.000000000",
          "2010-01-01T00:00:00.000000000",
          "2010-01-01T00:00:00.000000000",
          "2010-01-01T00:00:00.000000000",
          "2010-01-01T00:00:00.000000000",
          "2010-01-01T00:00:00.000000000",
          "2011-01-01T00:00:00.000000000",
          "2011-01-01T00:00:00.000000000",
          "2011-01-01T00:00:00.000000000",
          "2011-01-01T00:00:00.000000000",
          "2011-01-01T00:00:00.000000000",
          "2011-01-01T00:00:00.000000000",
          "2011-01-01T00:00:00.000000000",
          "2011-01-01T00:00:00.000000000",
          "2011-01-01T00:00:00.000000000",
          "2012-01-01T00:00:00.000000000",
          "2012-01-01T00:00:00.000000000",
          "2012-01-01T00:00:00.000000000",
          "2012-01-01T00:00:00.000000000",
          "2012-01-01T00:00:00.000000000",
          "2012-01-01T00:00:00.000000000",
          "2012-01-01T00:00:00.000000000",
          "2012-01-01T00:00:00.000000000",
          "2012-01-01T00:00:00.000000000",
          "2013-01-01T00:00:00.000000000",
          "2013-01-01T00:00:00.000000000",
          "2013-01-01T00:00:00.000000000",
          "2013-01-01T00:00:00.000000000",
          "2013-01-01T00:00:00.000000000",
          "2013-01-01T00:00:00.000000000",
          "2013-01-01T00:00:00.000000000",
          "2013-01-01T00:00:00.000000000",
          "2013-01-01T00:00:00.000000000",
          "2014-01-01T00:00:00.000000000",
          "2014-01-01T00:00:00.000000000",
          "2014-01-01T00:00:00.000000000",
          "2014-01-01T00:00:00.000000000",
          "2014-01-01T00:00:00.000000000",
          "2014-01-01T00:00:00.000000000",
          "2014-01-01T00:00:00.000000000",
          "2014-01-01T00:00:00.000000000",
          "2014-01-01T00:00:00.000000000",
          "2015-01-01T00:00:00.000000000",
          "2015-01-01T00:00:00.000000000",
          "2015-01-01T00:00:00.000000000",
          "2015-01-01T00:00:00.000000000",
          "2015-01-01T00:00:00.000000000",
          "2015-01-01T00:00:00.000000000",
          "2015-01-01T00:00:00.000000000",
          "2015-01-01T00:00:00.000000000",
          "2015-01-01T00:00:00.000000000",
          "2016-01-01T00:00:00.000000000",
          "2016-01-01T00:00:00.000000000",
          "2016-01-01T00:00:00.000000000",
          "2016-01-01T00:00:00.000000000",
          "2016-01-01T00:00:00.000000000",
          "2016-01-01T00:00:00.000000000",
          "2016-01-01T00:00:00.000000000",
          "2016-01-01T00:00:00.000000000",
          "2016-01-01T00:00:00.000000000",
          "2017-01-01T00:00:00.000000000",
          "2017-01-01T00:00:00.000000000",
          "2017-01-01T00:00:00.000000000",
          "2017-01-01T00:00:00.000000000",
          "2017-01-01T00:00:00.000000000",
          "2017-01-01T00:00:00.000000000",
          "2017-01-01T00:00:00.000000000",
          "2017-01-01T00:00:00.000000000",
          "2017-01-01T00:00:00.000000000",
          "2018-01-01T00:00:00.000000000",
          "2018-01-01T00:00:00.000000000",
          "2018-01-01T00:00:00.000000000",
          "2018-01-01T00:00:00.000000000",
          "2018-01-01T00:00:00.000000000",
          "2018-01-01T00:00:00.000000000",
          "2018-01-01T00:00:00.000000000",
          "2018-01-01T00:00:00.000000000",
          "2018-01-01T00:00:00.000000000",
          "2019-01-01T00:00:00.000000000",
          "2019-01-01T00:00:00.000000000",
          "2019-01-01T00:00:00.000000000",
          "2019-01-01T00:00:00.000000000",
          "2019-01-01T00:00:00.000000000",
          "2019-01-01T00:00:00.000000000",
          "2019-01-01T00:00:00.000000000",
          "2019-01-01T00:00:00.000000000",
          "2019-01-01T00:00:00.000000000",
          "2020-01-01T00:00:00.000000000",
          "2020-01-01T00:00:00.000000000",
          "2020-01-01T00:00:00.000000000",
          "2020-01-01T00:00:00.000000000",
          "2020-01-01T00:00:00.000000000",
          "2020-01-01T00:00:00.000000000",
          "2020-01-01T00:00:00.000000000",
          "2020-01-01T00:00:00.000000000",
          "2020-01-01T00:00:00.000000000",
          "2021-01-01T00:00:00.000000000",
          "2021-01-01T00:00:00.000000000",
          "2021-01-01T00:00:00.000000000",
          "2021-01-01T00:00:00.000000000",
          "2021-01-01T00:00:00.000000000",
          "2021-01-01T00:00:00.000000000",
          "2021-01-01T00:00:00.000000000",
          "2021-01-01T00:00:00.000000000",
          "2021-01-01T00:00:00.000000000",
          "2022-01-01T00:00:00.000000000",
          "2022-01-01T00:00:00.000000000",
          "2022-01-01T00:00:00.000000000",
          "2022-01-01T00:00:00.000000000",
          "2022-01-01T00:00:00.000000000",
          "2022-01-01T00:00:00.000000000",
          "2022-01-01T00:00:00.000000000",
          "2022-01-01T00:00:00.000000000",
          "2022-01-01T00:00:00.000000000",
          "2023-01-01T00:00:00.000000000",
          "2023-01-01T00:00:00.000000000",
          "2023-01-01T00:00:00.000000000",
          "2023-01-01T00:00:00.000000000",
          "2023-01-01T00:00:00.000000000",
          "2023-01-01T00:00:00.000000000",
          "2023-01-01T00:00:00.000000000",
          "2023-01-01T00:00:00.000000000",
          "2023-01-01T00:00:00.000000000",
          "2024-01-01T00:00:00.000000000",
          "2024-01-01T00:00:00.000000000",
          "2024-01-01T00:00:00.000000000",
          "2024-01-01T00:00:00.000000000",
          "2024-01-01T00:00:00.000000000",
          "2024-01-01T00:00:00.000000000",
          "2024-01-01T00:00:00.000000000",
          "2024-01-01T00:00:00.000000000",
          "2024-01-01T00:00:00.000000000"
         ],
         "xaxis": "x",
         "y": {
          "bdata": "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",
          "dtype": "f8"
         },
         "yaxis": "y"
        },
        {
         "hovertemplate": "product-name=Premium Gasoline<br>Year=%{x}<br>Cost ($/GAL)=%{y}<extra></extra>",
         "legendgroup": "Premium Gasoline",
         "line": {
          "color": "#00cc96",
          "dash": "solid"
         },
         "marker": {
          "symbol": "circle"
         },
         "mode": "lines",
         "name": "Premium Gasoline",
         "showlegend": true,
         "type": "scattergl",
         "x": [
          "2001-01-01T00:00:00.000000000",
          "2001-01-01T00:00:00.000000000",
          "2001-01-01T00:00:00.000000000",
          "2001-01-01T00:00:00.000000000",
          "2001-01-01T00:00:00.000000000",
          "2001-01-01T00:00:00.000000000",
          "2001-01-01T00:00:00.000000000",
          "2001-01-01T00:00:00.000000000",
          "2001-01-01T00:00:00.000000000",
          "2001-01-01T00:00:00.000000000",
          "2002-01-01T00:00:00.000000000",
          "2002-01-01T00:00:00.000000000",
          "2002-01-01T00:00:00.000000000",
          "2002-01-01T00:00:00.000000000",
          "2002-01-01T00:00:00.000000000",
          "2002-01-01T00:00:00.000000000",
          "2002-01-01T00:00:00.000000000",
          "2002-01-01T00:00:00.000000000",
          "2002-01-01T00:00:00.000000000",
          "2002-01-01T00:00:00.000000000",
          "2003-01-01T00:00:00.000000000",
          "2003-01-01T00:00:00.000000000",
          "2003-01-01T00:00:00.000000000",
          "2003-01-01T00:00:00.000000000",
          "2003-01-01T00:00:00.000000000",
          "2003-01-01T00:00:00.000000000",
          "2003-01-01T00:00:00.000000000",
          "2003-01-01T00:00:00.000000000",
          "2003-01-01T00:00:00.000000000",
          "2003-01-01T00:00:00.000000000",
          "2004-01-01T00:00:00.000000000",
          "2004-01-01T00:00:00.000000000",
          "2004-01-01T00:00:00.000000000",
          "2004-01-01T00:00:00.000000000",
          "2004-01-01T00:00:00.000000000",
          "2004-01-01T00:00:00.000000000",
          "2004-01-01T00:00:00.000000000",
          "2004-01-01T00:00:00.000000000",
          "2004-01-01T00:00:00.000000000",
          "2004-01-01T00:00:00.000000000",
          "2005-01-01T00:00:00.000000000",
          "2005-01-01T00:00:00.000000000",
          "2005-01-01T00:00:00.000000000",
          "2005-01-01T00:00:00.000000000",
          "2005-01-01T00:00:00.000000000",
          "2005-01-01T00:00:00.000000000",
          "2005-01-01T00:00:00.000000000",
          "2005-01-01T00:00:00.000000000",
          "2005-01-01T00:00:00.000000000",
          "2005-01-01T00:00:00.000000000",
          "2006-01-01T00:00:00.000000000",
          "2006-01-01T00:00:00.000000000",
          "2006-01-01T00:00:00.000000000",
          "2006-01-01T00:00:00.000000000",
          "2006-01-01T00:00:00.000000000",
          "2006-01-01T00:00:00.000000000",
          "2006-01-01T00:00:00.000000000",
          "2006-01-01T00:00:00.000000000",
          "2006-01-01T00:00:00.000000000",
          "2006-01-01T00:00:00.000000000",
          "2007-01-01T00:00:00.000000000",
          "2007-01-01T00:00:00.000000000",
          "2007-01-01T00:00:00.000000000",
          "2007-01-01T00:00:00.000000000",
          "2007-01-01T00:00:00.000000000",
          "2007-01-01T00:00:00.000000000",
          "2007-01-01T00:00:00.000000000",
          "2007-01-01T00:00:00.000000000",
          "2007-01-01T00:00:00.000000000",
          "2007-01-01T00:00:00.000000000",
          "2008-01-01T00:00:00.000000000",
          "2008-01-01T00:00:00.000000000",
          "2008-01-01T00:00:00.000000000",
          "2008-01-01T00:00:00.000000000",
          "2008-01-01T00:00:00.000000000",
          "2008-01-01T00:00:00.000000000",
          "2008-01-01T00:00:00.000000000",
          "2008-01-01T00:00:00.000000000",
          "2008-01-01T00:00:00.000000000",
          "2008-01-01T00:00:00.000000000",
          "2009-01-01T00:00:00.000000000",
          "2009-01-01T00:00:00.000000000",
          "2009-01-01T00:00:00.000000000",
          "2009-01-01T00:00:00.000000000",
          "2009-01-01T00:00:00.000000000",
          "2009-01-01T00:00:00.000000000",
          "2009-01-01T00:00:00.000000000",
          "2009-01-01T00:00:00.000000000",
          "2009-01-01T00:00:00.000000000",
          "2009-01-01T00:00:00.000000000",
          "2010-01-01T00:00:00.000000000",
          "2010-01-01T00:00:00.000000000",
          "2010-01-01T00:00:00.000000000",
          "2010-01-01T00:00:00.000000000",
          "2010-01-01T00:00:00.000000000",
          "2010-01-01T00:00:00.000000000",
          "2010-01-01T00:00:00.000000000",
          "2010-01-01T00:00:00.000000000",
          "2010-01-01T00:00:00.000000000",
          "2010-01-01T00:00:00.000000000",
          "2011-01-01T00:00:00.000000000",
          "2011-01-01T00:00:00.000000000",
          "2011-01-01T00:00:00.000000000",
          "2011-01-01T00:00:00.000000000",
          "2011-01-01T00:00:00.000000000",
          "2011-01-01T00:00:00.000000000",
          "2011-01-01T00:00:00.000000000",
          "2011-01-01T00:00:00.000000000",
          "2011-01-01T00:00:00.000000000",
          "2011-01-01T00:00:00.000000000",
          "2012-01-01T00:00:00.000000000",
          "2012-01-01T00:00:00.000000000",
          "2012-01-01T00:00:00.000000000",
          "2012-01-01T00:00:00.000000000",
          "2012-01-01T00:00:00.000000000",
          "2012-01-01T00:00:00.000000000",
          "2012-01-01T00:00:00.000000000",
          "2012-01-01T00:00:00.000000000",
          "2012-01-01T00:00:00.000000000",
          "2012-01-01T00:00:00.000000000",
          "2013-01-01T00:00:00.000000000",
          "2013-01-01T00:00:00.000000000",
          "2013-01-01T00:00:00.000000000",
          "2013-01-01T00:00:00.000000000",
          "2013-01-01T00:00:00.000000000",
          "2013-01-01T00:00:00.000000000",
          "2013-01-01T00:00:00.000000000",
          "2013-01-01T00:00:00.000000000",
          "2013-01-01T00:00:00.000000000",
          "2013-01-01T00:00:00.000000000",
          "2014-01-01T00:00:00.000000000",
          "2014-01-01T00:00:00.000000000",
          "2014-01-01T00:00:00.000000000",
          "2014-01-01T00:00:00.000000000",
          "2014-01-01T00:00:00.000000000",
          "2014-01-01T00:00:00.000000000",
          "2014-01-01T00:00:00.000000000",
          "2014-01-01T00:00:00.000000000",
          "2014-01-01T00:00:00.000000000",
          "2014-01-01T00:00:00.000000000",
          "2015-01-01T00:00:00.000000000",
          "2015-01-01T00:00:00.000000000",
          "2015-01-01T00:00:00.000000000",
          "2015-01-01T00:00:00.000000000",
          "2015-01-01T00:00:00.000000000",
          "2015-01-01T00:00:00.000000000",
          "2015-01-01T00:00:00.000000000",
          "2015-01-01T00:00:00.000000000",
          "2015-01-01T00:00:00.000000000",
          "2015-01-01T00:00:00.000000000",
          "2016-01-01T00:00:00.000000000",
          "2016-01-01T00:00:00.000000000",
          "2016-01-01T00:00:00.000000000",
          "2016-01-01T00:00:00.000000000",
          "2016-01-01T00:00:00.000000000",
          "2016-01-01T00:00:00.000000000",
          "2016-01-01T00:00:00.000000000",
          "2016-01-01T00:00:00.000000000",
          "2016-01-01T00:00:00.000000000",
          "2016-01-01T00:00:00.000000000",
          "2017-01-01T00:00:00.000000000",
          "2017-01-01T00:00:00.000000000",
          "2017-01-01T00:00:00.000000000",
          "2017-01-01T00:00:00.000000000",
          "2017-01-01T00:00:00.000000000",
          "2017-01-01T00:00:00.000000000",
          "2017-01-01T00:00:00.000000000",
          "2017-01-01T00:00:00.000000000",
          "2017-01-01T00:00:00.000000000",
          "2017-01-01T00:00:00.000000000",
          "2018-01-01T00:00:00.000000000",
          "2018-01-01T00:00:00.000000000",
          "2018-01-01T00:00:00.000000000",
          "2018-01-01T00:00:00.000000000",
          "2018-01-01T00:00:00.000000000",
          "2018-01-01T00:00:00.000000000",
          "2018-01-01T00:00:00.000000000",
          "2018-01-01T00:00:00.000000000",
          "2018-01-01T00:00:00.000000000",
          "2018-01-01T00:00:00.000000000",
          "2019-01-01T00:00:00.000000000",
          "2019-01-01T00:00:00.000000000",
          "2019-01-01T00:00:00.000000000",
          "2019-01-01T00:00:00.000000000",
          "2019-01-01T00:00:00.000000000",
          "2019-01-01T00:00:00.000000000",
          "2019-01-01T00:00:00.000000000",
          "2019-01-01T00:00:00.000000000",
          "2019-01-01T00:00:00.000000000",
          "2019-01-01T00:00:00.000000000",
          "2020-01-01T00:00:00.000000000",
          "2020-01-01T00:00:00.000000000",
          "2020-01-01T00:00:00.000000000",
          "2020-01-01T00:00:00.000000000",
          "2020-01-01T00:00:00.000000000",
          "2020-01-01T00:00:00.000000000",
          "2020-01-01T00:00:00.000000000",
          "2020-01-01T00:00:00.000000000",
          "2020-01-01T00:00:00.000000000",
          "2020-01-01T00:00:00.000000000",
          "2021-01-01T00:00:00.000000000",
          "2021-01-01T00:00:00.000000000",
          "2021-01-01T00:00:00.000000000",
          "2021-01-01T00:00:00.000000000",
          "2021-01-01T00:00:00.000000000",
          "2021-01-01T00:00:00.000000000",
          "2021-01-01T00:00:00.000000000",
          "2021-01-01T00:00:00.000000000",
          "2021-01-01T00:00:00.000000000",
          "2021-01-01T00:00:00.000000000",
          "2022-01-01T00:00:00.000000000",
          "2022-01-01T00:00:00.000000000",
          "2022-01-01T00:00:00.000000000",
          "2022-01-01T00:00:00.000000000",
          "2022-01-01T00:00:00.000000000",
          "2022-01-01T00:00:00.000000000",
          "2022-01-01T00:00:00.000000000",
          "2022-01-01T00:00:00.000000000",
          "2023-01-01T00:00:00.000000000",
          "2023-01-01T00:00:00.000000000",
          "2023-01-01T00:00:00.000000000",
          "2023-01-01T00:00:00.000000000",
          "2023-01-01T00:00:00.000000000",
          "2023-01-01T00:00:00.000000000",
          "2023-01-01T00:00:00.000000000",
          "2023-01-01T00:00:00.000000000",
          "2023-01-01T00:00:00.000000000",
          "2023-01-01T00:00:00.000000000",
          "2024-01-01T00:00:00.000000000",
          "2024-01-01T00:00:00.000000000",
          "2024-01-01T00:00:00.000000000",
          "2024-01-01T00:00:00.000000000",
          "2024-01-01T00:00:00.000000000",
          "2024-01-01T00:00:00.000000000",
          "2024-01-01T00:00:00.000000000",
          "2024-01-01T00:00:00.000000000",
          "2024-01-01T00:00:00.000000000",
          "2024-01-01T00:00:00.000000000"
         ],
         "xaxis": "x",
         "y": {
          "bdata": "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",
          "dtype": "f8"
         },
         "yaxis": "y"
        },
        {
         "hovertemplate": "product-name=Total Gasoline<br>Year=%{x}<br>Cost ($/GAL)=%{y}<extra></extra>",
         "legendgroup": "Total Gasoline",
         "line": {
          "color": "#ab63fa",
          "dash": "solid"
         },
         "marker": {
          "symbol": "circle"
         },
         "mode": "lines",
         "name": "Total Gasoline",
         "showlegend": true,
         "type": "scattergl",
         "x": [
          "2001-01-01T00:00:00.000000000",
          "2001-01-01T00:00:00.000000000",
          "2001-01-01T00:00:00.000000000",
          "2001-01-01T00:00:00.000000000",
          "2001-01-01T00:00:00.000000000",
          "2001-01-01T00:00:00.000000000",
          "2001-01-01T00:00:00.000000000",
          "2001-01-01T00:00:00.000000000",
          "2001-01-01T00:00:00.000000000",
          "2001-01-01T00:00:00.000000000",
          "2002-01-01T00:00:00.000000000",
          "2002-01-01T00:00:00.000000000",
          "2002-01-01T00:00:00.000000000",
          "2002-01-01T00:00:00.000000000",
          "2002-01-01T00:00:00.000000000",
          "2002-01-01T00:00:00.000000000",
          "2002-01-01T00:00:00.000000000",
          "2002-01-01T00:00:00.000000000",
          "2002-01-01T00:00:00.000000000",
          "2002-01-01T00:00:00.000000000",
          "2003-01-01T00:00:00.000000000",
          "2003-01-01T00:00:00.000000000",
          "2003-01-01T00:00:00.000000000",
          "2003-01-01T00:00:00.000000000",
          "2003-01-01T00:00:00.000000000",
          "2003-01-01T00:00:00.000000000",
          "2003-01-01T00:00:00.000000000",
          "2003-01-01T00:00:00.000000000",
          "2003-01-01T00:00:00.000000000",
          "2003-01-01T00:00:00.000000000",
          "2004-01-01T00:00:00.000000000",
          "2004-01-01T00:00:00.000000000",
          "2004-01-01T00:00:00.000000000",
          "2004-01-01T00:00:00.000000000",
          "2004-01-01T00:00:00.000000000",
          "2004-01-01T00:00:00.000000000",
          "2004-01-01T00:00:00.000000000",
          "2004-01-01T00:00:00.000000000",
          "2004-01-01T00:00:00.000000000",
          "2004-01-01T00:00:00.000000000",
          "2005-01-01T00:00:00.000000000",
          "2005-01-01T00:00:00.000000000",
          "2005-01-01T00:00:00.000000000",
          "2005-01-01T00:00:00.000000000",
          "2005-01-01T00:00:00.000000000",
          "2005-01-01T00:00:00.000000000",
          "2005-01-01T00:00:00.000000000",
          "2005-01-01T00:00:00.000000000",
          "2005-01-01T00:00:00.000000000",
          "2005-01-01T00:00:00.000000000",
          "2006-01-01T00:00:00.000000000",
          "2006-01-01T00:00:00.000000000",
          "2006-01-01T00:00:00.000000000",
          "2006-01-01T00:00:00.000000000",
          "2006-01-01T00:00:00.000000000",
          "2006-01-01T00:00:00.000000000",
          "2006-01-01T00:00:00.000000000",
          "2006-01-01T00:00:00.000000000",
          "2006-01-01T00:00:00.000000000",
          "2006-01-01T00:00:00.000000000",
          "2007-01-01T00:00:00.000000000",
          "2007-01-01T00:00:00.000000000",
          "2007-01-01T00:00:00.000000000",
          "2007-01-01T00:00:00.000000000",
          "2007-01-01T00:00:00.000000000",
          "2007-01-01T00:00:00.000000000",
          "2007-01-01T00:00:00.000000000",
          "2007-01-01T00:00:00.000000000",
          "2007-01-01T00:00:00.000000000",
          "2007-01-01T00:00:00.000000000",
          "2008-01-01T00:00:00.000000000",
          "2008-01-01T00:00:00.000000000",
          "2008-01-01T00:00:00.000000000",
          "2008-01-01T00:00:00.000000000",
          "2008-01-01T00:00:00.000000000",
          "2008-01-01T00:00:00.000000000",
          "2008-01-01T00:00:00.000000000",
          "2008-01-01T00:00:00.000000000",
          "2008-01-01T00:00:00.000000000",
          "2008-01-01T00:00:00.000000000",
          "2009-01-01T00:00:00.000000000",
          "2009-01-01T00:00:00.000000000",
          "2009-01-01T00:00:00.000000000",
          "2009-01-01T00:00:00.000000000",
          "2009-01-01T00:00:00.000000000",
          "2009-01-01T00:00:00.000000000",
          "2009-01-01T00:00:00.000000000",
          "2009-01-01T00:00:00.000000000",
          "2009-01-01T00:00:00.000000000",
          "2009-01-01T00:00:00.000000000",
          "2010-01-01T00:00:00.000000000",
          "2010-01-01T00:00:00.000000000",
          "2010-01-01T00:00:00.000000000",
          "2010-01-01T00:00:00.000000000",
          "2010-01-01T00:00:00.000000000",
          "2010-01-01T00:00:00.000000000",
          "2010-01-01T00:00:00.000000000",
          "2010-01-01T00:00:00.000000000",
          "2010-01-01T00:00:00.000000000",
          "2010-01-01T00:00:00.000000000",
          "2011-01-01T00:00:00.000000000",
          "2011-01-01T00:00:00.000000000",
          "2011-01-01T00:00:00.000000000",
          "2011-01-01T00:00:00.000000000",
          "2011-01-01T00:00:00.000000000",
          "2011-01-01T00:00:00.000000000",
          "2011-01-01T00:00:00.000000000",
          "2011-01-01T00:00:00.000000000",
          "2011-01-01T00:00:00.000000000",
          "2011-01-01T00:00:00.000000000",
          "2012-01-01T00:00:00.000000000",
          "2012-01-01T00:00:00.000000000",
          "2012-01-01T00:00:00.000000000",
          "2012-01-01T00:00:00.000000000",
          "2012-01-01T00:00:00.000000000",
          "2012-01-01T00:00:00.000000000",
          "2012-01-01T00:00:00.000000000",
          "2012-01-01T00:00:00.000000000",
          "2012-01-01T00:00:00.000000000",
          "2012-01-01T00:00:00.000000000",
          "2013-01-01T00:00:00.000000000",
          "2013-01-01T00:00:00.000000000",
          "2013-01-01T00:00:00.000000000",
          "2013-01-01T00:00:00.000000000",
          "2013-01-01T00:00:00.000000000",
          "2013-01-01T00:00:00.000000000",
          "2013-01-01T00:00:00.000000000",
          "2013-01-01T00:00:00.000000000",
          "2013-01-01T00:00:00.000000000",
          "2013-01-01T00:00:00.000000000",
          "2014-01-01T00:00:00.000000000",
          "2014-01-01T00:00:00.000000000",
          "2014-01-01T00:00:00.000000000",
          "2014-01-01T00:00:00.000000000",
          "2014-01-01T00:00:00.000000000",
          "2014-01-01T00:00:00.000000000",
          "2014-01-01T00:00:00.000000000",
          "2014-01-01T00:00:00.000000000",
          "2014-01-01T00:00:00.000000000",
          "2014-01-01T00:00:00.000000000",
          "2015-01-01T00:00:00.000000000",
          "2015-01-01T00:00:00.000000000",
          "2015-01-01T00:00:00.000000000",
          "2015-01-01T00:00:00.000000000",
          "2015-01-01T00:00:00.000000000",
          "2015-01-01T00:00:00.000000000",
          "2015-01-01T00:00:00.000000000",
          "2015-01-01T00:00:00.000000000",
          "2015-01-01T00:00:00.000000000",
          "2015-01-01T00:00:00.000000000",
          "2016-01-01T00:00:00.000000000",
          "2016-01-01T00:00:00.000000000",
          "2016-01-01T00:00:00.000000000",
          "2016-01-01T00:00:00.000000000",
          "2016-01-01T00:00:00.000000000",
          "2016-01-01T00:00:00.000000000",
          "2016-01-01T00:00:00.000000000",
          "2016-01-01T00:00:00.000000000",
          "2016-01-01T00:00:00.000000000",
          "2016-01-01T00:00:00.000000000",
          "2017-01-01T00:00:00.000000000",
          "2017-01-01T00:00:00.000000000",
          "2017-01-01T00:00:00.000000000",
          "2017-01-01T00:00:00.000000000",
          "2017-01-01T00:00:00.000000000",
          "2017-01-01T00:00:00.000000000",
          "2017-01-01T00:00:00.000000000",
          "2017-01-01T00:00:00.000000000",
          "2017-01-01T00:00:00.000000000",
          "2017-01-01T00:00:00.000000000",
          "2018-01-01T00:00:00.000000000",
          "2018-01-01T00:00:00.000000000",
          "2018-01-01T00:00:00.000000000",
          "2018-01-01T00:00:00.000000000",
          "2018-01-01T00:00:00.000000000",
          "2018-01-01T00:00:00.000000000",
          "2018-01-01T00:00:00.000000000",
          "2018-01-01T00:00:00.000000000",
          "2018-01-01T00:00:00.000000000",
          "2018-01-01T00:00:00.000000000",
          "2019-01-01T00:00:00.000000000",
          "2019-01-01T00:00:00.000000000",
          "2019-01-01T00:00:00.000000000",
          "2019-01-01T00:00:00.000000000",
          "2019-01-01T00:00:00.000000000",
          "2019-01-01T00:00:00.000000000",
          "2019-01-01T00:00:00.000000000",
          "2019-01-01T00:00:00.000000000",
          "2019-01-01T00:00:00.000000000",
          "2019-01-01T00:00:00.000000000",
          "2020-01-01T00:00:00.000000000",
          "2020-01-01T00:00:00.000000000",
          "2020-01-01T00:00:00.000000000",
          "2020-01-01T00:00:00.000000000",
          "2020-01-01T00:00:00.000000000",
          "2020-01-01T00:00:00.000000000",
          "2020-01-01T00:00:00.000000000",
          "2020-01-01T00:00:00.000000000",
          "2020-01-01T00:00:00.000000000",
          "2020-01-01T00:00:00.000000000",
          "2021-01-01T00:00:00.000000000",
          "2021-01-01T00:00:00.000000000",
          "2021-01-01T00:00:00.000000000",
          "2021-01-01T00:00:00.000000000",
          "2021-01-01T00:00:00.000000000",
          "2021-01-01T00:00:00.000000000",
          "2021-01-01T00:00:00.000000000",
          "2021-01-01T00:00:00.000000000",
          "2021-01-01T00:00:00.000000000",
          "2021-01-01T00:00:00.000000000",
          "2022-01-01T00:00:00.000000000",
          "2022-01-01T00:00:00.000000000",
          "2022-01-01T00:00:00.000000000",
          "2022-01-01T00:00:00.000000000",
          "2022-01-01T00:00:00.000000000",
          "2022-01-01T00:00:00.000000000",
          "2022-01-01T00:00:00.000000000",
          "2022-01-01T00:00:00.000000000",
          "2022-01-01T00:00:00.000000000",
          "2022-01-01T00:00:00.000000000",
          "2023-01-01T00:00:00.000000000",
          "2023-01-01T00:00:00.000000000",
          "2023-01-01T00:00:00.000000000",
          "2023-01-01T00:00:00.000000000",
          "2023-01-01T00:00:00.000000000",
          "2023-01-01T00:00:00.000000000",
          "2023-01-01T00:00:00.000000000",
          "2023-01-01T00:00:00.000000000",
          "2023-01-01T00:00:00.000000000",
          "2023-01-01T00:00:00.000000000",
          "2024-01-01T00:00:00.000000000",
          "2024-01-01T00:00:00.000000000",
          "2024-01-01T00:00:00.000000000",
          "2024-01-01T00:00:00.000000000",
          "2024-01-01T00:00:00.000000000",
          "2024-01-01T00:00:00.000000000",
          "2024-01-01T00:00:00.000000000",
          "2024-01-01T00:00:00.000000000",
          "2024-01-01T00:00:00.000000000",
          "2024-01-01T00:00:00.000000000"
         ],
         "xaxis": "x",
         "y": {
          "bdata": "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",
          "dtype": "f8"
         },
         "yaxis": "y"
        },
        {
         "hovertemplate": "product-name=No 2 Diesel<br>Year=%{x}<br>Cost ($/GAL)=%{y}<extra></extra>",
         "legendgroup": "No 2 Diesel",
         "line": {
          "color": "#FFA15A",
          "dash": "solid"
         },
         "marker": {
          "symbol": "circle"
         },
         "mode": "lines",
         "name": "No 2 Diesel",
         "showlegend": true,
         "type": "scattergl",
         "x": [
          "2001-01-01T00:00:00.000000000",
          "2001-01-01T00:00:00.000000000",
          "2001-01-01T00:00:00.000000000",
          "2001-01-01T00:00:00.000000000",
          "2001-01-01T00:00:00.000000000",
          "2001-01-01T00:00:00.000000000",
          "2001-01-01T00:00:00.000000000",
          "2001-01-01T00:00:00.000000000",
          "2001-01-01T00:00:00.000000000",
          "2002-01-01T00:00:00.000000000",
          "2002-01-01T00:00:00.000000000",
          "2002-01-01T00:00:00.000000000",
          "2002-01-01T00:00:00.000000000",
          "2002-01-01T00:00:00.000000000",
          "2002-01-01T00:00:00.000000000",
          "2002-01-01T00:00:00.000000000",
          "2002-01-01T00:00:00.000000000",
          "2002-01-01T00:00:00.000000000",
          "2003-01-01T00:00:00.000000000",
          "2003-01-01T00:00:00.000000000",
          "2003-01-01T00:00:00.000000000",
          "2003-01-01T00:00:00.000000000",
          "2003-01-01T00:00:00.000000000",
          "2003-01-01T00:00:00.000000000",
          "2003-01-01T00:00:00.000000000",
          "2003-01-01T00:00:00.000000000",
          "2003-01-01T00:00:00.000000000",
          "2004-01-01T00:00:00.000000000",
          "2004-01-01T00:00:00.000000000",
          "2004-01-01T00:00:00.000000000",
          "2004-01-01T00:00:00.000000000",
          "2004-01-01T00:00:00.000000000",
          "2004-01-01T00:00:00.000000000",
          "2004-01-01T00:00:00.000000000",
          "2004-01-01T00:00:00.000000000",
          "2004-01-01T00:00:00.000000000",
          "2005-01-01T00:00:00.000000000",
          "2005-01-01T00:00:00.000000000",
          "2005-01-01T00:00:00.000000000",
          "2005-01-01T00:00:00.000000000",
          "2005-01-01T00:00:00.000000000",
          "2005-01-01T00:00:00.000000000",
          "2005-01-01T00:00:00.000000000",
          "2005-01-01T00:00:00.000000000",
          "2005-01-01T00:00:00.000000000",
          "2006-01-01T00:00:00.000000000",
          "2006-01-01T00:00:00.000000000",
          "2006-01-01T00:00:00.000000000",
          "2006-01-01T00:00:00.000000000",
          "2006-01-01T00:00:00.000000000",
          "2006-01-01T00:00:00.000000000",
          "2006-01-01T00:00:00.000000000",
          "2006-01-01T00:00:00.000000000",
          "2006-01-01T00:00:00.000000000",
          "2007-01-01T00:00:00.000000000",
          "2007-01-01T00:00:00.000000000",
          "2007-01-01T00:00:00.000000000",
          "2007-01-01T00:00:00.000000000",
          "2007-01-01T00:00:00.000000000",
          "2007-01-01T00:00:00.000000000",
          "2007-01-01T00:00:00.000000000",
          "2007-01-01T00:00:00.000000000",
          "2007-01-01T00:00:00.000000000",
          "2008-01-01T00:00:00.000000000",
          "2008-01-01T00:00:00.000000000",
          "2008-01-01T00:00:00.000000000",
          "2008-01-01T00:00:00.000000000",
          "2008-01-01T00:00:00.000000000",
          "2008-01-01T00:00:00.000000000",
          "2008-01-01T00:00:00.000000000",
          "2008-01-01T00:00:00.000000000",
          "2008-01-01T00:00:00.000000000",
          "2009-01-01T00:00:00.000000000",
          "2009-01-01T00:00:00.000000000",
          "2009-01-01T00:00:00.000000000",
          "2009-01-01T00:00:00.000000000",
          "2009-01-01T00:00:00.000000000",
          "2009-01-01T00:00:00.000000000",
          "2009-01-01T00:00:00.000000000",
          "2009-01-01T00:00:00.000000000",
          "2009-01-01T00:00:00.000000000",
          "2010-01-01T00:00:00.000000000",
          "2010-01-01T00:00:00.000000000",
          "2010-01-01T00:00:00.000000000",
          "2010-01-01T00:00:00.000000000",
          "2010-01-01T00:00:00.000000000",
          "2010-01-01T00:00:00.000000000",
          "2010-01-01T00:00:00.000000000",
          "2010-01-01T00:00:00.000000000",
          "2010-01-01T00:00:00.000000000",
          "2011-01-01T00:00:00.000000000",
          "2011-01-01T00:00:00.000000000",
          "2011-01-01T00:00:00.000000000",
          "2011-01-01T00:00:00.000000000",
          "2011-01-01T00:00:00.000000000",
          "2011-01-01T00:00:00.000000000",
          "2011-01-01T00:00:00.000000000",
          "2011-01-01T00:00:00.000000000",
          "2011-01-01T00:00:00.000000000",
          "2011-01-01T00:00:00.000000000",
          "2012-01-01T00:00:00.000000000",
          "2012-01-01T00:00:00.000000000",
          "2012-01-01T00:00:00.000000000",
          "2012-01-01T00:00:00.000000000",
          "2012-01-01T00:00:00.000000000",
          "2012-01-01T00:00:00.000000000",
          "2012-01-01T00:00:00.000000000",
          "2012-01-01T00:00:00.000000000",
          "2012-01-01T00:00:00.000000000",
          "2012-01-01T00:00:00.000000000",
          "2013-01-01T00:00:00.000000000",
          "2013-01-01T00:00:00.000000000",
          "2013-01-01T00:00:00.000000000",
          "2013-01-01T00:00:00.000000000",
          "2013-01-01T00:00:00.000000000",
          "2013-01-01T00:00:00.000000000",
          "2013-01-01T00:00:00.000000000",
          "2013-01-01T00:00:00.000000000",
          "2013-01-01T00:00:00.000000000",
          "2013-01-01T00:00:00.000000000",
          "2014-01-01T00:00:00.000000000",
          "2014-01-01T00:00:00.000000000",
          "2014-01-01T00:00:00.000000000",
          "2014-01-01T00:00:00.000000000",
          "2014-01-01T00:00:00.000000000",
          "2014-01-01T00:00:00.000000000",
          "2014-01-01T00:00:00.000000000",
          "2014-01-01T00:00:00.000000000",
          "2014-01-01T00:00:00.000000000",
          "2014-01-01T00:00:00.000000000",
          "2015-01-01T00:00:00.000000000",
          "2015-01-01T00:00:00.000000000",
          "2015-01-01T00:00:00.000000000",
          "2015-01-01T00:00:00.000000000",
          "2015-01-01T00:00:00.000000000",
          "2015-01-01T00:00:00.000000000",
          "2015-01-01T00:00:00.000000000",
          "2015-01-01T00:00:00.000000000",
          "2015-01-01T00:00:00.000000000",
          "2015-01-01T00:00:00.000000000",
          "2016-01-01T00:00:00.000000000",
          "2016-01-01T00:00:00.000000000",
          "2016-01-01T00:00:00.000000000",
          "2016-01-01T00:00:00.000000000",
          "2016-01-01T00:00:00.000000000",
          "2016-01-01T00:00:00.000000000",
          "2016-01-01T00:00:00.000000000",
          "2016-01-01T00:00:00.000000000",
          "2016-01-01T00:00:00.000000000",
          "2016-01-01T00:00:00.000000000",
          "2017-01-01T00:00:00.000000000",
          "2017-01-01T00:00:00.000000000",
          "2017-01-01T00:00:00.000000000",
          "2017-01-01T00:00:00.000000000",
          "2017-01-01T00:00:00.000000000",
          "2017-01-01T00:00:00.000000000",
          "2017-01-01T00:00:00.000000000",
          "2017-01-01T00:00:00.000000000",
          "2017-01-01T00:00:00.000000000",
          "2017-01-01T00:00:00.000000000",
          "2018-01-01T00:00:00.000000000",
          "2018-01-01T00:00:00.000000000",
          "2018-01-01T00:00:00.000000000",
          "2018-01-01T00:00:00.000000000",
          "2018-01-01T00:00:00.000000000",
          "2018-01-01T00:00:00.000000000",
          "2018-01-01T00:00:00.000000000",
          "2018-01-01T00:00:00.000000000",
          "2018-01-01T00:00:00.000000000",
          "2018-01-01T00:00:00.000000000",
          "2019-01-01T00:00:00.000000000",
          "2019-01-01T00:00:00.000000000",
          "2019-01-01T00:00:00.000000000",
          "2019-01-01T00:00:00.000000000",
          "2019-01-01T00:00:00.000000000",
          "2019-01-01T00:00:00.000000000",
          "2019-01-01T00:00:00.000000000",
          "2019-01-01T00:00:00.000000000",
          "2019-01-01T00:00:00.000000000",
          "2019-01-01T00:00:00.000000000",
          "2020-01-01T00:00:00.000000000",
          "2020-01-01T00:00:00.000000000",
          "2020-01-01T00:00:00.000000000",
          "2020-01-01T00:00:00.000000000",
          "2020-01-01T00:00:00.000000000",
          "2020-01-01T00:00:00.000000000",
          "2020-01-01T00:00:00.000000000",
          "2020-01-01T00:00:00.000000000",
          "2020-01-01T00:00:00.000000000",
          "2020-01-01T00:00:00.000000000",
          "2021-01-01T00:00:00.000000000",
          "2021-01-01T00:00:00.000000000",
          "2021-01-01T00:00:00.000000000",
          "2021-01-01T00:00:00.000000000",
          "2021-01-01T00:00:00.000000000",
          "2021-01-01T00:00:00.000000000",
          "2021-01-01T00:00:00.000000000",
          "2021-01-01T00:00:00.000000000",
          "2021-01-01T00:00:00.000000000",
          "2021-01-01T00:00:00.000000000",
          "2022-01-01T00:00:00.000000000",
          "2022-01-01T00:00:00.000000000",
          "2022-01-01T00:00:00.000000000",
          "2022-01-01T00:00:00.000000000",
          "2022-01-01T00:00:00.000000000",
          "2022-01-01T00:00:00.000000000",
          "2022-01-01T00:00:00.000000000",
          "2022-01-01T00:00:00.000000000",
          "2023-01-01T00:00:00.000000000",
          "2023-01-01T00:00:00.000000000",
          "2023-01-01T00:00:00.000000000",
          "2023-01-01T00:00:00.000000000",
          "2023-01-01T00:00:00.000000000",
          "2023-01-01T00:00:00.000000000",
          "2023-01-01T00:00:00.000000000",
          "2023-01-01T00:00:00.000000000",
          "2023-01-01T00:00:00.000000000",
          "2023-01-01T00:00:00.000000000",
          "2024-01-01T00:00:00.000000000",
          "2024-01-01T00:00:00.000000000",
          "2024-01-01T00:00:00.000000000",
          "2024-01-01T00:00:00.000000000",
          "2024-01-01T00:00:00.000000000",
          "2024-01-01T00:00:00.000000000",
          "2024-01-01T00:00:00.000000000",
          "2024-01-01T00:00:00.000000000",
          "2024-01-01T00:00:00.000000000",
          "2024-01-01T00:00:00.000000000"
         ],
         "xaxis": "x",
         "y": {
          "bdata": "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",
          "dtype": "f8"
         },
         "yaxis": "y"
        },
        {
         "hovertemplate": "product-name=No 2 Diesel Low Sulfur (0-15 Ppm)<br>Year=%{x}<br>Cost ($/GAL)=%{y}<extra></extra>",
         "legendgroup": "No 2 Diesel Low Sulfur (0-15 Ppm)",
         "line": {
          "color": "#19d3f3",
          "dash": "solid"
         },
         "marker": {
          "symbol": "circle"
         },
         "mode": "lines",
         "name": "No 2 Diesel Low Sulfur (0-15 Ppm)",
         "showlegend": true,
         "type": "scattergl",
         "x": [
          "2007-01-01T00:00:00.000000000",
          "2007-01-01T00:00:00.000000000",
          "2007-01-01T00:00:00.000000000",
          "2007-01-01T00:00:00.000000000",
          "2007-01-01T00:00:00.000000000",
          "2007-01-01T00:00:00.000000000",
          "2007-01-01T00:00:00.000000000",
          "2007-01-01T00:00:00.000000000",
          "2007-01-01T00:00:00.000000000",
          "2008-01-01T00:00:00.000000000",
          "2008-01-01T00:00:00.000000000",
          "2008-01-01T00:00:00.000000000",
          "2008-01-01T00:00:00.000000000",
          "2008-01-01T00:00:00.000000000",
          "2008-01-01T00:00:00.000000000",
          "2008-01-01T00:00:00.000000000",
          "2008-01-01T00:00:00.000000000",
          "2008-01-01T00:00:00.000000000",
          "2009-01-01T00:00:00.000000000",
          "2009-01-01T00:00:00.000000000",
          "2009-01-01T00:00:00.000000000",
          "2009-01-01T00:00:00.000000000",
          "2009-01-01T00:00:00.000000000",
          "2009-01-01T00:00:00.000000000",
          "2009-01-01T00:00:00.000000000",
          "2009-01-01T00:00:00.000000000",
          "2009-01-01T00:00:00.000000000",
          "2010-01-01T00:00:00.000000000",
          "2010-01-01T00:00:00.000000000",
          "2010-01-01T00:00:00.000000000",
          "2010-01-01T00:00:00.000000000",
          "2010-01-01T00:00:00.000000000",
          "2010-01-01T00:00:00.000000000",
          "2010-01-01T00:00:00.000000000",
          "2010-01-01T00:00:00.000000000",
          "2010-01-01T00:00:00.000000000",
          "2011-01-01T00:00:00.000000000",
          "2011-01-01T00:00:00.000000000",
          "2011-01-01T00:00:00.000000000",
          "2011-01-01T00:00:00.000000000",
          "2011-01-01T00:00:00.000000000",
          "2011-01-01T00:00:00.000000000",
          "2011-01-01T00:00:00.000000000",
          "2011-01-01T00:00:00.000000000",
          "2011-01-01T00:00:00.000000000",
          "2011-01-01T00:00:00.000000000",
          "2012-01-01T00:00:00.000000000",
          "2012-01-01T00:00:00.000000000",
          "2012-01-01T00:00:00.000000000",
          "2012-01-01T00:00:00.000000000",
          "2012-01-01T00:00:00.000000000",
          "2012-01-01T00:00:00.000000000",
          "2012-01-01T00:00:00.000000000",
          "2012-01-01T00:00:00.000000000",
          "2012-01-01T00:00:00.000000000",
          "2012-01-01T00:00:00.000000000",
          "2013-01-01T00:00:00.000000000",
          "2013-01-01T00:00:00.000000000",
          "2013-01-01T00:00:00.000000000",
          "2013-01-01T00:00:00.000000000",
          "2013-01-01T00:00:00.000000000",
          "2013-01-01T00:00:00.000000000",
          "2013-01-01T00:00:00.000000000",
          "2013-01-01T00:00:00.000000000",
          "2013-01-01T00:00:00.000000000",
          "2013-01-01T00:00:00.000000000",
          "2014-01-01T00:00:00.000000000",
          "2014-01-01T00:00:00.000000000",
          "2014-01-01T00:00:00.000000000",
          "2014-01-01T00:00:00.000000000",
          "2014-01-01T00:00:00.000000000",
          "2014-01-01T00:00:00.000000000",
          "2014-01-01T00:00:00.000000000",
          "2014-01-01T00:00:00.000000000",
          "2014-01-01T00:00:00.000000000",
          "2014-01-01T00:00:00.000000000",
          "2015-01-01T00:00:00.000000000",
          "2015-01-01T00:00:00.000000000",
          "2015-01-01T00:00:00.000000000",
          "2015-01-01T00:00:00.000000000",
          "2015-01-01T00:00:00.000000000",
          "2015-01-01T00:00:00.000000000",
          "2015-01-01T00:00:00.000000000",
          "2015-01-01T00:00:00.000000000",
          "2015-01-01T00:00:00.000000000",
          "2015-01-01T00:00:00.000000000",
          "2016-01-01T00:00:00.000000000",
          "2016-01-01T00:00:00.000000000",
          "2016-01-01T00:00:00.000000000",
          "2016-01-01T00:00:00.000000000",
          "2016-01-01T00:00:00.000000000",
          "2016-01-01T00:00:00.000000000",
          "2016-01-01T00:00:00.000000000",
          "2016-01-01T00:00:00.000000000",
          "2016-01-01T00:00:00.000000000",
          "2016-01-01T00:00:00.000000000",
          "2017-01-01T00:00:00.000000000",
          "2017-01-01T00:00:00.000000000",
          "2017-01-01T00:00:00.000000000",
          "2017-01-01T00:00:00.000000000",
          "2017-01-01T00:00:00.000000000",
          "2017-01-01T00:00:00.000000000",
          "2017-01-01T00:00:00.000000000",
          "2017-01-01T00:00:00.000000000",
          "2017-01-01T00:00:00.000000000",
          "2017-01-01T00:00:00.000000000",
          "2018-01-01T00:00:00.000000000",
          "2018-01-01T00:00:00.000000000",
          "2018-01-01T00:00:00.000000000",
          "2018-01-01T00:00:00.000000000",
          "2018-01-01T00:00:00.000000000",
          "2018-01-01T00:00:00.000000000",
          "2018-01-01T00:00:00.000000000",
          "2018-01-01T00:00:00.000000000",
          "2018-01-01T00:00:00.000000000",
          "2018-01-01T00:00:00.000000000",
          "2019-01-01T00:00:00.000000000",
          "2019-01-01T00:00:00.000000000",
          "2019-01-01T00:00:00.000000000",
          "2019-01-01T00:00:00.000000000",
          "2019-01-01T00:00:00.000000000",
          "2019-01-01T00:00:00.000000000",
          "2019-01-01T00:00:00.000000000",
          "2019-01-01T00:00:00.000000000",
          "2019-01-01T00:00:00.000000000",
          "2019-01-01T00:00:00.000000000",
          "2020-01-01T00:00:00.000000000",
          "2020-01-01T00:00:00.000000000",
          "2020-01-01T00:00:00.000000000",
          "2020-01-01T00:00:00.000000000",
          "2020-01-01T00:00:00.000000000",
          "2020-01-01T00:00:00.000000000",
          "2020-01-01T00:00:00.000000000",
          "2020-01-01T00:00:00.000000000",
          "2020-01-01T00:00:00.000000000",
          "2020-01-01T00:00:00.000000000",
          "2021-01-01T00:00:00.000000000",
          "2021-01-01T00:00:00.000000000",
          "2021-01-01T00:00:00.000000000",
          "2021-01-01T00:00:00.000000000",
          "2021-01-01T00:00:00.000000000",
          "2021-01-01T00:00:00.000000000",
          "2021-01-01T00:00:00.000000000",
          "2021-01-01T00:00:00.000000000",
          "2021-01-01T00:00:00.000000000",
          "2021-01-01T00:00:00.000000000",
          "2022-01-01T00:00:00.000000000",
          "2022-01-01T00:00:00.000000000",
          "2022-01-01T00:00:00.000000000",
          "2022-01-01T00:00:00.000000000",
          "2022-01-01T00:00:00.000000000",
          "2022-01-01T00:00:00.000000000",
          "2022-01-01T00:00:00.000000000",
          "2022-01-01T00:00:00.000000000",
          "2023-01-01T00:00:00.000000000",
          "2023-01-01T00:00:00.000000000",
          "2023-01-01T00:00:00.000000000",
          "2023-01-01T00:00:00.000000000",
          "2023-01-01T00:00:00.000000000",
          "2023-01-01T00:00:00.000000000",
          "2023-01-01T00:00:00.000000000",
          "2023-01-01T00:00:00.000000000",
          "2023-01-01T00:00:00.000000000",
          "2023-01-01T00:00:00.000000000",
          "2024-01-01T00:00:00.000000000",
          "2024-01-01T00:00:00.000000000",
          "2024-01-01T00:00:00.000000000",
          "2024-01-01T00:00:00.000000000",
          "2024-01-01T00:00:00.000000000",
          "2024-01-01T00:00:00.000000000",
          "2024-01-01T00:00:00.000000000",
          "2024-01-01T00:00:00.000000000",
          "2024-01-01T00:00:00.000000000",
          "2024-01-01T00:00:00.000000000"
         ],
         "xaxis": "x",
         "y": {
          "bdata": "iBbZzvfTB0CIFtnO99MHQIgW2c730wdAiBbZzvfTB0CIFtnO99MHQIgW2c730wdAiBbZzvfTB0CIFtnO99MHQIgW2c730wdAL90kBoEVEECTGARWDi0OQAAAAAAAAA9Af2q8dJMYD0BmZmZmZmYPQBSuR+F6FA5AK4cW2c73D0DHSzeJQWAOQFCNl24Sgw5AFK5H4XoUBEBCYOXQItsEQGIQWDm0yANAke18PzVeA0ACK4cW2c4DQNV46SYxCAVAxSCwcmiRBEBQjZduEoMDQGDl0CLb+QRAuB6F61G4B0CuR+F6FK4IQKjGSzeJQQlA30+Nl24SCEAbL90kBoEHQIts5/up8QdAwcqhRbbzCEBoke18PzUIQEw3iUFg5QhAy6FFtvP9D0C8dJMYBFYQQIgW2c730wdA0SLb+X5qDkAzMzMzMzMOQG3n+6nx0g9AuB6F61G4DkBMN4lBYOUOQGIQWDm0yA9AVg4tsp3vDkDsUbgehesQQGZmZmZmZhBAQmDl0CLbD0A/NV66SQwQQFCNl24SgxBAWDm0yHa+D0D0/dR46aYQQP7UeOkmMQ9ANV66SQwCD0DXo3A9ClcQQBsv3SQGgRBATmIQWDm0D0A3iUFg5VAQQK5H4XoUrg5Ax0s3iUFgD0BOYhBYOTQQQArXo3A9ChBA+n5qvHSTD0DTTWIQWDkPQDVeukkMAg9AmpmZmZmZDkC6SQwCKwcQQGIQWDm0yA5AppvEILByDkBMN4lBYOUPQGIQWDm0yA5Aarx0kxgED0BqvHSTGAQQQM/3U+Olmw1AEFg5tMh2D0CHFtnO91MGQM/3U+OlmwRADi2yne+nBUDRItv5fmoHQIlBYOXQIgdAMQisHFpkBUAfhetRuB4IQB+F61G4HgVAyXa+nxovB0AK16NwPQoGQN9PjZduEgJA2/l+arx0BEAbL90kBoEDQArXo3A9CgNAexSuR+F6AkBEi2zn+6kCQAisHFpkOwVAO99PjZduAkDl0CLb+X4DQNEi2/l+agFArBxaZDvfA0BEi2zn+6kGQKabxCCwcgVA+n5qvHSTBkCF61G4HoUFQDMzMzMzMwVA+FPjpZvEBEBOYhBYObQHQBkEVg4tsgVA8KfGSzeJCED0/dR46SYNQAaBlUOLbAlArkfhehSuB0Atsp3vp8YJQIXrUbgehQlAy6FFtvP9DkDhehSuR+EIQBfZzvdT4wpATDeJQWDlCUCiRbbz/dQKQFYOLbKd7wxApHA9CtejB0CJQWDl0CIKQNnO91PjpQhAppvEILByCEB3vp8aL90JQD81XrpJDAlAWmQ730+NBkDy0k1iEFgIQPyp8dJNYg9AnMQgsHJoA0B56SYxCKwIQKabxCCwcgZAGy/dJAaBAkBiEFg5tMgFQGq8dJMYBAtAnMQgsHJoBEA3iUFg5dAFQMuhRbbz/QRAiUFg5dAiBECsHFpkO98LQP7UeOkmMQtADi2yne+nEECDwMqhRbYJQKJFtvP91A5AppvEILByC0BSuB6F61EIQG3n+6nx0glAsp3vp8ZLCkCTGARWDi0KQEoMAiuHFhVATDeJQWDlE0BI4XoUrkcUQGQ730+NlxNACKwcWmS7EkDb+X5qvPQTQNejcD0K1xRA0SLb+X5qFUBSuB6F61EPQHWTGARWDhJAVg4tsp1vEUBCYOXQItsQQCGwcmiRbRVASgwCK4cWEUBt5/up8VISQPhT46WbxBNARIts5/spEkD2KFyPwnUQQMl2vp8aLxBADi2yne+nC0DD9Shcj0IQQClcj8L1qBFABFYOLbKdDUDFILByaJENQO58PzVeug9AFK5H4XoUDkDTTWIQWLkTQCPb+X5qvA5A",
          "dtype": "f8"
         },
         "yaxis": "y"
        }
       ],
       "layout": {
        "height": 500,
        "legend": {
         "title": {
          "text": "product-name"
         },
         "tracegroupgap": 0
        },
        "template": {
         "data": {
          "bar": [
           {
            "error_x": {
             "color": "#2a3f5f"
            },
            "error_y": {
             "color": "#2a3f5f"
            },
            "marker": {
             "line": {
              "color": "#E5ECF6",
              "width": 0.5
             },
             "pattern": {
              "fillmode": "overlay",
              "size": 10,
              "solidity": 0.2
             }
            },
            "type": "bar"
           }
          ],
          "barpolar": [
           {
            "marker": {
             "line": {
              "color": "#E5ECF6",
              "width": 0.5
             },
             "pattern": {
              "fillmode": "overlay",
              "size": 10,
              "solidity": 0.2
             }
            },
            "type": "barpolar"
           }
          ],
          "carpet": [
           {
            "aaxis": {
             "endlinecolor": "#2a3f5f",
             "gridcolor": "white",
             "linecolor": "white",
             "minorgridcolor": "white",
             "startlinecolor": "#2a3f5f"
            },
            "baxis": {
             "endlinecolor": "#2a3f5f",
             "gridcolor": "white",
             "linecolor": "white",
             "minorgridcolor": "white",
             "startlinecolor": "#2a3f5f"
            },
            "type": "carpet"
           }
          ],
          "choropleth": [
           {
            "colorbar": {
             "outlinewidth": 0,
             "ticks": ""
            },
            "type": "choropleth"
           }
          ],
          "contour": [
           {
            "colorbar": {
             "outlinewidth": 0,
             "ticks": ""
            },
            "colorscale": [
             [
              0,
              "#0d0887"
             ],
             [
              0.1111111111111111,
              "#46039f"
             ],
             [
              0.2222222222222222,
              "#7201a8"
             ],
             [
              0.3333333333333333,
              "#9c179e"
             ],
             [
              0.4444444444444444,
              "#bd3786"
             ],
             [
              0.5555555555555556,
              "#d8576b"
             ],
             [
              0.6666666666666666,
              "#ed7953"
             ],
             [
              0.7777777777777778,
              "#fb9f3a"
             ],
             [
              0.8888888888888888,
              "#fdca26"
             ],
             [
              1,
              "#f0f921"
             ]
            ],
            "type": "contour"
           }
          ],
          "contourcarpet": [
           {
            "colorbar": {
             "outlinewidth": 0,
             "ticks": ""
            },
            "type": "contourcarpet"
           }
          ],
          "heatmap": [
           {
            "colorbar": {
             "outlinewidth": 0,
             "ticks": ""
            },
            "colorscale": [
             [
              0,
              "#0d0887"
             ],
             [
              0.1111111111111111,
              "#46039f"
             ],
             [
              0.2222222222222222,
              "#7201a8"
             ],
             [
              0.3333333333333333,
              "#9c179e"
             ],
             [
              0.4444444444444444,
              "#bd3786"
             ],
             [
              0.5555555555555556,
              "#d8576b"
             ],
             [
              0.6666666666666666,
              "#ed7953"
             ],
             [
              0.7777777777777778,
              "#fb9f3a"
             ],
             [
              0.8888888888888888,
              "#fdca26"
             ],
             [
              1,
              "#f0f921"
             ]
            ],
            "type": "heatmap"
           }
          ],
          "histogram": [
           {
            "marker": {
             "pattern": {
              "fillmode": "overlay",
              "size": 10,
              "solidity": 0.2
             }
            },
            "type": "histogram"
           }
          ],
          "histogram2d": [
           {
            "colorbar": {
             "outlinewidth": 0,
             "ticks": ""
            },
            "colorscale": [
             [
              0,
              "#0d0887"
             ],
             [
              0.1111111111111111,
              "#46039f"
             ],
             [
              0.2222222222222222,
              "#7201a8"
             ],
             [
              0.3333333333333333,
              "#9c179e"
             ],
             [
              0.4444444444444444,
              "#bd3786"
             ],
             [
              0.5555555555555556,
              "#d8576b"
             ],
             [
              0.6666666666666666,
              "#ed7953"
             ],
             [
              0.7777777777777778,
              "#fb9f3a"
             ],
             [
              0.8888888888888888,
              "#fdca26"
             ],
             [
              1,
              "#f0f921"
             ]
            ],
            "type": "histogram2d"
           }
          ],
          "histogram2dcontour": [
           {
            "colorbar": {
             "outlinewidth": 0,
             "ticks": ""
            },
            "colorscale": [
             [
              0,
              "#0d0887"
             ],
             [
              0.1111111111111111,
              "#46039f"
             ],
             [
              0.2222222222222222,
              "#7201a8"
             ],
             [
              0.3333333333333333,
              "#9c179e"
             ],
             [
              0.4444444444444444,
              "#bd3786"
             ],
             [
              0.5555555555555556,
              "#d8576b"
             ],
             [
              0.6666666666666666,
              "#ed7953"
             ],
             [
              0.7777777777777778,
              "#fb9f3a"
             ],
             [
              0.8888888888888888,
              "#fdca26"
             ],
             [
              1,
              "#f0f921"
             ]
            ],
            "type": "histogram2dcontour"
           }
          ],
          "mesh3d": [
           {
            "colorbar": {
             "outlinewidth": 0,
             "ticks": ""
            },
            "type": "mesh3d"
           }
          ],
          "parcoords": [
           {
            "line": {
             "colorbar": {
              "outlinewidth": 0,
              "ticks": ""
             }
            },
            "type": "parcoords"
           }
          ],
          "pie": [
           {
            "automargin": true,
            "type": "pie"
           }
          ],
          "scatter": [
           {
            "fillpattern": {
             "fillmode": "overlay",
             "size": 10,
             "solidity": 0.2
            },
            "type": "scatter"
           }
          ],
          "scatter3d": [
           {
            "line": {
             "colorbar": {
              "outlinewidth": 0,
              "ticks": ""
             }
            },
            "marker": {
             "colorbar": {
              "outlinewidth": 0,
              "ticks": ""
             }
            },
            "type": "scatter3d"
           }
          ],
          "scattercarpet": [
           {
            "marker": {
             "colorbar": {
              "outlinewidth": 0,
              "ticks": ""
             }
            },
            "type": "scattercarpet"
           }
          ],
          "scattergeo": [
           {
            "marker": {
             "colorbar": {
              "outlinewidth": 0,
              "ticks": ""
             }
            },
            "type": "scattergeo"
           }
          ],
          "scattergl": [
           {
            "marker": {
             "colorbar": {
              "outlinewidth": 0,
              "ticks": ""
             }
            },
            "type": "scattergl"
           }
          ],
          "scattermap": [
           {
            "marker": {
             "colorbar": {
              "outlinewidth": 0,
              "ticks": ""
             }
            },
            "type": "scattermap"
           }
          ],
          "scattermapbox": [
           {
            "marker": {
             "colorbar": {
              "outlinewidth": 0,
              "ticks": ""
             }
            },
            "type": "scattermapbox"
           }
          ],
          "scatterpolar": [
           {
            "marker": {
             "colorbar": {
              "outlinewidth": 0,
              "ticks": ""
             }
            },
            "type": "scatterpolar"
           }
          ],
          "scatterpolargl": [
           {
            "marker": {
             "colorbar": {
              "outlinewidth": 0,
              "ticks": ""
             }
            },
            "type": "scatterpolargl"
           }
          ],
          "scatterternary": [
           {
            "marker": {
             "colorbar": {
              "outlinewidth": 0,
              "ticks": ""
             }
            },
            "type": "scatterternary"
           }
          ],
          "surface": [
           {
            "colorbar": {
             "outlinewidth": 0,
             "ticks": ""
            },
            "colorscale": [
             [
              0,
              "#0d0887"
             ],
             [
              0.1111111111111111,
              "#46039f"
             ],
             [
              0.2222222222222222,
              "#7201a8"
             ],
             [
              0.3333333333333333,
              "#9c179e"
             ],
             [
              0.4444444444444444,
              "#bd3786"
             ],
             [
              0.5555555555555556,
              "#d8576b"
             ],
             [
              0.6666666666666666,
              "#ed7953"
             ],
             [
              0.7777777777777778,
              "#fb9f3a"
             ],
             [
              0.8888888888888888,
              "#fdca26"
             ],
             [
              1,
              "#f0f921"
             ]
            ],
            "type": "surface"
           }
          ],
          "table": [
           {
            "cells": {
             "fill": {
              "color": "#EBF0F8"
             },
             "line": {
              "color": "white"
             }
            },
            "header": {
             "fill": {
              "color": "#C8D4E3"
             },
             "line": {
              "color": "white"
             }
            },
            "type": "table"
           }
          ]
         },
         "layout": {
          "annotationdefaults": {
           "arrowcolor": "#2a3f5f",
           "arrowhead": 0,
           "arrowwidth": 1
          },
          "autotypenumbers": "strict",
          "coloraxis": {
           "colorbar": {
            "outlinewidth": 0,
            "ticks": ""
           }
          },
          "colorscale": {
           "diverging": [
            [
             0,
             "#8e0152"
            ],
            [
             0.1,
             "#c51b7d"
            ],
            [
             0.2,
             "#de77ae"
            ],
            [
             0.3,
             "#f1b6da"
            ],
            [
             0.4,
             "#fde0ef"
            ],
            [
             0.5,
             "#f7f7f7"
            ],
            [
             0.6,
             "#e6f5d0"
            ],
            [
             0.7,
             "#b8e186"
            ],
            [
             0.8,
             "#7fbc41"
            ],
            [
             0.9,
             "#4d9221"
            ],
            [
             1,
             "#276419"
            ]
           ],
           "sequential": [
            [
             0,
             "#0d0887"
            ],
            [
             0.1111111111111111,
             "#46039f"
            ],
            [
             0.2222222222222222,
             "#7201a8"
            ],
            [
             0.3333333333333333,
             "#9c179e"
            ],
            [
             0.4444444444444444,
             "#bd3786"
            ],
            [
             0.5555555555555556,
             "#d8576b"
            ],
            [
             0.6666666666666666,
             "#ed7953"
            ],
            [
             0.7777777777777778,
             "#fb9f3a"
            ],
            [
             0.8888888888888888,
             "#fdca26"
            ],
            [
             1,
             "#f0f921"
            ]
           ],
           "sequentialminus": [
            [
             0,
             "#0d0887"
            ],
            [
             0.1111111111111111,
             "#46039f"
            ],
            [
             0.2222222222222222,
             "#7201a8"
            ],
            [
             0.3333333333333333,
             "#9c179e"
            ],
            [
             0.4444444444444444,
             "#bd3786"
            ],
            [
             0.5555555555555556,
             "#d8576b"
            ],
            [
             0.6666666666666666,
             "#ed7953"
            ],
            [
             0.7777777777777778,
             "#fb9f3a"
            ],
            [
             0.8888888888888888,
             "#fdca26"
            ],
            [
             1,
             "#f0f921"
            ]
           ]
          },
          "colorway": [
           "#636efa",
           "#EF553B",
           "#00cc96",
           "#ab63fa",
           "#FFA15A",
           "#19d3f3",
           "#FF6692",
           "#B6E880",
           "#FF97FF",
           "#FECB52"
          ],
          "font": {
           "color": "#2a3f5f"
          },
          "geo": {
           "bgcolor": "white",
           "lakecolor": "white",
           "landcolor": "#E5ECF6",
           "showlakes": true,
           "showland": true,
           "subunitcolor": "white"
          },
          "hoverlabel": {
           "align": "left"
          },
          "hovermode": "closest",
          "mapbox": {
           "style": "light"
          },
          "paper_bgcolor": "white",
          "plot_bgcolor": "#E5ECF6",
          "polar": {
           "angularaxis": {
            "gridcolor": "white",
            "linecolor": "white",
            "ticks": ""
           },
           "bgcolor": "#E5ECF6",
           "radialaxis": {
            "gridcolor": "white",
            "linecolor": "white",
            "ticks": ""
           }
          },
          "scene": {
           "xaxis": {
            "backgroundcolor": "#E5ECF6",
            "gridcolor": "white",
            "gridwidth": 2,
            "linecolor": "white",
            "showbackground": true,
            "ticks": "",
            "zerolinecolor": "white"
           },
           "yaxis": {
            "backgroundcolor": "#E5ECF6",
            "gridcolor": "white",
            "gridwidth": 2,
            "linecolor": "white",
            "showbackground": true,
            "ticks": "",
            "zerolinecolor": "white"
           },
           "zaxis": {
            "backgroundcolor": "#E5ECF6",
            "gridcolor": "white",
            "gridwidth": 2,
            "linecolor": "white",
            "showbackground": true,
            "ticks": "",
            "zerolinecolor": "white"
           }
          },
          "shapedefaults": {
           "line": {
            "color": "#2a3f5f"
           }
          },
          "ternary": {
           "aaxis": {
            "gridcolor": "white",
            "linecolor": "white",
            "ticks": ""
           },
           "baxis": {
            "gridcolor": "white",
            "linecolor": "white",
            "ticks": ""
           },
           "bgcolor": "#E5ECF6",
           "caxis": {
            "gridcolor": "white",
            "linecolor": "white",
            "ticks": ""
           }
          },
          "title": {
           "x": 0.05
          },
          "xaxis": {
           "automargin": true,
           "gridcolor": "white",
           "linecolor": "white",
           "ticks": "",
           "title": {
            "standoff": 15
           },
           "zerolinecolor": "white",
           "zerolinewidth": 2
          },
          "yaxis": {
           "automargin": true,
           "gridcolor": "white",
           "linecolor": "white",
           "ticks": "",
           "title": {
            "standoff": 15
           },
           "zerolinecolor": "white",
           "zerolinewidth": 2
          }
         }
        },
        "title": {
         "text": "Prices ($/Gallon) Trend Over the Years"
        },
        "xaxis": {
         "anchor": "y",
         "domain": [
          0,
          1
         ],
         "tickangle": 60,
         "title": {
          "text": "Year"
         }
        },
        "yaxis": {
         "anchor": "x",
         "domain": [
          0,
          1
         ],
         "title": {
          "text": "Cost ($/GAL)"
         }
        }
       }
      }
     },
     "metadata": {},
     "output_type": "display_data"
    },
    {
     "data": {
      "application/vnd.plotly.v1+json": {
       "config": {
        "plotlyServerURL": "https://plot.ly"
       },
       "data": [
        {
         "alignmentgroup": "True",
         "hovertemplate": "product=No 2 Diesel<br>Region=%{x}<br>Cost ($/GAL)=%{y}<extra></extra>",
         "legendgroup": "No 2 Diesel",
         "marker": {
          "color": "#636efa",
          "pattern": {
           "shape": ""
          }
         },
         "name": "No 2 Diesel",
         "offsetgroup": "No 2 Diesel",
         "orientation": "v",
         "showlegend": true,
         "textposition": "auto",
         "type": "bar",
         "x": [
          "Padd 2",
          "Padd 5 Except California",
          "Padd 1B",
          "Padd 3",
          "Padd 5",
          "Padd 1A",
          "Padd 1",
          "U.S.",
          "California",
          "Padd 4",
          "Padd 1A",
          "Padd 1B",
          "Padd 2",
          "Padd 5 Except California",
          "Padd 1",
          "Padd 3",
          "U.S.",
          "California",
          "Padd 5",
          "Padd 4"
         ],
         "xaxis": "x",
         "y": {
          "bdata": "9ihcj8J1EEBt5/up8VISQESLbOf7KRJAUrgehetRD0D4U+Olm8QTQHWTGARWDhJASgwCK4cWEUBCYOXQItsQQCGwcmiRbRVAVg4tsp1vEUDD9Shcj0IQQMl2vp8aLxBAxSCwcmiRDUDufD81XroPQCPb+X5qvA5ADi2yne+nC0AUrkfhehQOQNNNYhBYuRNAKVyPwvWoEUAEVg4tsp0NQA==",
          "dtype": "f8"
         },
         "yaxis": "y"
        },
        {
         "alignmentgroup": "True",
         "hovertemplate": "product=Total Gasoline<br>Region=%{x}<br>Cost ($/GAL)=%{y}<extra></extra>",
         "legendgroup": "Total Gasoline",
         "marker": {
          "color": "#EF553B",
          "pattern": {
           "shape": ""
          }
         },
         "name": "Total Gasoline",
         "offsetgroup": "Total Gasoline",
         "orientation": "v",
         "showlegend": true,
         "textposition": "auto",
         "type": "bar",
         "x": [
          "Padd 5 Except California",
          "Padd 1B",
          "Padd 1A",
          "Padd 2",
          "Padd 3",
          "Padd 5",
          "U.S.",
          "Padd 4",
          "Padd 1",
          "California",
          "Padd 1A",
          "U.S.",
          "Padd 1",
          "Padd 2",
          "California",
          "Padd 1B",
          "Padd 3",
          "Padd 5",
          "Padd 4",
          "Padd 5 Except California"
         ],
         "xaxis": "x",
         "y": {
          "bdata": "EoPAyqFFEUDy0k1iEFgNQLgehetRuAxA5dAi2/l+C0CcxCCwcmgJQIXrUbgehRJAFK5H4XoUDUC4HoXrUbgNQGq8dJMYBAxAarx0kxiEE0BqvHSTGAQLQDEIrBxaZAtAGQRWDi2yCkBWDi2yne8JQMUgsHJokRJAjZduEoPAC0DXo3A9CtcHQMP1KFyPQhFAJzEIrBxaCkCyne+nxksPQA==",
          "dtype": "f8"
         },
         "yaxis": "y"
        },
        {
         "alignmentgroup": "True",
         "hovertemplate": "product=Regular Gasoline<br>Region=%{x}<br>Cost ($/GAL)=%{y}<extra></extra>",
         "legendgroup": "Regular Gasoline",
         "marker": {
          "color": "#00cc96",
          "pattern": {
           "shape": ""
          }
         },
         "name": "Regular Gasoline",
         "offsetgroup": "Regular Gasoline",
         "orientation": "v",
         "showlegend": true,
         "textposition": "auto",
         "type": "bar",
         "x": [
          "Padd 1A",
          "Padd 5 Except California",
          "Padd 1B",
          "Padd 1",
          "U.S.",
          "Padd 2",
          "Padd 5",
          "California",
          "Padd 4",
          "Padd 3",
          "Padd 5",
          "Padd 5 Except California",
          "Padd 2",
          "Padd 1A",
          "Padd 1",
          "U.S.",
          "Padd 4",
          "Padd 1B",
          "California",
          "Padd 3"
         ],
         "xaxis": "x",
         "y": {
          "bdata": "w/UoXI/CC0CcxCCwcugQQOXQItv5fgxA/tR46SYxC0D0/dR46SYMQIGVQ4ts5wpAWmQ7308NEkBkO99PjRcTQC2yne+nxgxA7nw/NV66CEAj2/l+arwQQLByaJHtfA5A5/up8dJNCUD2KFyPwvUJQG3n+6nx0glAO99PjZduCkAxCKwcWmQJQEJg5dAi2wpAtMh2vp8aEkBKDAIrhxYHQA==",
          "dtype": "f8"
         },
         "yaxis": "y"
        },
        {
         "alignmentgroup": "True",
         "hovertemplate": "product=Reformulated Motor Gasoline<br>Region=%{x}<br>Cost ($/GAL)=%{y}<extra></extra>",
         "legendgroup": "Reformulated Motor Gasoline",
         "marker": {
          "color": "#ab63fa",
          "pattern": {
           "shape": ""
          }
         },
         "name": "Reformulated Motor Gasoline",
         "offsetgroup": "Reformulated Motor Gasoline",
         "orientation": "v",
         "showlegend": true,
         "textposition": "auto",
         "type": "bar",
         "x": [
          "California",
          "Padd 1",
          "Padd 2",
          "Padd 3",
          "Padd 1B",
          "Padd 5 Except California",
          "Padd 5",
          "Padd 1A",
          "U.S.",
          "Padd 2",
          "U.S.",
          "Padd 5",
          "Padd 3",
          "Padd 1",
          "California",
          "Padd 1A",
          "Padd 5 Except California",
          "Padd 1B"
         ],
         "xaxis": "x",
         "y": {
          "bdata": "arx0kxiEE0B56SYxCKwMQLx0kxgEVg5A9P3UeOkmCUCLbOf7qfEMQA4tsp3vpxBApHA9CtcjE0BOYhBYObQMQLByaJHtfA9AtMh2vp8aDUB56SYxCKwNQFCNl24SAxJArBxaZDvfB0AUrkfhehQLQMUgsHJokRJACtejcD0KC0Av3SQGgZUMQLKd76fGSwtA",
          "dtype": "f8"
         },
         "yaxis": "y"
        },
        {
         "alignmentgroup": "True",
         "hovertemplate": "product=Premium Gasoline<br>Region=%{x}<br>Cost ($/GAL)=%{y}<extra></extra>",
         "legendgroup": "Premium Gasoline",
         "marker": {
          "color": "#FFA15A",
          "pattern": {
           "shape": ""
          }
         },
         "name": "Premium Gasoline",
         "offsetgroup": "Premium Gasoline",
         "orientation": "v",
         "showlegend": true,
         "textposition": "auto",
         "type": "bar",
         "x": [
          "Padd 2",
          "Padd 1",
          "Padd 5",
          "Padd 5 Except California",
          "Padd 1B",
          "Padd 1A",
          "U.S.",
          "Padd 3",
          "Padd 4",
          "California",
          "Padd 1",
          "Padd 3",
          "Padd 2",
          "Padd 4",
          "California",
          "Padd 1B",
          "Padd 5",
          "Padd 5 Except California",
          "Padd 1A",
          "U.S."
         ],
         "xaxis": "x",
         "y": {
          "bdata": "7FG4HoXrEEBOYhBYObQQQE5iEFg5NBRAtMh2vp8aE0Coxks3iUERQAIrhxbZThFAy6FFtvN9EUDZzvdT46UOQA4tsp3vpxBALbKd76fGFECuR+F6FC4QQI/C9Shcjw1A16NwPQpXEEBU46WbxCAOQHE9Ctej8BNAmpmZmZmZEEBEi2zn+ykTQK5H4XoUrhFAf2q8dJOYEEBI4XoUrscQQA==",
          "dtype": "f8"
         },
         "yaxis": "y"
        },
        {
         "alignmentgroup": "True",
         "hovertemplate": "product=Ultra-Low Sulfur Diesel (0–15 ppm)<br>Region=%{x}<br>Cost ($/GAL)=%{y}<extra></extra>",
         "legendgroup": "Ultra-Low Sulfur Diesel (0–15 ppm)",
         "marker": {
          "color": "#19d3f3",
          "pattern": {
           "shape": ""
          }
         },
         "name": "Ultra-Low Sulfur Diesel (0–15 ppm)",
         "offsetgroup": "Ultra-Low Sulfur Diesel (0–15 ppm)",
         "orientation": "v",
         "showlegend": true,
         "textposition": "auto",
         "type": "bar",
         "x": [
          "Padd 3",
          "Padd 1A",
          "Padd 4",
          "U.S.",
          "California",
          "Padd 1",
          "Padd 5 Except California",
          "Padd 5",
          "Padd 1B",
          "Padd 2",
          "Padd 1B",
          "Padd 3",
          "Padd 1A",
          "Padd 5",
          "Padd 4",
          "Padd 2",
          "Padd 5 Except California",
          "U.S.",
          "California",
          "Padd 1"
         ],
         "xaxis": "x",
         "y": {
          "bdata": "UrgehetRD0B1kxgEVg4SQFYOLbKdbxFAQmDl0CLbEEAhsHJokW0VQEoMAiuHFhFAbef7qfFSEkD4U+Olm8QTQESLbOf7KRJA9ihcj8J1EEDJdr6fGi8QQA4tsp3vpwtAw/UoXI9CEEApXI/C9agRQARWDi2ynQ1AxSCwcmiRDUDufD81XroPQBSuR+F6FA5A001iEFi5E0Aj2/l+arwOQA==",
          "dtype": "f8"
         },
         "yaxis": "y"
        }
       ],
       "layout": {
        "barmode": "group",
        "height": 600,
        "legend": {
         "title": {
          "text": "product"
         },
         "tracegroupgap": 0
        },
        "template": {
         "data": {
          "bar": [
           {
            "error_x": {
             "color": "#2a3f5f"
            },
            "error_y": {
             "color": "#2a3f5f"
            },
            "marker": {
             "line": {
              "color": "#E5ECF6",
              "width": 0.5
             },
             "pattern": {
              "fillmode": "overlay",
              "size": 10,
              "solidity": 0.2
             }
            },
            "type": "bar"
           }
          ],
          "barpolar": [
           {
            "marker": {
             "line": {
              "color": "#E5ECF6",
              "width": 0.5
             },
             "pattern": {
              "fillmode": "overlay",
              "size": 10,
              "solidity": 0.2
             }
            },
            "type": "barpolar"
           }
          ],
          "carpet": [
           {
            "aaxis": {
             "endlinecolor": "#2a3f5f",
             "gridcolor": "white",
             "linecolor": "white",
             "minorgridcolor": "white",
             "startlinecolor": "#2a3f5f"
            },
            "baxis": {
             "endlinecolor": "#2a3f5f",
             "gridcolor": "white",
             "linecolor": "white",
             "minorgridcolor": "white",
             "startlinecolor": "#2a3f5f"
            },
            "type": "carpet"
           }
          ],
          "choropleth": [
           {
            "colorbar": {
             "outlinewidth": 0,
             "ticks": ""
            },
            "type": "choropleth"
           }
          ],
          "contour": [
           {
            "colorbar": {
             "outlinewidth": 0,
             "ticks": ""
            },
            "colorscale": [
             [
              0,
              "#0d0887"
             ],
             [
              0.1111111111111111,
              "#46039f"
             ],
             [
              0.2222222222222222,
              "#7201a8"
             ],
             [
              0.3333333333333333,
              "#9c179e"
             ],
             [
              0.4444444444444444,
              "#bd3786"
             ],
             [
              0.5555555555555556,
              "#d8576b"
             ],
             [
              0.6666666666666666,
              "#ed7953"
             ],
             [
              0.7777777777777778,
              "#fb9f3a"
             ],
             [
              0.8888888888888888,
              "#fdca26"
             ],
             [
              1,
              "#f0f921"
             ]
            ],
            "type": "contour"
           }
          ],
          "contourcarpet": [
           {
            "colorbar": {
             "outlinewidth": 0,
             "ticks": ""
            },
            "type": "contourcarpet"
           }
          ],
          "heatmap": [
           {
            "colorbar": {
             "outlinewidth": 0,
             "ticks": ""
            },
            "colorscale": [
             [
              0,
              "#0d0887"
             ],
             [
              0.1111111111111111,
              "#46039f"
             ],
             [
              0.2222222222222222,
              "#7201a8"
             ],
             [
              0.3333333333333333,
              "#9c179e"
             ],
             [
              0.4444444444444444,
              "#bd3786"
             ],
             [
              0.5555555555555556,
              "#d8576b"
             ],
             [
              0.6666666666666666,
              "#ed7953"
             ],
             [
              0.7777777777777778,
              "#fb9f3a"
             ],
             [
              0.8888888888888888,
              "#fdca26"
             ],
             [
              1,
              "#f0f921"
             ]
            ],
            "type": "heatmap"
           }
          ],
          "histogram": [
           {
            "marker": {
             "pattern": {
              "fillmode": "overlay",
              "size": 10,
              "solidity": 0.2
             }
            },
            "type": "histogram"
           }
          ],
          "histogram2d": [
           {
            "colorbar": {
             "outlinewidth": 0,
             "ticks": ""
            },
            "colorscale": [
             [
              0,
              "#0d0887"
             ],
             [
              0.1111111111111111,
              "#46039f"
             ],
             [
              0.2222222222222222,
              "#7201a8"
             ],
             [
              0.3333333333333333,
              "#9c179e"
             ],
             [
              0.4444444444444444,
              "#bd3786"
             ],
             [
              0.5555555555555556,
              "#d8576b"
             ],
             [
              0.6666666666666666,
              "#ed7953"
             ],
             [
              0.7777777777777778,
              "#fb9f3a"
             ],
             [
              0.8888888888888888,
              "#fdca26"
             ],
             [
              1,
              "#f0f921"
             ]
            ],
            "type": "histogram2d"
           }
          ],
          "histogram2dcontour": [
           {
            "colorbar": {
             "outlinewidth": 0,
             "ticks": ""
            },
            "colorscale": [
             [
              0,
              "#0d0887"
             ],
             [
              0.1111111111111111,
              "#46039f"
             ],
             [
              0.2222222222222222,
              "#7201a8"
             ],
             [
              0.3333333333333333,
              "#9c179e"
             ],
             [
              0.4444444444444444,
              "#bd3786"
             ],
             [
              0.5555555555555556,
              "#d8576b"
             ],
             [
              0.6666666666666666,
              "#ed7953"
             ],
             [
              0.7777777777777778,
              "#fb9f3a"
             ],
             [
              0.8888888888888888,
              "#fdca26"
             ],
             [
              1,
              "#f0f921"
             ]
            ],
            "type": "histogram2dcontour"
           }
          ],
          "mesh3d": [
           {
            "colorbar": {
             "outlinewidth": 0,
             "ticks": ""
            },
            "type": "mesh3d"
           }
          ],
          "parcoords": [
           {
            "line": {
             "colorbar": {
              "outlinewidth": 0,
              "ticks": ""
             }
            },
            "type": "parcoords"
           }
          ],
          "pie": [
           {
            "automargin": true,
            "type": "pie"
           }
          ],
          "scatter": [
           {
            "fillpattern": {
             "fillmode": "overlay",
             "size": 10,
             "solidity": 0.2
            },
            "type": "scatter"
           }
          ],
          "scatter3d": [
           {
            "line": {
             "colorbar": {
              "outlinewidth": 0,
              "ticks": ""
             }
            },
            "marker": {
             "colorbar": {
              "outlinewidth": 0,
              "ticks": ""
             }
            },
            "type": "scatter3d"
           }
          ],
          "scattercarpet": [
           {
            "marker": {
             "colorbar": {
              "outlinewidth": 0,
              "ticks": ""
             }
            },
            "type": "scattercarpet"
           }
          ],
          "scattergeo": [
           {
            "marker": {
             "colorbar": {
              "outlinewidth": 0,
              "ticks": ""
             }
            },
            "type": "scattergeo"
           }
          ],
          "scattergl": [
           {
            "marker": {
             "colorbar": {
              "outlinewidth": 0,
              "ticks": ""
             }
            },
            "type": "scattergl"
           }
          ],
          "scattermap": [
           {
            "marker": {
             "colorbar": {
              "outlinewidth": 0,
              "ticks": ""
             }
            },
            "type": "scattermap"
           }
          ],
          "scattermapbox": [
           {
            "marker": {
             "colorbar": {
              "outlinewidth": 0,
              "ticks": ""
             }
            },
            "type": "scattermapbox"
           }
          ],
          "scatterpolar": [
           {
            "marker": {
             "colorbar": {
              "outlinewidth": 0,
              "ticks": ""
             }
            },
            "type": "scatterpolar"
           }
          ],
          "scatterpolargl": [
           {
            "marker": {
             "colorbar": {
              "outlinewidth": 0,
              "ticks": ""
             }
            },
            "type": "scatterpolargl"
           }
          ],
          "scatterternary": [
           {
            "marker": {
             "colorbar": {
              "outlinewidth": 0,
              "ticks": ""
             }
            },
            "type": "scatterternary"
           }
          ],
          "surface": [
           {
            "colorbar": {
             "outlinewidth": 0,
             "ticks": ""
            },
            "colorscale": [
             [
              0,
              "#0d0887"
             ],
             [
              0.1111111111111111,
              "#46039f"
             ],
             [
              0.2222222222222222,
              "#7201a8"
             ],
             [
              0.3333333333333333,
              "#9c179e"
             ],
             [
              0.4444444444444444,
              "#bd3786"
             ],
             [
              0.5555555555555556,
              "#d8576b"
             ],
             [
              0.6666666666666666,
              "#ed7953"
             ],
             [
              0.7777777777777778,
              "#fb9f3a"
             ],
             [
              0.8888888888888888,
              "#fdca26"
             ],
             [
              1,
              "#f0f921"
             ]
            ],
            "type": "surface"
           }
          ],
          "table": [
           {
            "cells": {
             "fill": {
              "color": "#EBF0F8"
             },
             "line": {
              "color": "white"
             }
            },
            "header": {
             "fill": {
              "color": "#C8D4E3"
             },
             "line": {
              "color": "white"
             }
            },
            "type": "table"
           }
          ]
         },
         "layout": {
          "annotationdefaults": {
           "arrowcolor": "#2a3f5f",
           "arrowhead": 0,
           "arrowwidth": 1
          },
          "autotypenumbers": "strict",
          "coloraxis": {
           "colorbar": {
            "outlinewidth": 0,
            "ticks": ""
           }
          },
          "colorscale": {
           "diverging": [
            [
             0,
             "#8e0152"
            ],
            [
             0.1,
             "#c51b7d"
            ],
            [
             0.2,
             "#de77ae"
            ],
            [
             0.3,
             "#f1b6da"
            ],
            [
             0.4,
             "#fde0ef"
            ],
            [
             0.5,
             "#f7f7f7"
            ],
            [
             0.6,
             "#e6f5d0"
            ],
            [
             0.7,
             "#b8e186"
            ],
            [
             0.8,
             "#7fbc41"
            ],
            [
             0.9,
             "#4d9221"
            ],
            [
             1,
             "#276419"
            ]
           ],
           "sequential": [
            [
             0,
             "#0d0887"
            ],
            [
             0.1111111111111111,
             "#46039f"
            ],
            [
             0.2222222222222222,
             "#7201a8"
            ],
            [
             0.3333333333333333,
             "#9c179e"
            ],
            [
             0.4444444444444444,
             "#bd3786"
            ],
            [
             0.5555555555555556,
             "#d8576b"
            ],
            [
             0.6666666666666666,
             "#ed7953"
            ],
            [
             0.7777777777777778,
             "#fb9f3a"
            ],
            [
             0.8888888888888888,
             "#fdca26"
            ],
            [
             1,
             "#f0f921"
            ]
           ],
           "sequentialminus": [
            [
             0,
             "#0d0887"
            ],
            [
             0.1111111111111111,
             "#46039f"
            ],
            [
             0.2222222222222222,
             "#7201a8"
            ],
            [
             0.3333333333333333,
             "#9c179e"
            ],
            [
             0.4444444444444444,
             "#bd3786"
            ],
            [
             0.5555555555555556,
             "#d8576b"
            ],
            [
             0.6666666666666666,
             "#ed7953"
            ],
            [
             0.7777777777777778,
             "#fb9f3a"
            ],
            [
             0.8888888888888888,
             "#fdca26"
            ],
            [
             1,
             "#f0f921"
            ]
           ]
          },
          "colorway": [
           "#636efa",
           "#EF553B",
           "#00cc96",
           "#ab63fa",
           "#FFA15A",
           "#19d3f3",
           "#FF6692",
           "#B6E880",
           "#FF97FF",
           "#FECB52"
          ],
          "font": {
           "color": "#2a3f5f"
          },
          "geo": {
           "bgcolor": "white",
           "lakecolor": "white",
           "landcolor": "#E5ECF6",
           "showlakes": true,
           "showland": true,
           "subunitcolor": "white"
          },
          "hoverlabel": {
           "align": "left"
          },
          "hovermode": "closest",
          "mapbox": {
           "style": "light"
          },
          "paper_bgcolor": "white",
          "plot_bgcolor": "#E5ECF6",
          "polar": {
           "angularaxis": {
            "gridcolor": "white",
            "linecolor": "white",
            "ticks": ""
           },
           "bgcolor": "#E5ECF6",
           "radialaxis": {
            "gridcolor": "white",
            "linecolor": "white",
            "ticks": ""
           }
          },
          "scene": {
           "xaxis": {
            "backgroundcolor": "#E5ECF6",
            "gridcolor": "white",
            "gridwidth": 2,
            "linecolor": "white",
            "showbackground": true,
            "ticks": "",
            "zerolinecolor": "white"
           },
           "yaxis": {
            "backgroundcolor": "#E5ECF6",
            "gridcolor": "white",
            "gridwidth": 2,
            "linecolor": "white",
            "showbackground": true,
            "ticks": "",
            "zerolinecolor": "white"
           },
           "zaxis": {
            "backgroundcolor": "#E5ECF6",
            "gridcolor": "white",
            "gridwidth": 2,
            "linecolor": "white",
            "showbackground": true,
            "ticks": "",
            "zerolinecolor": "white"
           }
          },
          "shapedefaults": {
           "line": {
            "color": "#2a3f5f"
           }
          },
          "ternary": {
           "aaxis": {
            "gridcolor": "white",
            "linecolor": "white",
            "ticks": ""
           },
           "baxis": {
            "gridcolor": "white",
            "linecolor": "white",
            "ticks": ""
           },
           "bgcolor": "#E5ECF6",
           "caxis": {
            "gridcolor": "white",
            "linecolor": "white",
            "ticks": ""
           }
          },
          "title": {
           "x": 0.05
          },
          "xaxis": {
           "automargin": true,
           "gridcolor": "white",
           "linecolor": "white",
           "ticks": "",
           "title": {
            "standoff": 15
           },
           "zerolinecolor": "white",
           "zerolinewidth": 2
          },
          "yaxis": {
           "automargin": true,
           "gridcolor": "white",
           "linecolor": "white",
           "ticks": "",
           "title": {
            "standoff": 15
           },
           "zerolinecolor": "white",
           "zerolinewidth": 2
          }
         }
        },
        "title": {
         "text": "Regional Cost by Area and Product (2024–2025)"
        },
        "xaxis": {
         "anchor": "y",
         "domain": [
          0,
          1
         ],
         "tickangle": 60,
         "title": {
          "text": "Region"
         }
        },
        "yaxis": {
         "anchor": "x",
         "domain": [
          0,
          1
         ],
         "title": {
          "text": "Cost ($/GAL)"
         }
        }
       }
      }
     },
     "metadata": {},
     "output_type": "display_data"
    },
    {
     "data": {
      "application/vnd.plotly.v1+json": {
       "config": {
        "plotlyServerURL": "https://plot.ly"
       },
       "data": [
        {
         "alignmentgroup": "True",
         "hovertemplate": "period=2023-01-01 00:00:00<br>Product Name=%{x}<br>Cost ($/GAL)=%{y}<extra></extra>",
         "legendgroup": "2023-01-01 00:00:00",
         "marker": {
          "color": "#636efa",
          "pattern": {
           "shape": ""
          }
         },
         "name": "2023-01-01 00:00:00",
         "offsetgroup": "2023-01-01 00:00:00",
         "orientation": "v",
         "showlegend": true,
         "textposition": "auto",
         "type": "bar",
         "x": [
          "No 2 Diesel",
          "Total Gasoline",
          "No 2 Diesel",
          "No 2 Diesel",
          "Regular Gasoline",
          "Reformulated Motor Gasoline",
          "Premium Gasoline",
          "Ultra-Low Sulfur Diesel (0–15 ppm)",
          "No 2 Diesel",
          "No 2 Diesel",
          "Total Gasoline",
          "Ultra-Low Sulfur Diesel (0–15 ppm)",
          "Ultra-Low Sulfur Diesel (0–15 ppm)",
          "Premium Gasoline",
          "Reformulated Motor Gasoline",
          "No 2 Diesel",
          "Ultra-Low Sulfur Diesel (0–15 ppm)",
          "Reformulated Motor Gasoline",
          "Regular Gasoline",
          "Premium Gasoline",
          "Regular Gasoline",
          "Regular Gasoline",
          "Total Gasoline",
          "Ultra-Low Sulfur Diesel (0–15 ppm)",
          "Total Gasoline",
          "Premium Gasoline",
          "Reformulated Motor Gasoline",
          "Total Gasoline",
          "Total Gasoline",
          "Premium Gasoline",
          "Reformulated Motor Gasoline",
          "No 2 Diesel",
          "Regular Gasoline",
          "Regular Gasoline",
          "Reformulated Motor Gasoline",
          "Regular Gasoline",
          "Ultra-Low Sulfur Diesel (0–15 ppm)",
          "Premium Gasoline",
          "Regular Gasoline",
          "Total Gasoline",
          "No 2 Diesel",
          "Ultra-Low Sulfur Diesel (0–15 ppm)",
          "Reformulated Motor Gasoline",
          "Regular Gasoline",
          "No 2 Diesel",
          "Total Gasoline",
          "Premium Gasoline",
          "Regular Gasoline",
          "Premium Gasoline",
          "Ultra-Low Sulfur Diesel (0–15 ppm)",
          "Premium Gasoline",
          "No 2 Diesel",
          "Ultra-Low Sulfur Diesel (0–15 ppm)",
          "Total Gasoline",
          "Reformulated Motor Gasoline",
          "Premium Gasoline",
          "Total Gasoline",
          "Reformulated Motor Gasoline",
          "Ultra-Low Sulfur Diesel (0–15 ppm)"
         ],
         "xaxis": "x",
         "y": {
          "bdata": "9ihcj8J1EEASg8DKoUURQG3n+6nxUhJARIts5/spEkDD9Shcj8ILQGq8dJMYhBNA7FG4HoXrEEBSuB6F61EPQFK4HoXrUQ9A+FPjpZvEE0Dy0k1iEFgNQHWTGARWDhJAVg4tsp1vEUBOYhBYObQQQHnpJjEIrAxAdZMYBFYOEkBCYOXQItsQQLx0kxgEVg5AnMQgsHLoEEBOYhBYOTQUQOXQItv5fgxA/tR46SYxC0C4HoXrUbgMQCGwcmiRbRVA5dAi2/l+C0C0yHa+nxoTQPT91HjpJglAnMQgsHJoCUCF61G4HoUSQKjGSzeJQRFAi2zn+6nxDEBKDAIrhxYRQPT91HjpJgxAgZVDi2znCkAOLbKd76cQQFpkO99PDRJASgwCK4cWEUACK4cW2U4RQGQ730+NFxNAFK5H4XoUDUBCYOXQItsQQG3n+6nxUhJApHA9CtcjE0Atsp3vp8YMQCGwcmiRbRVAuB6F61G4DUDLoUW2830RQO58PzVeughA2c73U+OlDkD4U+Olm8QTQA4tsp3vpxBAVg4tsp1vEUBEi2zn+ykSQGq8dJMYBAxATmIQWDm0DEAtsp3vp8YUQGq8dJMYhBNAsHJoke18D0D2KFyPwnUQQA==",
          "dtype": "f8"
         },
         "yaxis": "y"
        },
        {
         "alignmentgroup": "True",
         "hovertemplate": "period=2024-01-01 00:00:00<br>Product Name=%{x}<br>Cost ($/GAL)=%{y}<extra></extra>",
         "legendgroup": "2024-01-01 00:00:00",
         "marker": {
          "color": "#EF553B",
          "pattern": {
           "shape": ""
          }
         },
         "name": "2024-01-01 00:00:00",
         "offsetgroup": "2024-01-01 00:00:00",
         "orientation": "v",
         "showlegend": true,
         "textposition": "auto",
         "type": "bar",
         "x": [
          "Reformulated Motor Gasoline",
          "Reformulated Motor Gasoline",
          "Total Gasoline",
          "Premium Gasoline",
          "Ultra-Low Sulfur Diesel (0–15 ppm)",
          "Reformulated Motor Gasoline",
          "Regular Gasoline",
          "Premium Gasoline",
          "Regular Gasoline",
          "Premium Gasoline",
          "Total Gasoline",
          "No 2 Diesel",
          "Total Gasoline",
          "Premium Gasoline",
          "No 2 Diesel",
          "Ultra-Low Sulfur Diesel (0–15 ppm)",
          "Reformulated Motor Gasoline",
          "No 2 Diesel",
          "Total Gasoline",
          "Regular Gasoline",
          "Regular Gasoline",
          "Reformulated Motor Gasoline",
          "Ultra-Low Sulfur Diesel (0–15 ppm)",
          "Ultra-Low Sulfur Diesel (0–15 ppm)",
          "No 2 Diesel",
          "Total Gasoline",
          "Reformulated Motor Gasoline",
          "No 2 Diesel",
          "Regular Gasoline",
          "Ultra-Low Sulfur Diesel (0–15 ppm)",
          "Total Gasoline",
          "No 2 Diesel",
          "Total Gasoline",
          "Regular Gasoline",
          "Regular Gasoline",
          "Regular Gasoline",
          "Ultra-Low Sulfur Diesel (0–15 ppm)",
          "No 2 Diesel",
          "Premium Gasoline",
          "Reformulated Motor Gasoline",
          "No 2 Diesel",
          "Premium Gasoline",
          "No 2 Diesel",
          "Total Gasoline",
          "Premium Gasoline",
          "Ultra-Low Sulfur Diesel (0–15 ppm)",
          "Reformulated Motor Gasoline",
          "Premium Gasoline",
          "Ultra-Low Sulfur Diesel (0–15 ppm)",
          "Ultra-Low Sulfur Diesel (0–15 ppm)",
          "Regular Gasoline",
          "Premium Gasoline",
          "Ultra-Low Sulfur Diesel (0–15 ppm)",
          "No 2 Diesel",
          "Total Gasoline",
          "Regular Gasoline",
          "Total Gasoline",
          "Premium Gasoline",
          "Reformulated Motor Gasoline"
         ],
         "xaxis": "x",
         "y": {
          "bdata": "tMh2vp8aDUB56SYxCKwNQGq8dJMYBAtArkfhehQuEEDJdr6fGi8QQFCNl24SAxJAI9v5fmq8EECPwvUoXI8NQLByaJHtfA5A16NwPQpXEEAxCKwcWmQLQMP1KFyPQhBAGQRWDi2yCkBU46WbxCAOQMl2vp8aLxBADi2yne+nC0CsHFpkO98HQMUgsHJokQ1AVg4tsp3vCUDn+6nx0k0JQPYoXI/C9QlAFK5H4XoUC0DD9Shcj0IQQClcj8L1qBFA7nw/NV66D0DFILByaJESQMUgsHJokRJAI9v5fmq8DkBt5/up8dIJQARWDi2ynQ1AjZduEoPAC0AOLbKd76cLQNejcD0K1wdAO99PjZduCkAxCKwcWmQJQEJg5dAi2wpAxSCwcmiRDUAUrkfhehQOQHE9Ctej8BNACtejcD0KC0DTTWIQWLkTQJqZmZmZmRBAKVyPwvWoEUDD9Shcj0IRQESLbOf7KRNA7nw/NV66D0Av3SQGgZUMQK5H4XoUrhFAFK5H4XoUDkDTTWIQWLkTQLTIdr6fGhJAf2q8dJOYEEAj2/l+arwOQARWDi2ynQ1AJzEIrBxaCkBKDAIrhxYHQLKd76fGSw9ASOF6FK7HEECyne+nxksLQA==",
          "dtype": "f8"
         },
         "yaxis": "y"
        }
       ],
       "layout": {
        "barmode": "group",
        "height": 500,
        "legend": {
         "title": {
          "text": "period"
         },
         "tracegroupgap": 0
        },
        "template": {
         "data": {
          "bar": [
           {
            "error_x": {
             "color": "#2a3f5f"
            },
            "error_y": {
             "color": "#2a3f5f"
            },
            "marker": {
             "line": {
              "color": "#E5ECF6",
              "width": 0.5
             },
             "pattern": {
              "fillmode": "overlay",
              "size": 10,
              "solidity": 0.2
             }
            },
            "type": "bar"
           }
          ],
          "barpolar": [
           {
            "marker": {
             "line": {
              "color": "#E5ECF6",
              "width": 0.5
             },
             "pattern": {
              "fillmode": "overlay",
              "size": 10,
              "solidity": 0.2
             }
            },
            "type": "barpolar"
           }
          ],
          "carpet": [
           {
            "aaxis": {
             "endlinecolor": "#2a3f5f",
             "gridcolor": "white",
             "linecolor": "white",
             "minorgridcolor": "white",
             "startlinecolor": "#2a3f5f"
            },
            "baxis": {
             "endlinecolor": "#2a3f5f",
             "gridcolor": "white",
             "linecolor": "white",
             "minorgridcolor": "white",
             "startlinecolor": "#2a3f5f"
            },
            "type": "carpet"
           }
          ],
          "choropleth": [
           {
            "colorbar": {
             "outlinewidth": 0,
             "ticks": ""
            },
            "type": "choropleth"
           }
          ],
          "contour": [
           {
            "colorbar": {
             "outlinewidth": 0,
             "ticks": ""
            },
            "colorscale": [
             [
              0,
              "#0d0887"
             ],
             [
              0.1111111111111111,
              "#46039f"
             ],
             [
              0.2222222222222222,
              "#7201a8"
             ],
             [
              0.3333333333333333,
              "#9c179e"
             ],
             [
              0.4444444444444444,
              "#bd3786"
             ],
             [
              0.5555555555555556,
              "#d8576b"
             ],
             [
              0.6666666666666666,
              "#ed7953"
             ],
             [
              0.7777777777777778,
              "#fb9f3a"
             ],
             [
              0.8888888888888888,
              "#fdca26"
             ],
             [
              1,
              "#f0f921"
             ]
            ],
            "type": "contour"
           }
          ],
          "contourcarpet": [
           {
            "colorbar": {
             "outlinewidth": 0,
             "ticks": ""
            },
            "type": "contourcarpet"
           }
          ],
          "heatmap": [
           {
            "colorbar": {
             "outlinewidth": 0,
             "ticks": ""
            },
            "colorscale": [
             [
              0,
              "#0d0887"
             ],
             [
              0.1111111111111111,
              "#46039f"
             ],
             [
              0.2222222222222222,
              "#7201a8"
             ],
             [
              0.3333333333333333,
              "#9c179e"
             ],
             [
              0.4444444444444444,
              "#bd3786"
             ],
             [
              0.5555555555555556,
              "#d8576b"
             ],
             [
              0.6666666666666666,
              "#ed7953"
             ],
             [
              0.7777777777777778,
              "#fb9f3a"
             ],
             [
              0.8888888888888888,
              "#fdca26"
             ],
             [
              1,
              "#f0f921"
             ]
            ],
            "type": "heatmap"
           }
          ],
          "histogram": [
           {
            "marker": {
             "pattern": {
              "fillmode": "overlay",
              "size": 10,
              "solidity": 0.2
             }
            },
            "type": "histogram"
           }
          ],
          "histogram2d": [
           {
            "colorbar": {
             "outlinewidth": 0,
             "ticks": ""
            },
            "colorscale": [
             [
              0,
              "#0d0887"
             ],
             [
              0.1111111111111111,
              "#46039f"
             ],
             [
              0.2222222222222222,
              "#7201a8"
             ],
             [
              0.3333333333333333,
              "#9c179e"
             ],
             [
              0.4444444444444444,
              "#bd3786"
             ],
             [
              0.5555555555555556,
              "#d8576b"
             ],
             [
              0.6666666666666666,
              "#ed7953"
             ],
             [
              0.7777777777777778,
              "#fb9f3a"
             ],
             [
              0.8888888888888888,
              "#fdca26"
             ],
             [
              1,
              "#f0f921"
             ]
            ],
            "type": "histogram2d"
           }
          ],
          "histogram2dcontour": [
           {
            "colorbar": {
             "outlinewidth": 0,
             "ticks": ""
            },
            "colorscale": [
             [
              0,
              "#0d0887"
             ],
             [
              0.1111111111111111,
              "#46039f"
             ],
             [
              0.2222222222222222,
              "#7201a8"
             ],
             [
              0.3333333333333333,
              "#9c179e"
             ],
             [
              0.4444444444444444,
              "#bd3786"
             ],
             [
              0.5555555555555556,
              "#d8576b"
             ],
             [
              0.6666666666666666,
              "#ed7953"
             ],
             [
              0.7777777777777778,
              "#fb9f3a"
             ],
             [
              0.8888888888888888,
              "#fdca26"
             ],
             [
              1,
              "#f0f921"
             ]
            ],
            "type": "histogram2dcontour"
           }
          ],
          "mesh3d": [
           {
            "colorbar": {
             "outlinewidth": 0,
             "ticks": ""
            },
            "type": "mesh3d"
           }
          ],
          "parcoords": [
           {
            "line": {
             "colorbar": {
              "outlinewidth": 0,
              "ticks": ""
             }
            },
            "type": "parcoords"
           }
          ],
          "pie": [
           {
            "automargin": true,
            "type": "pie"
           }
          ],
          "scatter": [
           {
            "fillpattern": {
             "fillmode": "overlay",
             "size": 10,
             "solidity": 0.2
            },
            "type": "scatter"
           }
          ],
          "scatter3d": [
           {
            "line": {
             "colorbar": {
              "outlinewidth": 0,
              "ticks": ""
             }
            },
            "marker": {
             "colorbar": {
              "outlinewidth": 0,
              "ticks": ""
             }
            },
            "type": "scatter3d"
           }
          ],
          "scattercarpet": [
           {
            "marker": {
             "colorbar": {
              "outlinewidth": 0,
              "ticks": ""
             }
            },
            "type": "scattercarpet"
           }
          ],
          "scattergeo": [
           {
            "marker": {
             "colorbar": {
              "outlinewidth": 0,
              "ticks": ""
             }
            },
            "type": "scattergeo"
           }
          ],
          "scattergl": [
           {
            "marker": {
             "colorbar": {
              "outlinewidth": 0,
              "ticks": ""
             }
            },
            "type": "scattergl"
           }
          ],
          "scattermap": [
           {
            "marker": {
             "colorbar": {
              "outlinewidth": 0,
              "ticks": ""
             }
            },
            "type": "scattermap"
           }
          ],
          "scattermapbox": [
           {
            "marker": {
             "colorbar": {
              "outlinewidth": 0,
              "ticks": ""
             }
            },
            "type": "scattermapbox"
           }
          ],
          "scatterpolar": [
           {
            "marker": {
             "colorbar": {
              "outlinewidth": 0,
              "ticks": ""
             }
            },
            "type": "scatterpolar"
           }
          ],
          "scatterpolargl": [
           {
            "marker": {
             "colorbar": {
              "outlinewidth": 0,
              "ticks": ""
             }
            },
            "type": "scatterpolargl"
           }
          ],
          "scatterternary": [
           {
            "marker": {
             "colorbar": {
              "outlinewidth": 0,
              "ticks": ""
             }
            },
            "type": "scatterternary"
           }
          ],
          "surface": [
           {
            "colorbar": {
             "outlinewidth": 0,
             "ticks": ""
            },
            "colorscale": [
             [
              0,
              "#0d0887"
             ],
             [
              0.1111111111111111,
              "#46039f"
             ],
             [
              0.2222222222222222,
              "#7201a8"
             ],
             [
              0.3333333333333333,
              "#9c179e"
             ],
             [
              0.4444444444444444,
              "#bd3786"
             ],
             [
              0.5555555555555556,
              "#d8576b"
             ],
             [
              0.6666666666666666,
              "#ed7953"
             ],
             [
              0.7777777777777778,
              "#fb9f3a"
             ],
             [
              0.8888888888888888,
              "#fdca26"
             ],
             [
              1,
              "#f0f921"
             ]
            ],
            "type": "surface"
           }
          ],
          "table": [
           {
            "cells": {
             "fill": {
              "color": "#EBF0F8"
             },
             "line": {
              "color": "white"
             }
            },
            "header": {
             "fill": {
              "color": "#C8D4E3"
             },
             "line": {
              "color": "white"
             }
            },
            "type": "table"
           }
          ]
         },
         "layout": {
          "annotationdefaults": {
           "arrowcolor": "#2a3f5f",
           "arrowhead": 0,
           "arrowwidth": 1
          },
          "autotypenumbers": "strict",
          "coloraxis": {
           "colorbar": {
            "outlinewidth": 0,
            "ticks": ""
           }
          },
          "colorscale": {
           "diverging": [
            [
             0,
             "#8e0152"
            ],
            [
             0.1,
             "#c51b7d"
            ],
            [
             0.2,
             "#de77ae"
            ],
            [
             0.3,
             "#f1b6da"
            ],
            [
             0.4,
             "#fde0ef"
            ],
            [
             0.5,
             "#f7f7f7"
            ],
            [
             0.6,
             "#e6f5d0"
            ],
            [
             0.7,
             "#b8e186"
            ],
            [
             0.8,
             "#7fbc41"
            ],
            [
             0.9,
             "#4d9221"
            ],
            [
             1,
             "#276419"
            ]
           ],
           "sequential": [
            [
             0,
             "#0d0887"
            ],
            [
             0.1111111111111111,
             "#46039f"
            ],
            [
             0.2222222222222222,
             "#7201a8"
            ],
            [
             0.3333333333333333,
             "#9c179e"
            ],
            [
             0.4444444444444444,
             "#bd3786"
            ],
            [
             0.5555555555555556,
             "#d8576b"
            ],
            [
             0.6666666666666666,
             "#ed7953"
            ],
            [
             0.7777777777777778,
             "#fb9f3a"
            ],
            [
             0.8888888888888888,
             "#fdca26"
            ],
            [
             1,
             "#f0f921"
            ]
           ],
           "sequentialminus": [
            [
             0,
             "#0d0887"
            ],
            [
             0.1111111111111111,
             "#46039f"
            ],
            [
             0.2222222222222222,
             "#7201a8"
            ],
            [
             0.3333333333333333,
             "#9c179e"
            ],
            [
             0.4444444444444444,
             "#bd3786"
            ],
            [
             0.5555555555555556,
             "#d8576b"
            ],
            [
             0.6666666666666666,
             "#ed7953"
            ],
            [
             0.7777777777777778,
             "#fb9f3a"
            ],
            [
             0.8888888888888888,
             "#fdca26"
            ],
            [
             1,
             "#f0f921"
            ]
           ]
          },
          "colorway": [
           "#636efa",
           "#EF553B",
           "#00cc96",
           "#ab63fa",
           "#FFA15A",
           "#19d3f3",
           "#FF6692",
           "#B6E880",
           "#FF97FF",
           "#FECB52"
          ],
          "font": {
           "color": "#2a3f5f"
          },
          "geo": {
           "bgcolor": "white",
           "lakecolor": "white",
           "landcolor": "#E5ECF6",
           "showlakes": true,
           "showland": true,
           "subunitcolor": "white"
          },
          "hoverlabel": {
           "align": "left"
          },
          "hovermode": "closest",
          "mapbox": {
           "style": "light"
          },
          "paper_bgcolor": "white",
          "plot_bgcolor": "#E5ECF6",
          "polar": {
           "angularaxis": {
            "gridcolor": "white",
            "linecolor": "white",
            "ticks": ""
           },
           "bgcolor": "#E5ECF6",
           "radialaxis": {
            "gridcolor": "white",
            "linecolor": "white",
            "ticks": ""
           }
          },
          "scene": {
           "xaxis": {
            "backgroundcolor": "#E5ECF6",
            "gridcolor": "white",
            "gridwidth": 2,
            "linecolor": "white",
            "showbackground": true,
            "ticks": "",
            "zerolinecolor": "white"
           },
           "yaxis": {
            "backgroundcolor": "#E5ECF6",
            "gridcolor": "white",
            "gridwidth": 2,
            "linecolor": "white",
            "showbackground": true,
            "ticks": "",
            "zerolinecolor": "white"
           },
           "zaxis": {
            "backgroundcolor": "#E5ECF6",
            "gridcolor": "white",
            "gridwidth": 2,
            "linecolor": "white",
            "showbackground": true,
            "ticks": "",
            "zerolinecolor": "white"
           }
          },
          "shapedefaults": {
           "line": {
            "color": "#2a3f5f"
           }
          },
          "ternary": {
           "aaxis": {
            "gridcolor": "white",
            "linecolor": "white",
            "ticks": ""
           },
           "baxis": {
            "gridcolor": "white",
            "linecolor": "white",
            "ticks": ""
           },
           "bgcolor": "#E5ECF6",
           "caxis": {
            "gridcolor": "white",
            "linecolor": "white",
            "ticks": ""
           }
          },
          "title": {
           "x": 0.05
          },
          "xaxis": {
           "automargin": true,
           "gridcolor": "white",
           "linecolor": "white",
           "ticks": "",
           "title": {
            "standoff": 15
           },
           "zerolinecolor": "white",
           "zerolinewidth": 2
          },
          "yaxis": {
           "automargin": true,
           "gridcolor": "white",
           "linecolor": "white",
           "ticks": "",
           "title": {
            "standoff": 15
           },
           "zerolinecolor": "white",
           "zerolinewidth": 2
          }
         }
        },
        "title": {
         "text": "Fuel Type Cost by Area and Time (2024–2025)"
        },
        "xaxis": {
         "anchor": "y",
         "domain": [
          0,
          1
         ],
         "tickangle": 45,
         "title": {
          "text": "Product Name"
         }
        },
        "yaxis": {
         "anchor": "x",
         "domain": [
          0,
          1
         ],
         "title": {
          "text": "Cost ($/GAL)"
         }
        }
       }
      }
     },
     "metadata": {},
     "output_type": "display_data"
    },
    {
     "data": {
      "application/vnd.plotly.v1+json": {
       "config": {
        "plotlyServerURL": "https://plot.ly"
       },
       "data": [
        {
         "hovertemplate": "area-name=Padd 2<br>Period=%{x}<br>Cost ($/GAL)=%{y}<extra></extra>",
         "legendgroup": "Padd 2",
         "line": {
          "color": "#636efa",
          "dash": "solid"
         },
         "marker": {
          "symbol": "circle"
         },
         "mode": "lines",
         "name": "Padd 2",
         "showlegend": true,
         "type": "scattergl",
         "x": [
          "2001-01-01T00:00:00.000000000",
          "2001-01-01T00:00:00.000000000",
          "2001-01-01T00:00:00.000000000",
          "2001-01-01T00:00:00.000000000",
          "2001-01-01T00:00:00.000000000",
          "2002-01-01T00:00:00.000000000",
          "2002-01-01T00:00:00.000000000",
          "2002-01-01T00:00:00.000000000",
          "2002-01-01T00:00:00.000000000",
          "2002-01-01T00:00:00.000000000",
          "2003-01-01T00:00:00.000000000",
          "2003-01-01T00:00:00.000000000",
          "2003-01-01T00:00:00.000000000",
          "2003-01-01T00:00:00.000000000",
          "2003-01-01T00:00:00.000000000",
          "2004-01-01T00:00:00.000000000",
          "2004-01-01T00:00:00.000000000",
          "2004-01-01T00:00:00.000000000",
          "2004-01-01T00:00:00.000000000",
          "2004-01-01T00:00:00.000000000",
          "2005-01-01T00:00:00.000000000",
          "2005-01-01T00:00:00.000000000",
          "2005-01-01T00:00:00.000000000",
          "2005-01-01T00:00:00.000000000",
          "2005-01-01T00:00:00.000000000",
          "2006-01-01T00:00:00.000000000",
          "2006-01-01T00:00:00.000000000",
          "2006-01-01T00:00:00.000000000",
          "2006-01-01T00:00:00.000000000",
          "2006-01-01T00:00:00.000000000",
          "2007-01-01T00:00:00.000000000",
          "2007-01-01T00:00:00.000000000",
          "2007-01-01T00:00:00.000000000",
          "2007-01-01T00:00:00.000000000",
          "2007-01-01T00:00:00.000000000",
          "2007-01-01T00:00:00.000000000",
          "2008-01-01T00:00:00.000000000",
          "2008-01-01T00:00:00.000000000",
          "2008-01-01T00:00:00.000000000",
          "2008-01-01T00:00:00.000000000",
          "2008-01-01T00:00:00.000000000",
          "2008-01-01T00:00:00.000000000",
          "2009-01-01T00:00:00.000000000",
          "2009-01-01T00:00:00.000000000",
          "2009-01-01T00:00:00.000000000",
          "2009-01-01T00:00:00.000000000",
          "2009-01-01T00:00:00.000000000",
          "2009-01-01T00:00:00.000000000",
          "2010-01-01T00:00:00.000000000",
          "2010-01-01T00:00:00.000000000",
          "2010-01-01T00:00:00.000000000",
          "2010-01-01T00:00:00.000000000",
          "2010-01-01T00:00:00.000000000",
          "2010-01-01T00:00:00.000000000",
          "2011-01-01T00:00:00.000000000",
          "2011-01-01T00:00:00.000000000",
          "2011-01-01T00:00:00.000000000",
          "2011-01-01T00:00:00.000000000",
          "2011-01-01T00:00:00.000000000",
          "2011-01-01T00:00:00.000000000",
          "2012-01-01T00:00:00.000000000",
          "2012-01-01T00:00:00.000000000",
          "2012-01-01T00:00:00.000000000",
          "2012-01-01T00:00:00.000000000",
          "2012-01-01T00:00:00.000000000",
          "2012-01-01T00:00:00.000000000",
          "2013-01-01T00:00:00.000000000",
          "2013-01-01T00:00:00.000000000",
          "2013-01-01T00:00:00.000000000",
          "2013-01-01T00:00:00.000000000",
          "2013-01-01T00:00:00.000000000",
          "2013-01-01T00:00:00.000000000",
          "2014-01-01T00:00:00.000000000",
          "2014-01-01T00:00:00.000000000",
          "2014-01-01T00:00:00.000000000",
          "2014-01-01T00:00:00.000000000",
          "2014-01-01T00:00:00.000000000",
          "2014-01-01T00:00:00.000000000",
          "2015-01-01T00:00:00.000000000",
          "2015-01-01T00:00:00.000000000",
          "2015-01-01T00:00:00.000000000",
          "2015-01-01T00:00:00.000000000",
          "2015-01-01T00:00:00.000000000",
          "2015-01-01T00:00:00.000000000",
          "2016-01-01T00:00:00.000000000",
          "2016-01-01T00:00:00.000000000",
          "2016-01-01T00:00:00.000000000",
          "2016-01-01T00:00:00.000000000",
          "2016-01-01T00:00:00.000000000",
          "2016-01-01T00:00:00.000000000",
          "2017-01-01T00:00:00.000000000",
          "2017-01-01T00:00:00.000000000",
          "2017-01-01T00:00:00.000000000",
          "2017-01-01T00:00:00.000000000",
          "2017-01-01T00:00:00.000000000",
          "2017-01-01T00:00:00.000000000",
          "2018-01-01T00:00:00.000000000",
          "2018-01-01T00:00:00.000000000",
          "2018-01-01T00:00:00.000000000",
          "2018-01-01T00:00:00.000000000",
          "2018-01-01T00:00:00.000000000",
          "2018-01-01T00:00:00.000000000",
          "2019-01-01T00:00:00.000000000",
          "2019-01-01T00:00:00.000000000",
          "2019-01-01T00:00:00.000000000",
          "2019-01-01T00:00:00.000000000",
          "2019-01-01T00:00:00.000000000",
          "2019-01-01T00:00:00.000000000",
          "2020-01-01T00:00:00.000000000",
          "2020-01-01T00:00:00.000000000",
          "2020-01-01T00:00:00.000000000",
          "2020-01-01T00:00:00.000000000",
          "2020-01-01T00:00:00.000000000",
          "2020-01-01T00:00:00.000000000",
          "2021-01-01T00:00:00.000000000",
          "2021-01-01T00:00:00.000000000",
          "2021-01-01T00:00:00.000000000",
          "2021-01-01T00:00:00.000000000",
          "2021-01-01T00:00:00.000000000",
          "2021-01-01T00:00:00.000000000",
          "2022-01-01T00:00:00.000000000",
          "2022-01-01T00:00:00.000000000",
          "2022-01-01T00:00:00.000000000",
          "2022-01-01T00:00:00.000000000",
          "2022-01-01T00:00:00.000000000",
          "2022-01-01T00:00:00.000000000",
          "2023-01-01T00:00:00.000000000",
          "2023-01-01T00:00:00.000000000",
          "2023-01-01T00:00:00.000000000",
          "2023-01-01T00:00:00.000000000",
          "2023-01-01T00:00:00.000000000",
          "2023-01-01T00:00:00.000000000",
          "2024-01-01T00:00:00.000000000",
          "2024-01-01T00:00:00.000000000",
          "2024-01-01T00:00:00.000000000",
          "2024-01-01T00:00:00.000000000",
          "2024-01-01T00:00:00.000000000",
          "2024-01-01T00:00:00.000000000"
         ],
         "xaxis": "x",
         "y": {
          "bdata": "46WbxCCw9j8GgZVDi2z5P/T91HjpJvc/aJHtfD81+D8730+Nl272P9ejcD0K1/U/I9v5fmq89j/hehSuR+H0P1yPwvUoXPU/f2q8dJMY+D8CK4cW2c73P+f7qfHSTfg/+FPjpZvE+D81XrpJDAL7P+58PzVeuvk/sp3vp8ZL/T9SuB6F61H8P5qZmZmZmf8/aJHtfD81/j+iRbbz/dT8P5ZDi2zn+wFATDeJQWDlAkAbL90kBoECQFg5tMh2vgFAXrpJDAIrA0CJQWDl0CIEQJqZmZmZmQVAx0s3iUFgBEB1kxgEVg4FQCcxCKwcWgVAYhBYObTIB0C0yHa+nxoHQLpJDAIrhwZATDeJQWDlBkCIFtnO99MHQEjhehSuRwZAzczMzMzMCUCTGARWDi0OQMP1KFyPwgpAqvHSTWIQDkC6SQwCK4cJQP7UeOkmMQtAEFg5tMh2A0AQWDm0yHYCQL6fGi/dJARAI9v5fmq8AkAxCKwcWmQDQFCNl24SgwNAg8DKoUW2B0C4HoXrUbgHQAisHFpkOwZAK4cW2c73BkCuR+F6FK4HQMHKoUW28wVAWDm0yHa+DUCoxks3iUEMQIlBYOXQIg1A0SLb+X5qDkDRItv5fmoOQCuHFtnO9wtARrbz/dR4DkD+1HjpJjEPQP7UeOkmMQ9Ay6FFtvP9DUDXo3A9CtcMQLpJDAIrhwxACtejcD0KDkAfhetRuB4MQFg5tMh2vgtA001iEFg5D0AxCKwcWmQNQNNNYhBYOQ9ASgwCK4cWDEDhehSuR+EKQAaBlUOLbApAf2q8dJMYDUCmm8QgsHIOQKabxCCwcg5AeekmMQisBEAfhetRuB4FQB+F61G4HgVAfT81XrpJA0CDwMqhRbYCQD81XrpJDAZA30+Nl24SAkCmm8QgsHIAQLByaJHtfARA30+Nl24SAkCq8dJNYhACQL6fGi/dJAFAsHJoke18AkBMN4lBYOUGQFTjpZvEIARAPQrXo3A9A0D4U+Olm8QEQPhT46WbxARAvHSTGARWBUC6SQwCK4cGQPhT46WbxARA4XoUrkfhCEC4HoXrUbgJQOF6FK5H4QhAhxbZzvdTBEB/arx0kxgJQKRwPQrXowdApHA9CtejB0AX2c73U+MDQOkmMQisHAZAnMQgsHJoA0CcxCCwcmgDQJ7vp8ZLNwBAg8DKoUW2BUDFILByaJECQK5H4XoUrgBAj8L1KFyPDECDwMqhRbYJQBSuR+F6FAdAg8DKoUW2CUBQjZduEoMJQFpkO99PjQdANV66SQwCD0D8qfHSTWISQGQ730+NlxNARrbz/dR4DkBkO99PjZcTQF66SQwCKxFA9ihcj8J1EEDsUbgehesQQLx0kxgEVg5A5dAi2/l+C0CBlUOLbOcKQPYoXI/CdRBAtMh2vp8aDUDXo3A9ClcQQMUgsHJokQ1AVg4tsp3vCUDn+6nx0k0JQMUgsHJokQ1A",
          "dtype": "f8"
         },
         "yaxis": "y"
        },
        {
         "hovertemplate": "area-name=Padd 5 Except California<br>Period=%{x}<br>Cost ($/GAL)=%{y}<extra></extra>",
         "legendgroup": "Padd 5 Except California",
         "line": {
          "color": "#EF553B",
          "dash": "solid"
         },
         "marker": {
          "symbol": "circle"
         },
         "mode": "lines",
         "name": "Padd 5 Except California",
         "showlegend": true,
         "type": "scattergl",
         "x": [
          "2001-01-01T00:00:00.000000000",
          "2001-01-01T00:00:00.000000000",
          "2001-01-01T00:00:00.000000000",
          "2001-01-01T00:00:00.000000000",
          "2002-01-01T00:00:00.000000000",
          "2002-01-01T00:00:00.000000000",
          "2002-01-01T00:00:00.000000000",
          "2002-01-01T00:00:00.000000000",
          "2003-01-01T00:00:00.000000000",
          "2003-01-01T00:00:00.000000000",
          "2003-01-01T00:00:00.000000000",
          "2003-01-01T00:00:00.000000000",
          "2004-01-01T00:00:00.000000000",
          "2004-01-01T00:00:00.000000000",
          "2004-01-01T00:00:00.000000000",
          "2004-01-01T00:00:00.000000000",
          "2005-01-01T00:00:00.000000000",
          "2005-01-01T00:00:00.000000000",
          "2005-01-01T00:00:00.000000000",
          "2005-01-01T00:00:00.000000000",
          "2006-01-01T00:00:00.000000000",
          "2006-01-01T00:00:00.000000000",
          "2006-01-01T00:00:00.000000000",
          "2006-01-01T00:00:00.000000000",
          "2007-01-01T00:00:00.000000000",
          "2007-01-01T00:00:00.000000000",
          "2007-01-01T00:00:00.000000000",
          "2007-01-01T00:00:00.000000000",
          "2008-01-01T00:00:00.000000000",
          "2008-01-01T00:00:00.000000000",
          "2008-01-01T00:00:00.000000000",
          "2008-01-01T00:00:00.000000000",
          "2009-01-01T00:00:00.000000000",
          "2009-01-01T00:00:00.000000000",
          "2009-01-01T00:00:00.000000000",
          "2009-01-01T00:00:00.000000000",
          "2010-01-01T00:00:00.000000000",
          "2010-01-01T00:00:00.000000000",
          "2010-01-01T00:00:00.000000000",
          "2010-01-01T00:00:00.000000000",
          "2011-01-01T00:00:00.000000000",
          "2011-01-01T00:00:00.000000000",
          "2011-01-01T00:00:00.000000000",
          "2011-01-01T00:00:00.000000000",
          "2011-01-01T00:00:00.000000000",
          "2011-01-01T00:00:00.000000000",
          "2012-01-01T00:00:00.000000000",
          "2012-01-01T00:00:00.000000000",
          "2012-01-01T00:00:00.000000000",
          "2012-01-01T00:00:00.000000000",
          "2012-01-01T00:00:00.000000000",
          "2012-01-01T00:00:00.000000000",
          "2013-01-01T00:00:00.000000000",
          "2013-01-01T00:00:00.000000000",
          "2013-01-01T00:00:00.000000000",
          "2013-01-01T00:00:00.000000000",
          "2013-01-01T00:00:00.000000000",
          "2013-01-01T00:00:00.000000000",
          "2014-01-01T00:00:00.000000000",
          "2014-01-01T00:00:00.000000000",
          "2014-01-01T00:00:00.000000000",
          "2014-01-01T00:00:00.000000000",
          "2014-01-01T00:00:00.000000000",
          "2014-01-01T00:00:00.000000000",
          "2015-01-01T00:00:00.000000000",
          "2015-01-01T00:00:00.000000000",
          "2015-01-01T00:00:00.000000000",
          "2015-01-01T00:00:00.000000000",
          "2015-01-01T00:00:00.000000000",
          "2015-01-01T00:00:00.000000000",
          "2016-01-01T00:00:00.000000000",
          "2016-01-01T00:00:00.000000000",
          "2016-01-01T00:00:00.000000000",
          "2016-01-01T00:00:00.000000000",
          "2016-01-01T00:00:00.000000000",
          "2016-01-01T00:00:00.000000000",
          "2017-01-01T00:00:00.000000000",
          "2017-01-01T00:00:00.000000000",
          "2017-01-01T00:00:00.000000000",
          "2017-01-01T00:00:00.000000000",
          "2017-01-01T00:00:00.000000000",
          "2017-01-01T00:00:00.000000000",
          "2018-01-01T00:00:00.000000000",
          "2018-01-01T00:00:00.000000000",
          "2018-01-01T00:00:00.000000000",
          "2018-01-01T00:00:00.000000000",
          "2018-01-01T00:00:00.000000000",
          "2018-01-01T00:00:00.000000000",
          "2019-01-01T00:00:00.000000000",
          "2019-01-01T00:00:00.000000000",
          "2019-01-01T00:00:00.000000000",
          "2019-01-01T00:00:00.000000000",
          "2019-01-01T00:00:00.000000000",
          "2019-01-01T00:00:00.000000000",
          "2020-01-01T00:00:00.000000000",
          "2020-01-01T00:00:00.000000000",
          "2020-01-01T00:00:00.000000000",
          "2020-01-01T00:00:00.000000000",
          "2020-01-01T00:00:00.000000000",
          "2020-01-01T00:00:00.000000000",
          "2021-01-01T00:00:00.000000000",
          "2021-01-01T00:00:00.000000000",
          "2021-01-01T00:00:00.000000000",
          "2021-01-01T00:00:00.000000000",
          "2021-01-01T00:00:00.000000000",
          "2021-01-01T00:00:00.000000000",
          "2022-01-01T00:00:00.000000000",
          "2022-01-01T00:00:00.000000000",
          "2022-01-01T00:00:00.000000000",
          "2022-01-01T00:00:00.000000000",
          "2022-01-01T00:00:00.000000000",
          "2022-01-01T00:00:00.000000000",
          "2023-01-01T00:00:00.000000000",
          "2023-01-01T00:00:00.000000000",
          "2023-01-01T00:00:00.000000000",
          "2023-01-01T00:00:00.000000000",
          "2023-01-01T00:00:00.000000000",
          "2023-01-01T00:00:00.000000000",
          "2024-01-01T00:00:00.000000000",
          "2024-01-01T00:00:00.000000000",
          "2024-01-01T00:00:00.000000000",
          "2024-01-01T00:00:00.000000000",
          "2024-01-01T00:00:00.000000000",
          "2024-01-01T00:00:00.000000000"
         ],
         "xaxis": "x",
         "y": {
          "bdata": "iUFg5dAi9z/NzMzMzMz4P4GVQ4ts5/s/VOOlm8Qg+D/6fmq8dJP2P4XrUbgehfk/Vg4tsp3v9T+amZmZmZn1P3E9CtejcPs/2/l+arx0+z+8dJMYBFb+P83MzMzMzPo/LbKd76fG/z/VeOkmMQgAQBBYObTIdgFAnMQgsHJo/z/ByqFFtvMCQBKDwMqhRQNAarx0kxgEA0CDwMqhRbYEQK5H4XoUrgRAeekmMQisBUDy0k1iEFgFQL6fGi/dJAdAd76fGi/dCEDHSzeJQWAHQArXo3A9CgdAdZMYBFYOBkAZBFYOLbIKQKrx0k1iEAtAeekmMQisDEB56SYxCKwJQJZDi2zn+wNAg8DKoUW2AkBg5dAi2/kFQCcxCKwcWgRAEFg5tMh2B0CF61G4HoUJQGiR7Xw/NQZA16NwPQrXB0DByqFFtvMOQIgW2c730wdATDeJQWDlDECe76fGSzcLQBKDwMqhRQ1AiBbZzvfTB0AUrkfhehQQQD81XrpJDA5AcT0K16NwDkDXo3A9ClcQQE5iEFg5tAxA16NwPQpXEECJQWDl0CINQE5iEFg5tA9A7nw/NV66DECLbOf7qfEOQE5iEFg5tA9AsHJoke18C0BiEFg5tMgOQHNoke18Pw5ASgwCK4cWCkBiEFg5tMgOQCGwcmiR7QtAXI/C9ShcDEBmZmZmZmYDQO58PzVeugdACtejcD0KBkAzMzMzMzMFQHnpJjEIrAVACtejcD0KBkAEVg4tsp0CQOxRuB6F6wBAGy/dJAaBA0BGtvP91HgFQBsv3SQGgQNAKVyPwvUoA0A1XrpJDAIIQESLbOf7qQZARIts5/upBkBvEoPAyqEFQN9PjZduEgVAJQaBlUOLAkDRItv5fmoLQKjGSzeJQQZAokW28/3UCkAdWmQ7308IQNejcD0K1whAokW28/3UCkC+nxov3SQIQHe+nxov3QlAi2zn+6nxBkAZBFYOLbIIQFCNl24SgwtAd76fGi/dCUAAAAAAAAAFQJzEILByaARARIts5/upA0BqvHSTGAQIQDeJQWDl0AVAN4lBYOXQBUBYObTIdr4KQKwcWmQ73wtAUrgehetRCUCsHFpkO98LQPyp8dJNYg5AvHSTGARWC0Boke18PzUSQJ7vp8ZLNxRACtejcD2KEkDXo3A9CtcUQAIrhxbZzhFA16NwPQrXFEASg8DKoUURQG3n+6nxUhJAnMQgsHLoEEC0yHa+nxoTQA4tsp3vpxBAbef7qfFSEkCwcmiR7XwOQO58PzVeug9A7nw/NV66D0Av3SQGgZUMQK5H4XoUrhFAsp3vp8ZLD0A=",
          "dtype": "f8"
         },
         "yaxis": "y"
        },
        {
         "hovertemplate": "area-name=Padd 3<br>Period=%{x}<br>Cost ($/GAL)=%{y}<extra></extra>",
         "legendgroup": "Padd 3",
         "line": {
          "color": "#00cc96",
          "dash": "solid"
         },
         "marker": {
          "symbol": "circle"
         },
         "mode": "lines",
         "name": "Padd 3",
         "showlegend": true,
         "type": "scattergl",
         "x": [
          "2001-01-01T00:00:00.000000000",
          "2001-01-01T00:00:00.000000000",
          "2001-01-01T00:00:00.000000000",
          "2001-01-01T00:00:00.000000000",
          "2001-01-01T00:00:00.000000000",
          "2002-01-01T00:00:00.000000000",
          "2002-01-01T00:00:00.000000000",
          "2002-01-01T00:00:00.000000000",
          "2002-01-01T00:00:00.000000000",
          "2002-01-01T00:00:00.000000000",
          "2003-01-01T00:00:00.000000000",
          "2003-01-01T00:00:00.000000000",
          "2003-01-01T00:00:00.000000000",
          "2003-01-01T00:00:00.000000000",
          "2003-01-01T00:00:00.000000000",
          "2004-01-01T00:00:00.000000000",
          "2004-01-01T00:00:00.000000000",
          "2004-01-01T00:00:00.000000000",
          "2004-01-01T00:00:00.000000000",
          "2004-01-01T00:00:00.000000000",
          "2005-01-01T00:00:00.000000000",
          "2005-01-01T00:00:00.000000000",
          "2005-01-01T00:00:00.000000000",
          "2005-01-01T00:00:00.000000000",
          "2005-01-01T00:00:00.000000000",
          "2006-01-01T00:00:00.000000000",
          "2006-01-01T00:00:00.000000000",
          "2006-01-01T00:00:00.000000000",
          "2006-01-01T00:00:00.000000000",
          "2006-01-01T00:00:00.000000000",
          "2007-01-01T00:00:00.000000000",
          "2007-01-01T00:00:00.000000000",
          "2007-01-01T00:00:00.000000000",
          "2007-01-01T00:00:00.000000000",
          "2007-01-01T00:00:00.000000000",
          "2007-01-01T00:00:00.000000000",
          "2008-01-01T00:00:00.000000000",
          "2008-01-01T00:00:00.000000000",
          "2008-01-01T00:00:00.000000000",
          "2008-01-01T00:00:00.000000000",
          "2008-01-01T00:00:00.000000000",
          "2008-01-01T00:00:00.000000000",
          "2009-01-01T00:00:00.000000000",
          "2009-01-01T00:00:00.000000000",
          "2009-01-01T00:00:00.000000000",
          "2009-01-01T00:00:00.000000000",
          "2009-01-01T00:00:00.000000000",
          "2009-01-01T00:00:00.000000000",
          "2010-01-01T00:00:00.000000000",
          "2010-01-01T00:00:00.000000000",
          "2010-01-01T00:00:00.000000000",
          "2010-01-01T00:00:00.000000000",
          "2010-01-01T00:00:00.000000000",
          "2010-01-01T00:00:00.000000000",
          "2011-01-01T00:00:00.000000000",
          "2011-01-01T00:00:00.000000000",
          "2011-01-01T00:00:00.000000000",
          "2011-01-01T00:00:00.000000000",
          "2011-01-01T00:00:00.000000000",
          "2011-01-01T00:00:00.000000000",
          "2012-01-01T00:00:00.000000000",
          "2012-01-01T00:00:00.000000000",
          "2012-01-01T00:00:00.000000000",
          "2012-01-01T00:00:00.000000000",
          "2012-01-01T00:00:00.000000000",
          "2012-01-01T00:00:00.000000000",
          "2013-01-01T00:00:00.000000000",
          "2013-01-01T00:00:00.000000000",
          "2013-01-01T00:00:00.000000000",
          "2013-01-01T00:00:00.000000000",
          "2013-01-01T00:00:00.000000000",
          "2013-01-01T00:00:00.000000000",
          "2014-01-01T00:00:00.000000000",
          "2014-01-01T00:00:00.000000000",
          "2014-01-01T00:00:00.000000000",
          "2014-01-01T00:00:00.000000000",
          "2014-01-01T00:00:00.000000000",
          "2014-01-01T00:00:00.000000000",
          "2015-01-01T00:00:00.000000000",
          "2015-01-01T00:00:00.000000000",
          "2015-01-01T00:00:00.000000000",
          "2015-01-01T00:00:00.000000000",
          "2015-01-01T00:00:00.000000000",
          "2015-01-01T00:00:00.000000000",
          "2016-01-01T00:00:00.000000000",
          "2016-01-01T00:00:00.000000000",
          "2016-01-01T00:00:00.000000000",
          "2016-01-01T00:00:00.000000000",
          "2016-01-01T00:00:00.000000000",
          "2016-01-01T00:00:00.000000000",
          "2017-01-01T00:00:00.000000000",
          "2017-01-01T00:00:00.000000000",
          "2017-01-01T00:00:00.000000000",
          "2017-01-01T00:00:00.000000000",
          "2017-01-01T00:00:00.000000000",
          "2017-01-01T00:00:00.000000000",
          "2018-01-01T00:00:00.000000000",
          "2018-01-01T00:00:00.000000000",
          "2018-01-01T00:00:00.000000000",
          "2018-01-01T00:00:00.000000000",
          "2018-01-01T00:00:00.000000000",
          "2018-01-01T00:00:00.000000000",
          "2019-01-01T00:00:00.000000000",
          "2019-01-01T00:00:00.000000000",
          "2019-01-01T00:00:00.000000000",
          "2019-01-01T00:00:00.000000000",
          "2019-01-01T00:00:00.000000000",
          "2019-01-01T00:00:00.000000000",
          "2020-01-01T00:00:00.000000000",
          "2020-01-01T00:00:00.000000000",
          "2020-01-01T00:00:00.000000000",
          "2020-01-01T00:00:00.000000000",
          "2020-01-01T00:00:00.000000000",
          "2020-01-01T00:00:00.000000000",
          "2021-01-01T00:00:00.000000000",
          "2021-01-01T00:00:00.000000000",
          "2021-01-01T00:00:00.000000000",
          "2021-01-01T00:00:00.000000000",
          "2021-01-01T00:00:00.000000000",
          "2021-01-01T00:00:00.000000000",
          "2022-01-01T00:00:00.000000000",
          "2022-01-01T00:00:00.000000000",
          "2022-01-01T00:00:00.000000000",
          "2022-01-01T00:00:00.000000000",
          "2022-01-01T00:00:00.000000000",
          "2022-01-01T00:00:00.000000000",
          "2023-01-01T00:00:00.000000000",
          "2023-01-01T00:00:00.000000000",
          "2023-01-01T00:00:00.000000000",
          "2023-01-01T00:00:00.000000000",
          "2023-01-01T00:00:00.000000000",
          "2023-01-01T00:00:00.000000000",
          "2024-01-01T00:00:00.000000000",
          "2024-01-01T00:00:00.000000000",
          "2024-01-01T00:00:00.000000000",
          "2024-01-01T00:00:00.000000000",
          "2024-01-01T00:00:00.000000000",
          "2024-01-01T00:00:00.000000000"
         ],
         "xaxis": "x",
         "y": {
          "bdata": "CKwcWmQ79T/pJjEIrBz2P0a28/3UePU/ZmZmZmZm+D9WDi2yne/1P2ZmZmZmZvQ/L90kBoGV9z97FK5H4Xr0P7TIdr6fGvU/tMh2vp8a9T8dWmQ730/3P9Ei2/l+avo/rBxaZDvf9z8AAAAAAAD4P3Noke18P/c/9ihcj8L1/j9WDi2yne/7Pzm0yHa+n/w/ke18PzVe/D8rhxbZzvf7P9ejcD0K1wFA4XoUrkfhAUAMAiuHFtkCQBSuR+F6FANAJQaBlUOLAUDXo3A9CtcDQDvfT42XbgVA/tR46SYxBEAzMzMzMzMEQPT91HjpJgVAJzEIrBxaBUDpJjEIrBwHQIgW2c730wdAL90kBoGVBkCcxCCwcmgFQCPb+X5qvAVAGy/dJAaBCUA/NV66SQwOQArXo3A9CgtASOF6FK5HCUDfT42XbhIJQBSuR+F6FA5ANV66SQwCAkCYbhKDwMoBQJHtfD81XgNAXI/C9ShcA0A9CtejcD0CQNejcD0K1wNAKVyPwvUoBUCoxks3iUEHQGZmZmZmZgVAGy/dJAaBB0AbL90kBoEHQARWDi2ynQVAgZVDi2znCkD8qfHSTWILQH9qvHSTGA1AHVpkO99PC0AzMzMzMzMOQDMzMzMzMw5AhxbZzvdTC0CiRbbz/dQLQCGwcmiR7QtARIts5/upDUA1XrpJDAIPQDVeukkMAg9AaJHtfD81C0CuR+F6FK4OQDEIrBxaZApAtMh2vp8aDUDLoUW28/0KQK5H4XoUrg5A1XjpJjEIDEDufD81XroJQM/3U+Olmw1ASgwCK4cWCUBt5/up8dIJQM/3U+Olmw1AVOOlm8QgAkBEi2zn+6kEQD81XrpJDAJAz/dT46WbBEAdWmQ7308BQM/3U+OlmwRAfT81XrpJA0CkcD0K16P+P1TjpZvEIABA0SLb+X5qAUD+1HjpJjEAQNEi2/l+agFAO99PjZduAUBcj8L1KFwCQKwcWmQ73wNARIts5/upBUA9CtejcD0CQKwcWmQ73wNAxSCwcmiRA0ApXI/C9SgIQKjGSzeJQQRAiUFg5dAiBECuR+F6FK4HQK5H4XoUrgdA3SQGgZVDAkDLoUW28/0CQL6fGi/dJAdAbef7qfHSAkBaZDvfT40GQFpkO99PjQZABFYOLbKd/T9MN4lBYOUDQGIQWDm0yP4/Gy/dJAaBAkAbL90kBoECQCcxCKwcWv4/8KfGSzeJBUCF61G4HoUKQFK4HoXrUQhAtMh2vp8aBkCsHFpkO98FQFK4HoXrUQhACKwcWmS7EkDb+X5qvHQMQIlBYOXQIgxAmG4Sg8DKEEAIrBxaZLsSQMP1KFyPwgxAUrgehetRD0BSuB6F61EPQPT91HjpJglAnMQgsHJoCUDufD81XroIQNnO91PjpQ5Aj8L1KFyPDUAOLbKd76cLQKwcWmQ73wdADi2yne+nC0DXo3A9CtcHQEoMAiuHFgdA",
          "dtype": "f8"
         },
         "yaxis": "y"
        },
        {
         "hovertemplate": "area-name=Padd 5<br>Period=%{x}<br>Cost ($/GAL)=%{y}<extra></extra>",
         "legendgroup": "Padd 5",
         "line": {
          "color": "#ab63fa",
          "dash": "solid"
         },
         "marker": {
          "symbol": "circle"
         },
         "mode": "lines",
         "name": "Padd 5",
         "showlegend": true,
         "type": "scattergl",
         "x": [
          "2001-01-01T00:00:00.000000000",
          "2001-01-01T00:00:00.000000000",
          "2001-01-01T00:00:00.000000000",
          "2001-01-01T00:00:00.000000000",
          "2001-01-01T00:00:00.000000000",
          "2002-01-01T00:00:00.000000000",
          "2002-01-01T00:00:00.000000000",
          "2002-01-01T00:00:00.000000000",
          "2002-01-01T00:00:00.000000000",
          "2002-01-01T00:00:00.000000000",
          "2003-01-01T00:00:00.000000000",
          "2003-01-01T00:00:00.000000000",
          "2003-01-01T00:00:00.000000000",
          "2003-01-01T00:00:00.000000000",
          "2003-01-01T00:00:00.000000000",
          "2004-01-01T00:00:00.000000000",
          "2004-01-01T00:00:00.000000000",
          "2004-01-01T00:00:00.000000000",
          "2004-01-01T00:00:00.000000000",
          "2004-01-01T00:00:00.000000000",
          "2005-01-01T00:00:00.000000000",
          "2005-01-01T00:00:00.000000000",
          "2005-01-01T00:00:00.000000000",
          "2005-01-01T00:00:00.000000000",
          "2005-01-01T00:00:00.000000000",
          "2006-01-01T00:00:00.000000000",
          "2006-01-01T00:00:00.000000000",
          "2006-01-01T00:00:00.000000000",
          "2006-01-01T00:00:00.000000000",
          "2006-01-01T00:00:00.000000000",
          "2007-01-01T00:00:00.000000000",
          "2007-01-01T00:00:00.000000000",
          "2007-01-01T00:00:00.000000000",
          "2007-01-01T00:00:00.000000000",
          "2007-01-01T00:00:00.000000000",
          "2007-01-01T00:00:00.000000000",
          "2008-01-01T00:00:00.000000000",
          "2008-01-01T00:00:00.000000000",
          "2008-01-01T00:00:00.000000000",
          "2008-01-01T00:00:00.000000000",
          "2008-01-01T00:00:00.000000000",
          "2008-01-01T00:00:00.000000000",
          "2009-01-01T00:00:00.000000000",
          "2009-01-01T00:00:00.000000000",
          "2009-01-01T00:00:00.000000000",
          "2009-01-01T00:00:00.000000000",
          "2009-01-01T00:00:00.000000000",
          "2009-01-01T00:00:00.000000000",
          "2010-01-01T00:00:00.000000000",
          "2010-01-01T00:00:00.000000000",
          "2010-01-01T00:00:00.000000000",
          "2010-01-01T00:00:00.000000000",
          "2010-01-01T00:00:00.000000000",
          "2010-01-01T00:00:00.000000000",
          "2011-01-01T00:00:00.000000000",
          "2011-01-01T00:00:00.000000000",
          "2011-01-01T00:00:00.000000000",
          "2011-01-01T00:00:00.000000000",
          "2011-01-01T00:00:00.000000000",
          "2011-01-01T00:00:00.000000000",
          "2012-01-01T00:00:00.000000000",
          "2012-01-01T00:00:00.000000000",
          "2012-01-01T00:00:00.000000000",
          "2012-01-01T00:00:00.000000000",
          "2012-01-01T00:00:00.000000000",
          "2012-01-01T00:00:00.000000000",
          "2013-01-01T00:00:00.000000000",
          "2013-01-01T00:00:00.000000000",
          "2013-01-01T00:00:00.000000000",
          "2013-01-01T00:00:00.000000000",
          "2013-01-01T00:00:00.000000000",
          "2013-01-01T00:00:00.000000000",
          "2014-01-01T00:00:00.000000000",
          "2014-01-01T00:00:00.000000000",
          "2014-01-01T00:00:00.000000000",
          "2014-01-01T00:00:00.000000000",
          "2014-01-01T00:00:00.000000000",
          "2014-01-01T00:00:00.000000000",
          "2015-01-01T00:00:00.000000000",
          "2015-01-01T00:00:00.000000000",
          "2015-01-01T00:00:00.000000000",
          "2015-01-01T00:00:00.000000000",
          "2015-01-01T00:00:00.000000000",
          "2015-01-01T00:00:00.000000000",
          "2016-01-01T00:00:00.000000000",
          "2016-01-01T00:00:00.000000000",
          "2016-01-01T00:00:00.000000000",
          "2016-01-01T00:00:00.000000000",
          "2016-01-01T00:00:00.000000000",
          "2016-01-01T00:00:00.000000000",
          "2017-01-01T00:00:00.000000000",
          "2017-01-01T00:00:00.000000000",
          "2017-01-01T00:00:00.000000000",
          "2017-01-01T00:00:00.000000000",
          "2017-01-01T00:00:00.000000000",
          "2017-01-01T00:00:00.000000000",
          "2018-01-01T00:00:00.000000000",
          "2018-01-01T00:00:00.000000000",
          "2018-01-01T00:00:00.000000000",
          "2018-01-01T00:00:00.000000000",
          "2018-01-01T00:00:00.000000000",
          "2018-01-01T00:00:00.000000000",
          "2019-01-01T00:00:00.000000000",
          "2019-01-01T00:00:00.000000000",
          "2019-01-01T00:00:00.000000000",
          "2019-01-01T00:00:00.000000000",
          "2019-01-01T00:00:00.000000000",
          "2019-01-01T00:00:00.000000000",
          "2020-01-01T00:00:00.000000000",
          "2020-01-01T00:00:00.000000000",
          "2020-01-01T00:00:00.000000000",
          "2020-01-01T00:00:00.000000000",
          "2020-01-01T00:00:00.000000000",
          "2020-01-01T00:00:00.000000000",
          "2021-01-01T00:00:00.000000000",
          "2021-01-01T00:00:00.000000000",
          "2021-01-01T00:00:00.000000000",
          "2021-01-01T00:00:00.000000000",
          "2021-01-01T00:00:00.000000000",
          "2021-01-01T00:00:00.000000000",
          "2022-01-01T00:00:00.000000000",
          "2022-01-01T00:00:00.000000000",
          "2022-01-01T00:00:00.000000000",
          "2023-01-01T00:00:00.000000000",
          "2023-01-01T00:00:00.000000000",
          "2023-01-01T00:00:00.000000000",
          "2023-01-01T00:00:00.000000000",
          "2023-01-01T00:00:00.000000000",
          "2023-01-01T00:00:00.000000000",
          "2024-01-01T00:00:00.000000000",
          "2024-01-01T00:00:00.000000000",
          "2024-01-01T00:00:00.000000000",
          "2024-01-01T00:00:00.000000000",
          "2024-01-01T00:00:00.000000000",
          "2024-01-01T00:00:00.000000000"
         ],
         "xaxis": "x",
         "y": {
          "bdata": "okW28/3U/D9qvHSTGAT6PxfZzvdT4/c/YhBYObTI+j/dJAaBlUP5P0w3iUFg5fg/tvP91Hjp+j9cj8L1KFz3P+kmMQisHPg/UI2XbhKD9j+R7Xw/NV78PwIrhxbZzvk/gZVDi2zn/z/sUbgehev9Px+F61G4Hv0/4XoUrkfhAECe76fGSzcAQGiR7Xw/NQFAc2iR7Xw/AkAbL90kBoEAQEa28/3UeANAxSCwcmiRBEAK16NwPQoEQNejcD0K1wNAXrpJDAIrBUA730+Nl24GQM3MzMzMzAdADi2yne+nBkAUrkfhehQHQHWTGARWDgZA1XjpJjEICEAj2/l+arwIQAaBlUOLbAhAokW28/3UCUC8dJMYBFYIQIgW2c730wdAAAAAAAAAD0CLbOf7qfEOQNv5fmq8dA1AL90kBoGVC0CWQ4ts5/sLQHNoke18PwxA8KfGSzeJBUBMN4lBYOUEQMUgsHJokQRAWDm0yHa+BkCyne+nxksFQLpJDAIrhwRARIts5/upCEBU46WbxCAKQMHKoUW28whAwcqhRbbzCEDdJAaBlUMIQEJg5dAi2whAIbByaJHtDUDLoUW28/0PQLx0kxgEVg5Ay6FFtvP9D0ACK4cW2c4PQGQ730+Nlw5A2/l+arx0D0AOLbKd7ycQQPT91HjpphBArBxaZDvfD0D0/dR46aYQQP7UeOkmsRBA2c73U+OlDkC0yHa+nxoQQE5iEFg5NBBA001iEFg5DkBOYhBYOTQQQFTjpZvEIA9AEFg5tMh2D0Ce76fGSzcNQJZDi2zn+w1A2c73U+OlDUAQWDm0yHYPQHNoke18Pw9Abef7qfHSB0DTTWIQWDkJQMl2vp8aLwdAvHSTGARWCEDJdr6fGi8HQLTIdr6fGgpApHA9CtejBEAK16NwPQoHQNv5fmq8dARA2/l+arx0BEBeukkMAisFQM3MzMzMzAVAGy/dJAaBCUBOYhBYObQHQB+F61G4HghAL90kBoGVB0BOYhBYObQHQArXo3A9CgdA9P3UeOkmDUCgGi/dJAYLQGZmZmZmZgpA9P3UeOkmDUBI4XoUrkcNQMP1KFyPwgtAVg4tsp3vDEDVeOkmMQgOQNEi2/l+agtAGQRWDi2yCkA5tMh2vp8MQFYOLbKd7wxAx0s3iUFgCEB56SYxCKwIQI/C9ShcjwZAeekmMQisCECgGi/dJAYKQFK4HoXrUQdAmpmZmZmZDUCiRbbz/dQOQOOlm8QgsBBAokW28/3UDkCiRbbz/dQPQAaBlUOLbA5AAiuHFtnOE0A5tMh2vh8VQMP1KFyPQhRA+FPjpZvEE0BOYhBYOTQUQIXrUbgehRJAWmQ7308NEkCkcD0K1yMTQPhT46WbxBNAUI2XbhIDEkAj2/l+arwQQClcj8L1qBFAKVyPwvWoEUDD9Shcj0IRQESLbOf7KRNA",
          "dtype": "f8"
         },
         "yaxis": "y"
        },
        {
         "hovertemplate": "area-name=Padd 1B<br>Period=%{x}<br>Cost ($/GAL)=%{y}<extra></extra>",
         "legendgroup": "Padd 1B",
         "line": {
          "color": "#FFA15A",
          "dash": "solid"
         },
         "marker": {
          "symbol": "circle"
         },
         "mode": "lines",
         "name": "Padd 1B",
         "showlegend": true,
         "type": "scattergl",
         "x": [
          "2001-01-01T00:00:00.000000000",
          "2001-01-01T00:00:00.000000000",
          "2001-01-01T00:00:00.000000000",
          "2001-01-01T00:00:00.000000000",
          "2001-01-01T00:00:00.000000000",
          "2002-01-01T00:00:00.000000000",
          "2002-01-01T00:00:00.000000000",
          "2002-01-01T00:00:00.000000000",
          "2002-01-01T00:00:00.000000000",
          "2002-01-01T00:00:00.000000000",
          "2003-01-01T00:00:00.000000000",
          "2003-01-01T00:00:00.000000000",
          "2003-01-01T00:00:00.000000000",
          "2003-01-01T00:00:00.000000000",
          "2003-01-01T00:00:00.000000000",
          "2004-01-01T00:00:00.000000000",
          "2004-01-01T00:00:00.000000000",
          "2004-01-01T00:00:00.000000000",
          "2004-01-01T00:00:00.000000000",
          "2004-01-01T00:00:00.000000000",
          "2005-01-01T00:00:00.000000000",
          "2005-01-01T00:00:00.000000000",
          "2005-01-01T00:00:00.000000000",
          "2005-01-01T00:00:00.000000000",
          "2005-01-01T00:00:00.000000000",
          "2006-01-01T00:00:00.000000000",
          "2006-01-01T00:00:00.000000000",
          "2006-01-01T00:00:00.000000000",
          "2006-01-01T00:00:00.000000000",
          "2006-01-01T00:00:00.000000000",
          "2007-01-01T00:00:00.000000000",
          "2007-01-01T00:00:00.000000000",
          "2007-01-01T00:00:00.000000000",
          "2007-01-01T00:00:00.000000000",
          "2007-01-01T00:00:00.000000000",
          "2007-01-01T00:00:00.000000000",
          "2008-01-01T00:00:00.000000000",
          "2008-01-01T00:00:00.000000000",
          "2008-01-01T00:00:00.000000000",
          "2008-01-01T00:00:00.000000000",
          "2008-01-01T00:00:00.000000000",
          "2008-01-01T00:00:00.000000000",
          "2009-01-01T00:00:00.000000000",
          "2009-01-01T00:00:00.000000000",
          "2009-01-01T00:00:00.000000000",
          "2009-01-01T00:00:00.000000000",
          "2009-01-01T00:00:00.000000000",
          "2009-01-01T00:00:00.000000000",
          "2010-01-01T00:00:00.000000000",
          "2010-01-01T00:00:00.000000000",
          "2010-01-01T00:00:00.000000000",
          "2010-01-01T00:00:00.000000000",
          "2010-01-01T00:00:00.000000000",
          "2010-01-01T00:00:00.000000000",
          "2011-01-01T00:00:00.000000000",
          "2011-01-01T00:00:00.000000000",
          "2011-01-01T00:00:00.000000000",
          "2011-01-01T00:00:00.000000000",
          "2011-01-01T00:00:00.000000000",
          "2011-01-01T00:00:00.000000000",
          "2012-01-01T00:00:00.000000000",
          "2012-01-01T00:00:00.000000000",
          "2012-01-01T00:00:00.000000000",
          "2012-01-01T00:00:00.000000000",
          "2012-01-01T00:00:00.000000000",
          "2012-01-01T00:00:00.000000000",
          "2013-01-01T00:00:00.000000000",
          "2013-01-01T00:00:00.000000000",
          "2013-01-01T00:00:00.000000000",
          "2013-01-01T00:00:00.000000000",
          "2013-01-01T00:00:00.000000000",
          "2013-01-01T00:00:00.000000000",
          "2014-01-01T00:00:00.000000000",
          "2014-01-01T00:00:00.000000000",
          "2014-01-01T00:00:00.000000000",
          "2014-01-01T00:00:00.000000000",
          "2014-01-01T00:00:00.000000000",
          "2014-01-01T00:00:00.000000000",
          "2015-01-01T00:00:00.000000000",
          "2015-01-01T00:00:00.000000000",
          "2015-01-01T00:00:00.000000000",
          "2015-01-01T00:00:00.000000000",
          "2015-01-01T00:00:00.000000000",
          "2015-01-01T00:00:00.000000000",
          "2016-01-01T00:00:00.000000000",
          "2016-01-01T00:00:00.000000000",
          "2016-01-01T00:00:00.000000000",
          "2016-01-01T00:00:00.000000000",
          "2016-01-01T00:00:00.000000000",
          "2016-01-01T00:00:00.000000000",
          "2017-01-01T00:00:00.000000000",
          "2017-01-01T00:00:00.000000000",
          "2017-01-01T00:00:00.000000000",
          "2017-01-01T00:00:00.000000000",
          "2017-01-01T00:00:00.000000000",
          "2017-01-01T00:00:00.000000000",
          "2018-01-01T00:00:00.000000000",
          "2018-01-01T00:00:00.000000000",
          "2018-01-01T00:00:00.000000000",
          "2018-01-01T00:00:00.000000000",
          "2018-01-01T00:00:00.000000000",
          "2018-01-01T00:00:00.000000000",
          "2019-01-01T00:00:00.000000000",
          "2019-01-01T00:00:00.000000000",
          "2019-01-01T00:00:00.000000000",
          "2019-01-01T00:00:00.000000000",
          "2019-01-01T00:00:00.000000000",
          "2019-01-01T00:00:00.000000000",
          "2020-01-01T00:00:00.000000000",
          "2020-01-01T00:00:00.000000000",
          "2020-01-01T00:00:00.000000000",
          "2020-01-01T00:00:00.000000000",
          "2020-01-01T00:00:00.000000000",
          "2020-01-01T00:00:00.000000000",
          "2021-01-01T00:00:00.000000000",
          "2021-01-01T00:00:00.000000000",
          "2021-01-01T00:00:00.000000000",
          "2021-01-01T00:00:00.000000000",
          "2021-01-01T00:00:00.000000000",
          "2021-01-01T00:00:00.000000000",
          "2022-01-01T00:00:00.000000000",
          "2022-01-01T00:00:00.000000000",
          "2022-01-01T00:00:00.000000000",
          "2022-01-01T00:00:00.000000000",
          "2022-01-01T00:00:00.000000000",
          "2022-01-01T00:00:00.000000000",
          "2023-01-01T00:00:00.000000000",
          "2023-01-01T00:00:00.000000000",
          "2023-01-01T00:00:00.000000000",
          "2023-01-01T00:00:00.000000000",
          "2023-01-01T00:00:00.000000000",
          "2023-01-01T00:00:00.000000000",
          "2024-01-01T00:00:00.000000000",
          "2024-01-01T00:00:00.000000000",
          "2024-01-01T00:00:00.000000000",
          "2024-01-01T00:00:00.000000000",
          "2024-01-01T00:00:00.000000000",
          "2024-01-01T00:00:00.000000000"
         ],
         "xaxis": "x",
         "y": {
          "bdata": "kxgEVg4t+D9t5/up8dL3P99PjZduEvc/16NwPQrX+T+amZmZmZn3PxBYObTIdvg/46WbxCCw9j+mm8QgsHL2P2Q730+Nl/Y/QmDl0CLb9T/b+X5qvHT5P1TjpZvEIPo/001iEFg5/D+mm8QgsHL6P9NNYhBYOfo/sHJoke18AEC28/3UeOn+P39qvHSTGP4/oBov3SQG/z8QWDm0yHb+P8uhRbbz/QNAYOXQItv5A0CiRbbz/dQCQFyPwvUoXAJAN4lBYOXQAkCLbOf7qfEEQE5iEFg5tAZAO99PjZduBUBxPQrXo3AFQBBYObTIdgZAUrgehetRBkBvEoPAyqEGQLgehetRuAdADAIrhxbZBkAzMzMzMzMIQIgW2c730wdAhetRuB6FCkBeukkMAisKQPhT46WbxApA7FG4HoXrD0DdJAaBlUMMQCuHFtnO9w9APQrXo3A9A0AhsHJoke0EQOXQItv5fgNAK4cW2c73BEDsUbgehesCQGDl0CLb+QRAUrgehetRBkBMN4lBYOUIQKjGSzeJQQhArBxaZDvfBkC4HoXrUbgGQEw3iUFg5QhA2/l+arx0DEDVeOkmMQgNQGIQWDm0yA9AEFg5tMh2DkBWDi2yne8MQGIQWDm0yA9AZmZmZmZmEEAtsp3vp8YPQKabxCCwcg1Ai2zn+6nxDUBmZmZmZmYQQLTIdr6fGg5AexSuR+F6DEAIrBxaZDsNQArXo3A9ChBAqvHSTWIQDUAK16NwPQoQQB+F61G4Hg9A3SQGgZVDDECWQ4ts5/sLQEw3iUFg5Q9AqMZLN4lBDkBMN4lBYOUPQBBYObTIdgtA0SLb+X5qB0DNzMzMzMwGQNEi2/l+agdAhetRuB6FA0ApXI/C9SgEQEa28/3UeARA5dAi2/l+AkC+nxov3SQFQNEi2/l+agFA001iEFg5AkDl0CLb+X4DQOXQItv5fgNAAAAAAAAABEAhsHJoke0EQOkmMQisHAVA+n5qvHSTBkD6fmq8dJMGQM3MzMzMzAdAMQisHFpkBkBU46WbxCAKQHe+nxov3QZAH4XrUbgeB0AX2c73U+MKQBfZzvdT4wpAc2iR7Xw/BUDNzMzMzMwFQIlBYOXQIgpAVOOlm8QgCUCF61G4HoUFQIlBYOXQIgpAppvEILByBkCmm8QgsHIGQKjGSzeJQQJAfT81XrpJBkAQWDm0yHYCQKJFtvP91AJAKVyPwvUoCUCmm8QgsHILQJZDi2zn+whAppvEILByC0CPwvUoXI8IQO58PzVeugxAUrgehetREEDRItv5fmoVQG8Sg8DKIRBArkfhehSuEkDLoUW2830QQNEi2/l+ahVARIts5/spEkDy0k1iEFgNQOXQItv5fgxAqMZLN4lBEUCLbOf7qfEMQESLbOf7KRJAyXa+nxovEEDJdr6fGi8QQI2XbhKDwAtAQmDl0CLbCkCamZmZmZkQQLKd76fGSwtA",
          "dtype": "f8"
         },
         "yaxis": "y"
        },
        {
         "hovertemplate": "area-name=California<br>Period=%{x}<br>Cost ($/GAL)=%{y}<extra></extra>",
         "legendgroup": "California",
         "line": {
          "color": "#19d3f3",
          "dash": "solid"
         },
         "marker": {
          "symbol": "circle"
         },
         "mode": "lines",
         "name": "California",
         "showlegend": true,
         "type": "scattergl",
         "x": [
          "2001-01-01T00:00:00.000000000",
          "2001-01-01T00:00:00.000000000",
          "2001-01-01T00:00:00.000000000",
          "2001-01-01T00:00:00.000000000",
          "2001-01-01T00:00:00.000000000",
          "2002-01-01T00:00:00.000000000",
          "2002-01-01T00:00:00.000000000",
          "2002-01-01T00:00:00.000000000",
          "2002-01-01T00:00:00.000000000",
          "2002-01-01T00:00:00.000000000",
          "2003-01-01T00:00:00.000000000",
          "2003-01-01T00:00:00.000000000",
          "2003-01-01T00:00:00.000000000",
          "2003-01-01T00:00:00.000000000",
          "2003-01-01T00:00:00.000000000",
          "2004-01-01T00:00:00.000000000",
          "2004-01-01T00:00:00.000000000",
          "2004-01-01T00:00:00.000000000",
          "2004-01-01T00:00:00.000000000",
          "2004-01-01T00:00:00.000000000",
          "2005-01-01T00:00:00.000000000",
          "2005-01-01T00:00:00.000000000",
          "2005-01-01T00:00:00.000000000",
          "2005-01-01T00:00:00.000000000",
          "2005-01-01T00:00:00.000000000",
          "2006-01-01T00:00:00.000000000",
          "2006-01-01T00:00:00.000000000",
          "2006-01-01T00:00:00.000000000",
          "2006-01-01T00:00:00.000000000",
          "2006-01-01T00:00:00.000000000",
          "2007-01-01T00:00:00.000000000",
          "2007-01-01T00:00:00.000000000",
          "2007-01-01T00:00:00.000000000",
          "2007-01-01T00:00:00.000000000",
          "2007-01-01T00:00:00.000000000",
          "2007-01-01T00:00:00.000000000",
          "2008-01-01T00:00:00.000000000",
          "2008-01-01T00:00:00.000000000",
          "2008-01-01T00:00:00.000000000",
          "2008-01-01T00:00:00.000000000",
          "2008-01-01T00:00:00.000000000",
          "2008-01-01T00:00:00.000000000",
          "2009-01-01T00:00:00.000000000",
          "2009-01-01T00:00:00.000000000",
          "2009-01-01T00:00:00.000000000",
          "2009-01-01T00:00:00.000000000",
          "2009-01-01T00:00:00.000000000",
          "2009-01-01T00:00:00.000000000",
          "2010-01-01T00:00:00.000000000",
          "2010-01-01T00:00:00.000000000",
          "2010-01-01T00:00:00.000000000",
          "2010-01-01T00:00:00.000000000",
          "2010-01-01T00:00:00.000000000",
          "2010-01-01T00:00:00.000000000",
          "2011-01-01T00:00:00.000000000",
          "2011-01-01T00:00:00.000000000",
          "2011-01-01T00:00:00.000000000",
          "2011-01-01T00:00:00.000000000",
          "2011-01-01T00:00:00.000000000",
          "2011-01-01T00:00:00.000000000",
          "2012-01-01T00:00:00.000000000",
          "2012-01-01T00:00:00.000000000",
          "2012-01-01T00:00:00.000000000",
          "2012-01-01T00:00:00.000000000",
          "2012-01-01T00:00:00.000000000",
          "2012-01-01T00:00:00.000000000",
          "2013-01-01T00:00:00.000000000",
          "2013-01-01T00:00:00.000000000",
          "2013-01-01T00:00:00.000000000",
          "2013-01-01T00:00:00.000000000",
          "2013-01-01T00:00:00.000000000",
          "2013-01-01T00:00:00.000000000",
          "2014-01-01T00:00:00.000000000",
          "2014-01-01T00:00:00.000000000",
          "2014-01-01T00:00:00.000000000",
          "2014-01-01T00:00:00.000000000",
          "2014-01-01T00:00:00.000000000",
          "2014-01-01T00:00:00.000000000",
          "2015-01-01T00:00:00.000000000",
          "2015-01-01T00:00:00.000000000",
          "2015-01-01T00:00:00.000000000",
          "2015-01-01T00:00:00.000000000",
          "2015-01-01T00:00:00.000000000",
          "2015-01-01T00:00:00.000000000",
          "2016-01-01T00:00:00.000000000",
          "2016-01-01T00:00:00.000000000",
          "2016-01-01T00:00:00.000000000",
          "2016-01-01T00:00:00.000000000",
          "2016-01-01T00:00:00.000000000",
          "2016-01-01T00:00:00.000000000",
          "2017-01-01T00:00:00.000000000",
          "2017-01-01T00:00:00.000000000",
          "2017-01-01T00:00:00.000000000",
          "2017-01-01T00:00:00.000000000",
          "2017-01-01T00:00:00.000000000",
          "2017-01-01T00:00:00.000000000",
          "2018-01-01T00:00:00.000000000",
          "2018-01-01T00:00:00.000000000",
          "2018-01-01T00:00:00.000000000",
          "2018-01-01T00:00:00.000000000",
          "2018-01-01T00:00:00.000000000",
          "2018-01-01T00:00:00.000000000",
          "2019-01-01T00:00:00.000000000",
          "2019-01-01T00:00:00.000000000",
          "2019-01-01T00:00:00.000000000",
          "2019-01-01T00:00:00.000000000",
          "2019-01-01T00:00:00.000000000",
          "2019-01-01T00:00:00.000000000",
          "2020-01-01T00:00:00.000000000",
          "2020-01-01T00:00:00.000000000",
          "2020-01-01T00:00:00.000000000",
          "2020-01-01T00:00:00.000000000",
          "2020-01-01T00:00:00.000000000",
          "2020-01-01T00:00:00.000000000",
          "2021-01-01T00:00:00.000000000",
          "2021-01-01T00:00:00.000000000",
          "2021-01-01T00:00:00.000000000",
          "2021-01-01T00:00:00.000000000",
          "2021-01-01T00:00:00.000000000",
          "2021-01-01T00:00:00.000000000",
          "2022-01-01T00:00:00.000000000",
          "2022-01-01T00:00:00.000000000",
          "2022-01-01T00:00:00.000000000",
          "2023-01-01T00:00:00.000000000",
          "2023-01-01T00:00:00.000000000",
          "2023-01-01T00:00:00.000000000",
          "2023-01-01T00:00:00.000000000",
          "2023-01-01T00:00:00.000000000",
          "2023-01-01T00:00:00.000000000",
          "2024-01-01T00:00:00.000000000",
          "2024-01-01T00:00:00.000000000",
          "2024-01-01T00:00:00.000000000",
          "2024-01-01T00:00:00.000000000",
          "2024-01-01T00:00:00.000000000",
          "2024-01-01T00:00:00.000000000"
         ],
         "xaxis": "x",
         "y": {
          "bdata": "x0s3iUFg/T+iRbbz/dT6P+Olm8QgsPg/6SYxCKwc+j+iRbbz/dT6P2Dl0CLb+fg/MzMzMzMz9z/TTWIQWDn4Py/dJAaBlfs/YOXQItv5+D9QjZduEoP6P1K4HoXrUQBAPzVeukkM/j8/NV66SQz+P7Kd76fGS/0/hxbZzvdTAUCHFtnO91MBQJhuEoPAygBABFYOLbKdAkD2KFyPwvUAQMdLN4lBYAVAiUFg5dAiBEB3vp8aL90EQGIQWDm0yANAiUFg5dAiBEDHSzeJQWAHQNejcD0K1wZARrbz/dR4BkC0yHa+nxoIQNejcD0K1wZABFYOLbKdCECNl24Sg8AIQIgW2c730wdAy6FFtvP9CEDLoUW28/0IQEjhehSuRwpAf2q8dJMYDEBmZmZmZmYPQLByaJHtfAxAN4lBYOXQDUCwcmiR7XwMQGZmZmZmZg9ABoGVQ4tsBUC0yHa+nxoHQM3MzMzMzAVAzczMzMzMBUBCYOXQItsEQEJg5dAi2wRAqMZLN4lBCUCoxks3iUEJQLTIdr6fGglA7nw/NV66CEDRItv5fmoKQLTIdr6fGglAgZVDi2znDkC8dJMYBFYQQPCnxks3iQ5AtMh2vp8aEECBlUOLbOcOQIgW2c730wdA7FG4HoXrEECJQWDl0CIQQGDl0CLb+RBA7FG4HoXrEEBt5/up8VIQQG3n+6nxUhBAGy/dJAaBEEAQWDm0yHYPQDEIrBxaZBBAGy/dJAaBEEBKDAIrhxYPQBBYObTIdg9Aarx0kxgEEED2KFyPwvUNQCcxCKwcWg5Aarx0kxgEEEAnMQisHFoOQE5iEFg5tA9AaJHtfD81C0D4U+Olm8QJQB+F61G4HghAJzEIrBxaCUD4U+Olm8QJQB+F61G4HghACKwcWmQ7BUCoxks3iUEGQKjGSzeJQQZACKwcWmQ7BUDD9Shcj8IHQDeJQWDl0AVAyXa+nxovCEDwp8ZLN4kIQKRwPQrXowhApHA9CtejCED+1HjpJjEKQPCnxks3iQhAd76fGi/dC0DLoUW28/0OQMuhRbbz/Q5A9P3UeOkmDkCcxCCwcmgMQJzEILByaAxA0SLb+X5qDUDRItv5fmoNQD0K16NwPQ9AN4lBYOXQDED8qfHSTWIPQPyp8dJNYg9AdZMYBFYOCUBmZmZmZmYIQGq8dJMYBAtAarx0kxgEC0B1kxgEVg4JQGq8dJMYBAtADi2yne+nEEAOLbKd76cQQGZmZmZmZhBAZmZmZmZmEEBaZDvfTw0QQMHKoUW2cxFAObTIdr6fFUA5tMh2vp8VQFg5tMh2PhVAarx0kxiEE0AhsHJokW0VQGQ730+NFxNAIbByaJFtFUAtsp3vp8YUQGq8dJMYhBNAxSCwcmiREkDFILByaJESQHE9Ctej8BNA001iEFi5E0DTTWIQWLkTQLTIdr6fGhJA",
          "dtype": "f8"
         },
         "yaxis": "y"
        },
        {
         "hovertemplate": "area-name=U.S.<br>Period=%{x}<br>Cost ($/GAL)=%{y}<extra></extra>",
         "legendgroup": "U.S.",
         "line": {
          "color": "#FF6692",
          "dash": "solid"
         },
         "marker": {
          "symbol": "circle"
         },
         "mode": "lines",
         "name": "U.S.",
         "showlegend": true,
         "type": "scattergl",
         "x": [
          "2001-01-01T00:00:00.000000000",
          "2001-01-01T00:00:00.000000000",
          "2001-01-01T00:00:00.000000000",
          "2001-01-01T00:00:00.000000000",
          "2001-01-01T00:00:00.000000000",
          "2002-01-01T00:00:00.000000000",
          "2002-01-01T00:00:00.000000000",
          "2002-01-01T00:00:00.000000000",
          "2002-01-01T00:00:00.000000000",
          "2002-01-01T00:00:00.000000000",
          "2003-01-01T00:00:00.000000000",
          "2003-01-01T00:00:00.000000000",
          "2003-01-01T00:00:00.000000000",
          "2003-01-01T00:00:00.000000000",
          "2003-01-01T00:00:00.000000000",
          "2004-01-01T00:00:00.000000000",
          "2004-01-01T00:00:00.000000000",
          "2004-01-01T00:00:00.000000000",
          "2004-01-01T00:00:00.000000000",
          "2004-01-01T00:00:00.000000000",
          "2005-01-01T00:00:00.000000000",
          "2005-01-01T00:00:00.000000000",
          "2005-01-01T00:00:00.000000000",
          "2005-01-01T00:00:00.000000000",
          "2005-01-01T00:00:00.000000000",
          "2006-01-01T00:00:00.000000000",
          "2006-01-01T00:00:00.000000000",
          "2006-01-01T00:00:00.000000000",
          "2006-01-01T00:00:00.000000000",
          "2006-01-01T00:00:00.000000000",
          "2007-01-01T00:00:00.000000000",
          "2007-01-01T00:00:00.000000000",
          "2007-01-01T00:00:00.000000000",
          "2007-01-01T00:00:00.000000000",
          "2007-01-01T00:00:00.000000000",
          "2007-01-01T00:00:00.000000000",
          "2008-01-01T00:00:00.000000000",
          "2008-01-01T00:00:00.000000000",
          "2008-01-01T00:00:00.000000000",
          "2008-01-01T00:00:00.000000000",
          "2008-01-01T00:00:00.000000000",
          "2008-01-01T00:00:00.000000000",
          "2009-01-01T00:00:00.000000000",
          "2009-01-01T00:00:00.000000000",
          "2009-01-01T00:00:00.000000000",
          "2009-01-01T00:00:00.000000000",
          "2009-01-01T00:00:00.000000000",
          "2009-01-01T00:00:00.000000000",
          "2010-01-01T00:00:00.000000000",
          "2010-01-01T00:00:00.000000000",
          "2010-01-01T00:00:00.000000000",
          "2010-01-01T00:00:00.000000000",
          "2010-01-01T00:00:00.000000000",
          "2010-01-01T00:00:00.000000000",
          "2011-01-01T00:00:00.000000000",
          "2011-01-01T00:00:00.000000000",
          "2011-01-01T00:00:00.000000000",
          "2011-01-01T00:00:00.000000000",
          "2011-01-01T00:00:00.000000000",
          "2011-01-01T00:00:00.000000000",
          "2012-01-01T00:00:00.000000000",
          "2012-01-01T00:00:00.000000000",
          "2012-01-01T00:00:00.000000000",
          "2012-01-01T00:00:00.000000000",
          "2012-01-01T00:00:00.000000000",
          "2012-01-01T00:00:00.000000000",
          "2013-01-01T00:00:00.000000000",
          "2013-01-01T00:00:00.000000000",
          "2013-01-01T00:00:00.000000000",
          "2013-01-01T00:00:00.000000000",
          "2013-01-01T00:00:00.000000000",
          "2013-01-01T00:00:00.000000000",
          "2014-01-01T00:00:00.000000000",
          "2014-01-01T00:00:00.000000000",
          "2014-01-01T00:00:00.000000000",
          "2014-01-01T00:00:00.000000000",
          "2014-01-01T00:00:00.000000000",
          "2014-01-01T00:00:00.000000000",
          "2015-01-01T00:00:00.000000000",
          "2015-01-01T00:00:00.000000000",
          "2015-01-01T00:00:00.000000000",
          "2015-01-01T00:00:00.000000000",
          "2015-01-01T00:00:00.000000000",
          "2015-01-01T00:00:00.000000000",
          "2016-01-01T00:00:00.000000000",
          "2016-01-01T00:00:00.000000000",
          "2016-01-01T00:00:00.000000000",
          "2016-01-01T00:00:00.000000000",
          "2016-01-01T00:00:00.000000000",
          "2016-01-01T00:00:00.000000000",
          "2017-01-01T00:00:00.000000000",
          "2017-01-01T00:00:00.000000000",
          "2017-01-01T00:00:00.000000000",
          "2017-01-01T00:00:00.000000000",
          "2017-01-01T00:00:00.000000000",
          "2017-01-01T00:00:00.000000000",
          "2018-01-01T00:00:00.000000000",
          "2018-01-01T00:00:00.000000000",
          "2018-01-01T00:00:00.000000000",
          "2018-01-01T00:00:00.000000000",
          "2018-01-01T00:00:00.000000000",
          "2018-01-01T00:00:00.000000000",
          "2019-01-01T00:00:00.000000000",
          "2019-01-01T00:00:00.000000000",
          "2019-01-01T00:00:00.000000000",
          "2019-01-01T00:00:00.000000000",
          "2019-01-01T00:00:00.000000000",
          "2019-01-01T00:00:00.000000000",
          "2020-01-01T00:00:00.000000000",
          "2020-01-01T00:00:00.000000000",
          "2020-01-01T00:00:00.000000000",
          "2020-01-01T00:00:00.000000000",
          "2020-01-01T00:00:00.000000000",
          "2020-01-01T00:00:00.000000000",
          "2021-01-01T00:00:00.000000000",
          "2021-01-01T00:00:00.000000000",
          "2021-01-01T00:00:00.000000000",
          "2021-01-01T00:00:00.000000000",
          "2021-01-01T00:00:00.000000000",
          "2021-01-01T00:00:00.000000000",
          "2022-01-01T00:00:00.000000000",
          "2022-01-01T00:00:00.000000000",
          "2022-01-01T00:00:00.000000000",
          "2022-01-01T00:00:00.000000000",
          "2022-01-01T00:00:00.000000000",
          "2022-01-01T00:00:00.000000000",
          "2023-01-01T00:00:00.000000000",
          "2023-01-01T00:00:00.000000000",
          "2023-01-01T00:00:00.000000000",
          "2023-01-01T00:00:00.000000000",
          "2023-01-01T00:00:00.000000000",
          "2023-01-01T00:00:00.000000000",
          "2024-01-01T00:00:00.000000000",
          "2024-01-01T00:00:00.000000000",
          "2024-01-01T00:00:00.000000000",
          "2024-01-01T00:00:00.000000000",
          "2024-01-01T00:00:00.000000000",
          "2024-01-01T00:00:00.000000000"
         ],
         "xaxis": "x",
         "y": {
          "bdata": "YhBYObTI+D+4HoXrUbj2P9Ei2/l+avY/bxKDwMqh+T9cj8L1KFz3P5MYBFYOLfY/exSuR+F6+D9zaJHtfD/3P4XrUbgehfU/tMh2vp8a9T9g5dAi2/n4P9nO91Pjpfk/K4cW2c73+z+e76fGSzf7P76fGi/dJPg/UrgehetR/j9vEoPAyqH9P/YoXI/C9fw/WDm0yHa+/z+8dJMYBFYAQFCNl24SgwJAnu+nxks3A0ApXI/C9SgCQFg5tMh2vgNAdZMYBFYOA0CLbOf7qfEEQPp+arx0kwRACKwcWmQ7BkCkcD0K16MFQKRwPQrXowVASOF6FK5HB0CIFtnO99MHQBSuR+F6FAdAqvHSTWIQCECR7Xw/NV4GQFg5tMh2vgZAK4cW2c73CUAGgZVDi2wOQGDl0CLb+QpA4XoUrkfhC0AxCKwcWmQKQFCNl24Sgw5A7FG4HoXrA0BzaJHtfD8DQGIQWDm0yANAbef7qfHSAkAj2/l+arwDQLgehetRuARAVg4tsp3vB0Coxks3iUEGQJHtfD81XgdArkfhehSuBkCLbOf7qfEHQJMYBFYOLQhAXrpJDAIrDEDP91PjpZsMQGZmZmZmZg1AuB6F61G4DkBeukkMAisOQLgehetRuA5Ai2zn+6nxDED6fmq8dJMOQHE9CtejcA1AWDm0yHa+D0BYObTIdr4PQPT91HjpJg9ACtejcD0KDEAOLbKd76cNQMdLN4lBYA9AmpmZmZmZDEDHSzeJQWAPQPp+arx0kw5AmpmZmZmZDkBGtvP91HgMQK5H4XoUrg1AmpmZmZmZDkB3vp8aL90KQOXQItv5fgtADi2yne+nBUBYObTIdr4FQA4tsp3vpwVAO99PjZduA0CkcD0K16MGQClcj8L1KARAIbByaJHtBEC+nxov3SQBQDvfT42XbgJAyXa+nxovA0AAAAAAAAACQDvfT42XbgJAvHSTGARWB0AzMzMzMzMFQNNNYhBYOQRAUrgehetRA0AzMzMzMzMFQLpJDAIrhwVAGy/dJAaBBkAGgZVDi2wJQAaBlUOLbAlAjZduEoPABUCq8dJNYhAIQCcxCKwcWgpAGy/dJAaBB0Cmm8QgsHIIQDVeukkMAgpAukkMAiuHBUCmm8QgsHIIQKJFtvP91ARA8tJNYhBYAUCsHFpkO98DQHnpJjEIrAZAnMQgsHJoBECq8dJNYhACQJzEILByaARAqvHSTWIQCECyne+nxksKQCPb+X5qvApAsp3vp8ZLCkDl0CLb+X4NQM3MzMzMzAhAz/dT46WbD0Db+X5qvPQTQGDl0CLb+RJA9P3UeOmmEUAj2/l+ajwQQNv5fmq89BNAQmDl0CLbEED0/dR46SYMQBSuR+F6FA1AQmDl0CLbEEDLoUW2830RQLByaJHtfA9AeekmMQisDUAxCKwcWmQLQDvfT42XbgpAFK5H4XoUDkAUrkfhehQOQEjhehSuxxBA",
          "dtype": "f8"
         },
         "yaxis": "y"
        },
        {
         "hovertemplate": "area-name=Padd 1A<br>Period=%{x}<br>Cost ($/GAL)=%{y}<extra></extra>",
         "legendgroup": "Padd 1A",
         "line": {
          "color": "#B6E880",
          "dash": "solid"
         },
         "marker": {
          "symbol": "circle"
         },
         "mode": "lines",
         "name": "Padd 1A",
         "showlegend": true,
         "type": "scattergl",
         "x": [
          "2001-01-01T00:00:00.000000000",
          "2001-01-01T00:00:00.000000000",
          "2001-01-01T00:00:00.000000000",
          "2001-01-01T00:00:00.000000000",
          "2001-01-01T00:00:00.000000000",
          "2002-01-01T00:00:00.000000000",
          "2002-01-01T00:00:00.000000000",
          "2002-01-01T00:00:00.000000000",
          "2002-01-01T00:00:00.000000000",
          "2002-01-01T00:00:00.000000000",
          "2003-01-01T00:00:00.000000000",
          "2003-01-01T00:00:00.000000000",
          "2003-01-01T00:00:00.000000000",
          "2003-01-01T00:00:00.000000000",
          "2003-01-01T00:00:00.000000000",
          "2004-01-01T00:00:00.000000000",
          "2004-01-01T00:00:00.000000000",
          "2004-01-01T00:00:00.000000000",
          "2004-01-01T00:00:00.000000000",
          "2004-01-01T00:00:00.000000000",
          "2005-01-01T00:00:00.000000000",
          "2005-01-01T00:00:00.000000000",
          "2005-01-01T00:00:00.000000000",
          "2005-01-01T00:00:00.000000000",
          "2005-01-01T00:00:00.000000000",
          "2006-01-01T00:00:00.000000000",
          "2006-01-01T00:00:00.000000000",
          "2006-01-01T00:00:00.000000000",
          "2006-01-01T00:00:00.000000000",
          "2006-01-01T00:00:00.000000000",
          "2007-01-01T00:00:00.000000000",
          "2007-01-01T00:00:00.000000000",
          "2007-01-01T00:00:00.000000000",
          "2007-01-01T00:00:00.000000000",
          "2007-01-01T00:00:00.000000000",
          "2007-01-01T00:00:00.000000000",
          "2008-01-01T00:00:00.000000000",
          "2008-01-01T00:00:00.000000000",
          "2008-01-01T00:00:00.000000000",
          "2008-01-01T00:00:00.000000000",
          "2008-01-01T00:00:00.000000000",
          "2008-01-01T00:00:00.000000000",
          "2009-01-01T00:00:00.000000000",
          "2009-01-01T00:00:00.000000000",
          "2009-01-01T00:00:00.000000000",
          "2009-01-01T00:00:00.000000000",
          "2009-01-01T00:00:00.000000000",
          "2009-01-01T00:00:00.000000000",
          "2010-01-01T00:00:00.000000000",
          "2010-01-01T00:00:00.000000000",
          "2010-01-01T00:00:00.000000000",
          "2010-01-01T00:00:00.000000000",
          "2010-01-01T00:00:00.000000000",
          "2010-01-01T00:00:00.000000000",
          "2011-01-01T00:00:00.000000000",
          "2011-01-01T00:00:00.000000000",
          "2011-01-01T00:00:00.000000000",
          "2011-01-01T00:00:00.000000000",
          "2011-01-01T00:00:00.000000000",
          "2011-01-01T00:00:00.000000000",
          "2012-01-01T00:00:00.000000000",
          "2012-01-01T00:00:00.000000000",
          "2012-01-01T00:00:00.000000000",
          "2012-01-01T00:00:00.000000000",
          "2012-01-01T00:00:00.000000000",
          "2012-01-01T00:00:00.000000000",
          "2013-01-01T00:00:00.000000000",
          "2013-01-01T00:00:00.000000000",
          "2013-01-01T00:00:00.000000000",
          "2013-01-01T00:00:00.000000000",
          "2013-01-01T00:00:00.000000000",
          "2013-01-01T00:00:00.000000000",
          "2014-01-01T00:00:00.000000000",
          "2014-01-01T00:00:00.000000000",
          "2014-01-01T00:00:00.000000000",
          "2014-01-01T00:00:00.000000000",
          "2014-01-01T00:00:00.000000000",
          "2014-01-01T00:00:00.000000000",
          "2015-01-01T00:00:00.000000000",
          "2015-01-01T00:00:00.000000000",
          "2015-01-01T00:00:00.000000000",
          "2015-01-01T00:00:00.000000000",
          "2015-01-01T00:00:00.000000000",
          "2015-01-01T00:00:00.000000000",
          "2016-01-01T00:00:00.000000000",
          "2016-01-01T00:00:00.000000000",
          "2016-01-01T00:00:00.000000000",
          "2016-01-01T00:00:00.000000000",
          "2016-01-01T00:00:00.000000000",
          "2016-01-01T00:00:00.000000000",
          "2017-01-01T00:00:00.000000000",
          "2017-01-01T00:00:00.000000000",
          "2017-01-01T00:00:00.000000000",
          "2017-01-01T00:00:00.000000000",
          "2017-01-01T00:00:00.000000000",
          "2017-01-01T00:00:00.000000000",
          "2018-01-01T00:00:00.000000000",
          "2018-01-01T00:00:00.000000000",
          "2018-01-01T00:00:00.000000000",
          "2018-01-01T00:00:00.000000000",
          "2018-01-01T00:00:00.000000000",
          "2018-01-01T00:00:00.000000000",
          "2019-01-01T00:00:00.000000000",
          "2019-01-01T00:00:00.000000000",
          "2019-01-01T00:00:00.000000000",
          "2019-01-01T00:00:00.000000000",
          "2019-01-01T00:00:00.000000000",
          "2019-01-01T00:00:00.000000000",
          "2020-01-01T00:00:00.000000000",
          "2020-01-01T00:00:00.000000000",
          "2020-01-01T00:00:00.000000000",
          "2020-01-01T00:00:00.000000000",
          "2020-01-01T00:00:00.000000000",
          "2020-01-01T00:00:00.000000000",
          "2021-01-01T00:00:00.000000000",
          "2021-01-01T00:00:00.000000000",
          "2021-01-01T00:00:00.000000000",
          "2021-01-01T00:00:00.000000000",
          "2021-01-01T00:00:00.000000000",
          "2021-01-01T00:00:00.000000000",
          "2022-01-01T00:00:00.000000000",
          "2022-01-01T00:00:00.000000000",
          "2022-01-01T00:00:00.000000000",
          "2022-01-01T00:00:00.000000000",
          "2022-01-01T00:00:00.000000000",
          "2022-01-01T00:00:00.000000000",
          "2023-01-01T00:00:00.000000000",
          "2023-01-01T00:00:00.000000000",
          "2023-01-01T00:00:00.000000000",
          "2023-01-01T00:00:00.000000000",
          "2023-01-01T00:00:00.000000000",
          "2023-01-01T00:00:00.000000000",
          "2024-01-01T00:00:00.000000000",
          "2024-01-01T00:00:00.000000000",
          "2024-01-01T00:00:00.000000000",
          "2024-01-01T00:00:00.000000000",
          "2024-01-01T00:00:00.000000000",
          "2024-01-01T00:00:00.000000000"
         ],
         "xaxis": "x",
         "y": {
          "bdata": "exSuR+F6+j+TGARWDi34P5zEILByaPc/rBxaZDvf9z8UrkfhehT4P9V46SYxCPY/TmIQWDm09j8j2/l+arz2P6abxCCwcvY/30+Nl24S+T9SuB6F61H6P28Sg8DKofk/fT81XrpJ+j/RItv5fmr6P7gehetRuPw/jZduEoPA/j9iEFg5tMj+P6rx0k1iEP4/j8L1KFyPAEAj2/l+arz+PwwCK4cW2QNA+n5qvHSTAkBkO99PjZcCQEoMAiuHFgRA001iEFg5AkBI4XoUrkcFQDvfT42XbgZA16NwPQrXBEDFILByaJEGQAisHFpkOwVA5/up8dJNBkC4HoXrUbgGQIlBYOXQIghARIts5/upBkCIFtnO99MHQKJFtvP91AdAL90kBoEVEEDRItv5fmoKQLx0kxgEVgpAlkOLbOf7CUAv3SQGgRUQQOF6FK5H4QtA1XjpJjEIBUAX2c73U+MCQB1aZDvfTwNA1XjpJjEIBUDdJAaBlUMDQFg5tMh2vgRA/Knx0k1iCECuR+F6FK4IQK5H4XoUrghAexSuR+F6BkCBlUOLbOcGQLbz/dR46QZADAIrhxbZDEBt5/up8dIPQCGwcmiR7Q5AhxbZzvdTDUBt5/up8dIPQGZmZmZmZg1AUI2XbhKDEEBI4XoUrkcOQFCNl24SgxBAI9v5fmq8DUBaZDvfTw0QQIcW2c73Uw5Aj8L1KFyPD0A3iUFg5VAQQDeJQWDlUBBA8KfGSzeJDUDsUbgehesMQI/C9Shcjw1AukkMAisHEEC6SQwCKwcQQJHtfD81XgxAx0s3iUFgDEAbL90kBoEOQCPb+X5qvAtAz/dT46WbBkDLoUW28/0DQHWTGARWDgRAiUFg5dAiB0B9PzVeukkDQIlBYOXQIgdACtejcD0KA0AK16NwPQoDQMl2vp8aLwFA7FG4HoXrBEBg5dAi2/kBQArXo3A9CgJAH4XrUbgeB0CF61G4HoUFQKjGSzeJQQRAhetRuB6FBUBmZmZmZmYDQN0kBoGVQwRAVg4tsp3vBUBMN4lBYOUJQM/3U+OlmwZAObTIdr6fBkCsHFpkO98JQEw3iUFg5QlAZDvfT42XBECe76fGSzcFQGIQWDm0yAhAPzVeukkMCUA/NV66SQwJQJMYBFYOLQVAYhBYObTIBUBt5/up8dIBQLbz/dR46QVAokW28/3UAUBiEFg5tMgFQClcj8L1KAFACKwcWmQ7CEBt5/up8dIJQNnO91PjpQdAnu+nxks3CEB3vp8aL90LQG3n+6nx0glASgwCK4cWFUDNzMzMzEwQQEJg5dAi2w9ASgwCK4cWFUBEi2zn+6kSQB1aZDvfTxBAw/UoXI/CC0B1kxgEVg4SQHWTGARWDhJAuB6F61G4DEACK4cW2U4RQE5iEFg5tAxAarx0kxgEC0DD9Shcj0IQQPYoXI/C9QlAw/UoXI9CEEAK16NwPQoLQH9qvHSTmBBA",
          "dtype": "f8"
         },
         "yaxis": "y"
        },
        {
         "hovertemplate": "area-name=Padd 4<br>Period=%{x}<br>Cost ($/GAL)=%{y}<extra></extra>",
         "legendgroup": "Padd 4",
         "line": {
          "color": "#FF97FF",
          "dash": "solid"
         },
         "marker": {
          "symbol": "circle"
         },
         "mode": "lines",
         "name": "Padd 4",
         "showlegend": true,
         "type": "scattergl",
         "x": [
          "2001-01-01T00:00:00.000000000",
          "2001-01-01T00:00:00.000000000",
          "2001-01-01T00:00:00.000000000",
          "2001-01-01T00:00:00.000000000",
          "2002-01-01T00:00:00.000000000",
          "2002-01-01T00:00:00.000000000",
          "2002-01-01T00:00:00.000000000",
          "2002-01-01T00:00:00.000000000",
          "2003-01-01T00:00:00.000000000",
          "2003-01-01T00:00:00.000000000",
          "2003-01-01T00:00:00.000000000",
          "2003-01-01T00:00:00.000000000",
          "2004-01-01T00:00:00.000000000",
          "2004-01-01T00:00:00.000000000",
          "2004-01-01T00:00:00.000000000",
          "2004-01-01T00:00:00.000000000",
          "2005-01-01T00:00:00.000000000",
          "2005-01-01T00:00:00.000000000",
          "2005-01-01T00:00:00.000000000",
          "2005-01-01T00:00:00.000000000",
          "2006-01-01T00:00:00.000000000",
          "2006-01-01T00:00:00.000000000",
          "2006-01-01T00:00:00.000000000",
          "2006-01-01T00:00:00.000000000",
          "2007-01-01T00:00:00.000000000",
          "2007-01-01T00:00:00.000000000",
          "2007-01-01T00:00:00.000000000",
          "2007-01-01T00:00:00.000000000",
          "2007-01-01T00:00:00.000000000",
          "2008-01-01T00:00:00.000000000",
          "2008-01-01T00:00:00.000000000",
          "2008-01-01T00:00:00.000000000",
          "2008-01-01T00:00:00.000000000",
          "2008-01-01T00:00:00.000000000",
          "2009-01-01T00:00:00.000000000",
          "2009-01-01T00:00:00.000000000",
          "2009-01-01T00:00:00.000000000",
          "2009-01-01T00:00:00.000000000",
          "2009-01-01T00:00:00.000000000",
          "2010-01-01T00:00:00.000000000",
          "2010-01-01T00:00:00.000000000",
          "2010-01-01T00:00:00.000000000",
          "2010-01-01T00:00:00.000000000",
          "2010-01-01T00:00:00.000000000",
          "2011-01-01T00:00:00.000000000",
          "2011-01-01T00:00:00.000000000",
          "2011-01-01T00:00:00.000000000",
          "2011-01-01T00:00:00.000000000",
          "2011-01-01T00:00:00.000000000",
          "2012-01-01T00:00:00.000000000",
          "2012-01-01T00:00:00.000000000",
          "2012-01-01T00:00:00.000000000",
          "2012-01-01T00:00:00.000000000",
          "2012-01-01T00:00:00.000000000",
          "2013-01-01T00:00:00.000000000",
          "2013-01-01T00:00:00.000000000",
          "2013-01-01T00:00:00.000000000",
          "2013-01-01T00:00:00.000000000",
          "2013-01-01T00:00:00.000000000",
          "2014-01-01T00:00:00.000000000",
          "2014-01-01T00:00:00.000000000",
          "2014-01-01T00:00:00.000000000",
          "2014-01-01T00:00:00.000000000",
          "2014-01-01T00:00:00.000000000",
          "2015-01-01T00:00:00.000000000",
          "2015-01-01T00:00:00.000000000",
          "2015-01-01T00:00:00.000000000",
          "2015-01-01T00:00:00.000000000",
          "2015-01-01T00:00:00.000000000",
          "2016-01-01T00:00:00.000000000",
          "2016-01-01T00:00:00.000000000",
          "2016-01-01T00:00:00.000000000",
          "2016-01-01T00:00:00.000000000",
          "2016-01-01T00:00:00.000000000",
          "2017-01-01T00:00:00.000000000",
          "2017-01-01T00:00:00.000000000",
          "2017-01-01T00:00:00.000000000",
          "2017-01-01T00:00:00.000000000",
          "2017-01-01T00:00:00.000000000",
          "2018-01-01T00:00:00.000000000",
          "2018-01-01T00:00:00.000000000",
          "2018-01-01T00:00:00.000000000",
          "2018-01-01T00:00:00.000000000",
          "2018-01-01T00:00:00.000000000",
          "2019-01-01T00:00:00.000000000",
          "2019-01-01T00:00:00.000000000",
          "2019-01-01T00:00:00.000000000",
          "2019-01-01T00:00:00.000000000",
          "2019-01-01T00:00:00.000000000",
          "2020-01-01T00:00:00.000000000",
          "2020-01-01T00:00:00.000000000",
          "2020-01-01T00:00:00.000000000",
          "2020-01-01T00:00:00.000000000",
          "2020-01-01T00:00:00.000000000",
          "2021-01-01T00:00:00.000000000",
          "2021-01-01T00:00:00.000000000",
          "2021-01-01T00:00:00.000000000",
          "2021-01-01T00:00:00.000000000",
          "2021-01-01T00:00:00.000000000",
          "2022-01-01T00:00:00.000000000",
          "2022-01-01T00:00:00.000000000",
          "2022-01-01T00:00:00.000000000",
          "2022-01-01T00:00:00.000000000",
          "2022-01-01T00:00:00.000000000",
          "2023-01-01T00:00:00.000000000",
          "2023-01-01T00:00:00.000000000",
          "2023-01-01T00:00:00.000000000",
          "2023-01-01T00:00:00.000000000",
          "2023-01-01T00:00:00.000000000",
          "2024-01-01T00:00:00.000000000",
          "2024-01-01T00:00:00.000000000",
          "2024-01-01T00:00:00.000000000",
          "2024-01-01T00:00:00.000000000",
          "2024-01-01T00:00:00.000000000"
         ],
         "xaxis": "x",
         "y": {
          "bdata": "yXa+nxov9z99PzVeukn6P9ejcD0K1/c/yXa+nxov9z+8dJMYBFb2P83MzMzMzPg/rkfhehSu9T+wcmiR7Xz1P4/C9Shcj/g/dZMYBFYO+T+oxks3iUH8P1g5tMh2vvk/JzEIrBxaAEDwp8ZLN4n9P2iR7Xw/Nf4/QmDl0CLb/T/6fmq8dJMDQOOlm8QgsANAppvEILByAkAfhetRuB4CQKabxCCwcgRAdZMYBFYOBkCYbhKDwMoEQGZmZmZmZgZAx0s3iUFgBkCq8dJNYhAIQCPb+X5qvAZADAIrhxbZB0CIFtnO99MHQIPAyqFFtglAf2q8dJMYCkDy0k1iEFgOQOXQItv5fgtAx0s3iUFgDkDVeOkmMQgEQAIrhxbZzgNAfT81XrpJAkACK4cW2c4DQESLbOf7qQJAiUFg5dAiBkBoke18PzUIQIXrUbgehQZAaJHtfD81CEDByqFFtvMHQEoMAiuHFg1AVg4tsp3vDkBcj8L1KFwLQLgehetRuAtAVg4tsp3vDkDVeOkmMQgMQAwCK4cW2Q1A0SLb+X5qDEBCYOXQItsPQEJg5dAi2w9ANV66SQwCD0AMAiuHFtkLQDvfT42XbgtABoGVQ4tsDUA1XrpJDAIPQK5H4XoUrgpAgZVDi2znDEBiEFg5tMgOQPT91HjpJgtAYhBYObTIDkCWQ4ts5/sFQDEIrBxaZAVADAIrhxbZA0AxCKwcWmQFQN0kBoGVQwNANV66SQwCAUCoxks3iUEEQHsUrkfhegJAGQRWDi2yAUB7FK5H4XoCQBkEVg4tsgVAqMZLN4lBA0CNl24Sg8AGQJZDi2zn+wNAGQRWDi2yBUDhehSuR+EJQC2yne+nxglAMzMzMzMzBkBWDi2yne8GQC2yne+nxglA8tJNYhBYCEBeukkMAisFQG3n+6nx0ghAF9nO91PjBUDy0k1iEFgIQJZDi2zn+wFAzczMzMzMBUBiEFg5tMgCQIlBYOXQIgRAiUFg5dAiBED+1HjpJjELQNEi2/l+aglAcT0K16NwDUBI4XoUrkcKQP7UeOkmMQtAx0s3iUFgEEB3vp8aL90PQEw3iUFg5RNATDeJQWDlE0AfhetRuB4SQFYOLbKdbxFALbKd76fGDEC4HoXrUbgNQA4tsp3vpxBAVg4tsp1vEUBU46WbxCAOQARWDi2ynQ1AMQisHFpkCUAEVg4tsp0NQCcxCKwcWgpA",
          "dtype": "f8"
         },
         "yaxis": "y"
        },
        {
         "hovertemplate": "area-name=Padd 1<br>Period=%{x}<br>Cost ($/GAL)=%{y}<extra></extra>",
         "legendgroup": "Padd 1",
         "line": {
          "color": "#FECB52",
          "dash": "solid"
         },
         "marker": {
          "symbol": "circle"
         },
         "mode": "lines",
         "name": "Padd 1",
         "showlegend": true,
         "type": "scattergl",
         "x": [
          "2001-01-01T00:00:00.000000000",
          "2001-01-01T00:00:00.000000000",
          "2001-01-01T00:00:00.000000000",
          "2001-01-01T00:00:00.000000000",
          "2001-01-01T00:00:00.000000000",
          "2002-01-01T00:00:00.000000000",
          "2002-01-01T00:00:00.000000000",
          "2002-01-01T00:00:00.000000000",
          "2002-01-01T00:00:00.000000000",
          "2002-01-01T00:00:00.000000000",
          "2003-01-01T00:00:00.000000000",
          "2003-01-01T00:00:00.000000000",
          "2003-01-01T00:00:00.000000000",
          "2003-01-01T00:00:00.000000000",
          "2003-01-01T00:00:00.000000000",
          "2004-01-01T00:00:00.000000000",
          "2004-01-01T00:00:00.000000000",
          "2004-01-01T00:00:00.000000000",
          "2004-01-01T00:00:00.000000000",
          "2004-01-01T00:00:00.000000000",
          "2005-01-01T00:00:00.000000000",
          "2005-01-01T00:00:00.000000000",
          "2005-01-01T00:00:00.000000000",
          "2005-01-01T00:00:00.000000000",
          "2005-01-01T00:00:00.000000000",
          "2006-01-01T00:00:00.000000000",
          "2006-01-01T00:00:00.000000000",
          "2006-01-01T00:00:00.000000000",
          "2006-01-01T00:00:00.000000000",
          "2006-01-01T00:00:00.000000000",
          "2007-01-01T00:00:00.000000000",
          "2007-01-01T00:00:00.000000000",
          "2007-01-01T00:00:00.000000000",
          "2007-01-01T00:00:00.000000000",
          "2007-01-01T00:00:00.000000000",
          "2007-01-01T00:00:00.000000000",
          "2008-01-01T00:00:00.000000000",
          "2008-01-01T00:00:00.000000000",
          "2008-01-01T00:00:00.000000000",
          "2008-01-01T00:00:00.000000000",
          "2008-01-01T00:00:00.000000000",
          "2008-01-01T00:00:00.000000000",
          "2009-01-01T00:00:00.000000000",
          "2009-01-01T00:00:00.000000000",
          "2009-01-01T00:00:00.000000000",
          "2009-01-01T00:00:00.000000000",
          "2009-01-01T00:00:00.000000000",
          "2009-01-01T00:00:00.000000000",
          "2010-01-01T00:00:00.000000000",
          "2010-01-01T00:00:00.000000000",
          "2010-01-01T00:00:00.000000000",
          "2010-01-01T00:00:00.000000000",
          "2010-01-01T00:00:00.000000000",
          "2010-01-01T00:00:00.000000000",
          "2011-01-01T00:00:00.000000000",
          "2011-01-01T00:00:00.000000000",
          "2011-01-01T00:00:00.000000000",
          "2011-01-01T00:00:00.000000000",
          "2011-01-01T00:00:00.000000000",
          "2011-01-01T00:00:00.000000000",
          "2012-01-01T00:00:00.000000000",
          "2012-01-01T00:00:00.000000000",
          "2012-01-01T00:00:00.000000000",
          "2012-01-01T00:00:00.000000000",
          "2012-01-01T00:00:00.000000000",
          "2012-01-01T00:00:00.000000000",
          "2013-01-01T00:00:00.000000000",
          "2013-01-01T00:00:00.000000000",
          "2013-01-01T00:00:00.000000000",
          "2013-01-01T00:00:00.000000000",
          "2013-01-01T00:00:00.000000000",
          "2013-01-01T00:00:00.000000000",
          "2014-01-01T00:00:00.000000000",
          "2014-01-01T00:00:00.000000000",
          "2014-01-01T00:00:00.000000000",
          "2014-01-01T00:00:00.000000000",
          "2014-01-01T00:00:00.000000000",
          "2014-01-01T00:00:00.000000000",
          "2015-01-01T00:00:00.000000000",
          "2015-01-01T00:00:00.000000000",
          "2015-01-01T00:00:00.000000000",
          "2015-01-01T00:00:00.000000000",
          "2015-01-01T00:00:00.000000000",
          "2015-01-01T00:00:00.000000000",
          "2016-01-01T00:00:00.000000000",
          "2016-01-01T00:00:00.000000000",
          "2016-01-01T00:00:00.000000000",
          "2016-01-01T00:00:00.000000000",
          "2016-01-01T00:00:00.000000000",
          "2016-01-01T00:00:00.000000000",
          "2017-01-01T00:00:00.000000000",
          "2017-01-01T00:00:00.000000000",
          "2017-01-01T00:00:00.000000000",
          "2017-01-01T00:00:00.000000000",
          "2017-01-01T00:00:00.000000000",
          "2017-01-01T00:00:00.000000000",
          "2018-01-01T00:00:00.000000000",
          "2018-01-01T00:00:00.000000000",
          "2018-01-01T00:00:00.000000000",
          "2018-01-01T00:00:00.000000000",
          "2018-01-01T00:00:00.000000000",
          "2018-01-01T00:00:00.000000000",
          "2019-01-01T00:00:00.000000000",
          "2019-01-01T00:00:00.000000000",
          "2019-01-01T00:00:00.000000000",
          "2019-01-01T00:00:00.000000000",
          "2019-01-01T00:00:00.000000000",
          "2019-01-01T00:00:00.000000000",
          "2020-01-01T00:00:00.000000000",
          "2020-01-01T00:00:00.000000000",
          "2020-01-01T00:00:00.000000000",
          "2020-01-01T00:00:00.000000000",
          "2020-01-01T00:00:00.000000000",
          "2020-01-01T00:00:00.000000000",
          "2021-01-01T00:00:00.000000000",
          "2021-01-01T00:00:00.000000000",
          "2021-01-01T00:00:00.000000000",
          "2021-01-01T00:00:00.000000000",
          "2021-01-01T00:00:00.000000000",
          "2021-01-01T00:00:00.000000000",
          "2022-01-01T00:00:00.000000000",
          "2022-01-01T00:00:00.000000000",
          "2022-01-01T00:00:00.000000000",
          "2022-01-01T00:00:00.000000000",
          "2022-01-01T00:00:00.000000000",
          "2022-01-01T00:00:00.000000000",
          "2023-01-01T00:00:00.000000000",
          "2023-01-01T00:00:00.000000000",
          "2023-01-01T00:00:00.000000000",
          "2023-01-01T00:00:00.000000000",
          "2023-01-01T00:00:00.000000000",
          "2023-01-01T00:00:00.000000000",
          "2024-01-01T00:00:00.000000000",
          "2024-01-01T00:00:00.000000000",
          "2024-01-01T00:00:00.000000000",
          "2024-01-01T00:00:00.000000000",
          "2024-01-01T00:00:00.000000000",
          "2024-01-01T00:00:00.000000000"
         ],
         "xaxis": "x",
         "y": {
          "bdata": "4XoUrkfh9j/fT42XbhL5P9V46SYxCPg/6SYxCKwc9j89CtejcD32P39qvHSTGPg/z/dT46Wb9j/ByqFFtvP1P/T91HjpJvU/XrpJDAIr9T8QWDm0yHb4P5qZmZmZmfs/EoPAyqFF+j/P91PjpZv4P5zEILByaPk/EoPAyqFF/j89CtejcD0AQI2XbhKDwP4/IbByaJHt/D9GtvP91Hj9P5MYBFYOLQJAz/dT46WbAkDjpZvEILACQBKDwMqhRQNAYhBYObTIA0CamZmZmZkEQG8Sg8DKoQVA5/up8dJNBkDn+6nx0k0FQD81XrpJDAVAxSCwcmiRBkCgGi/dJAYHQH9qvHSTGAZAVg4tsp3vB0CIFtnO99MHQC/dJAaBlQZAZmZmZmZmCkB/arx0kxgPQJZDi2zn+wlA9ihcj8L1DkC6SQwCK4cKQAAAAAAAAAxArkfhehSuBEAUrkfhehQEQNnO91PjpQJAoBov3SQGBED+1HjpJjEDQMl2vp8aLwNASgwCK4cWCEC4HoXrUbgGQN9PjZduEghAZDvfT42XBkA/NV66SQwGQHWTGARWDghAVOOlm8QgDEDdJAaBlUMOQEw3iUFg5Q5AGQRWDi2yDEBMN4lBYOUOQAAAAAAAAA1AhxbZzvdTD0A/NV66SQwQQIts5/up8Q1APzVeukkMEEC28/3UeOkMQI/C9Shcjw1AH4XrUbgeDUCYbhKDwMoMQNV46SYxCAxA+n5qvHSTD0CsHFpkO98OQPp+arx0kw9Aw/UoXI/CC0Bg5dAi2/kLQOxRuB6F6wpAarx0kxgED0A/NV66SQwOQGq8dJMYBA9ATDeJQWDlAkCHFtnO91MGQIcW2c73UwZA5dAi2/l+BkB3vp8aL90DQKAaL90kBgRAarx0kxgEAkBMN4lBYOUAQESLbOf7qQJAdZMYBFYOAkDVeOkmMQgFQESLbOf7qQJAf2q8dJMYA0DdJAaBlUMEQAaBlUOLbAdAppvEILByBUCmm8QgsHIFQMUgsHJokQRAXI/C9ShcBUCDwMqhRbYJQIXrUbgehQlAL90kBoGVBkC+nxov3SQGQIXrUbgehQlADi2yne+nCEDJdr6fGi8FQIPAyqFFtgRA2c73U+OlCEDZzvdT46UIQB+F61G4HgRAWDm0yHa+BUD2KFyPwvUAQGQ730+NlwFASgwCK4cWAkDLoUW28/0EQMuhRbbz/QRAkxgEVg4tCkAGgZVDi2wHQGiR7Xw/NQxAdZMYBFYOCED6fmq8dJMIQJMYBFYOLQpAL90kBoEVEkBI4XoUrkcUQEjhehSuRxRAMzMzMzMzEECamZmZmZkOQIcW2c73Uw9ATmIQWDm0EEB56SYxCKwMQP7UeOkmMQtASgwCK4cWEUBKDAIrhxYRQGq8dJMYBAxArkfhehQuEEAZBFYOLbIKQBSuR+F6FAtAI9v5fmq8DkBt5/up8dIJQCPb+X5qvA5A",
          "dtype": "f8"
         },
         "yaxis": "y"
        }
       ],
       "layout": {
        "height": 500,
        "legend": {
         "title": {
          "text": "area-name"
         },
         "tracegroupgap": 0
        },
        "template": {
         "data": {
          "bar": [
           {
            "error_x": {
             "color": "#2a3f5f"
            },
            "error_y": {
             "color": "#2a3f5f"
            },
            "marker": {
             "line": {
              "color": "#E5ECF6",
              "width": 0.5
             },
             "pattern": {
              "fillmode": "overlay",
              "size": 10,
              "solidity": 0.2
             }
            },
            "type": "bar"
           }
          ],
          "barpolar": [
           {
            "marker": {
             "line": {
              "color": "#E5ECF6",
              "width": 0.5
             },
             "pattern": {
              "fillmode": "overlay",
              "size": 10,
              "solidity": 0.2
             }
            },
            "type": "barpolar"
           }
          ],
          "carpet": [
           {
            "aaxis": {
             "endlinecolor": "#2a3f5f",
             "gridcolor": "white",
             "linecolor": "white",
             "minorgridcolor": "white",
             "startlinecolor": "#2a3f5f"
            },
            "baxis": {
             "endlinecolor": "#2a3f5f",
             "gridcolor": "white",
             "linecolor": "white",
             "minorgridcolor": "white",
             "startlinecolor": "#2a3f5f"
            },
            "type": "carpet"
           }
          ],
          "choropleth": [
           {
            "colorbar": {
             "outlinewidth": 0,
             "ticks": ""
            },
            "type": "choropleth"
           }
          ],
          "contour": [
           {
            "colorbar": {
             "outlinewidth": 0,
             "ticks": ""
            },
            "colorscale": [
             [
              0,
              "#0d0887"
             ],
             [
              0.1111111111111111,
              "#46039f"
             ],
             [
              0.2222222222222222,
              "#7201a8"
             ],
             [
              0.3333333333333333,
              "#9c179e"
             ],
             [
              0.4444444444444444,
              "#bd3786"
             ],
             [
              0.5555555555555556,
              "#d8576b"
             ],
             [
              0.6666666666666666,
              "#ed7953"
             ],
             [
              0.7777777777777778,
              "#fb9f3a"
             ],
             [
              0.8888888888888888,
              "#fdca26"
             ],
             [
              1,
              "#f0f921"
             ]
            ],
            "type": "contour"
           }
          ],
          "contourcarpet": [
           {
            "colorbar": {
             "outlinewidth": 0,
             "ticks": ""
            },
            "type": "contourcarpet"
           }
          ],
          "heatmap": [
           {
            "colorbar": {
             "outlinewidth": 0,
             "ticks": ""
            },
            "colorscale": [
             [
              0,
              "#0d0887"
             ],
             [
              0.1111111111111111,
              "#46039f"
             ],
             [
              0.2222222222222222,
              "#7201a8"
             ],
             [
              0.3333333333333333,
              "#9c179e"
             ],
             [
              0.4444444444444444,
              "#bd3786"
             ],
             [
              0.5555555555555556,
              "#d8576b"
             ],
             [
              0.6666666666666666,
              "#ed7953"
             ],
             [
              0.7777777777777778,
              "#fb9f3a"
             ],
             [
              0.8888888888888888,
              "#fdca26"
             ],
             [
              1,
              "#f0f921"
             ]
            ],
            "type": "heatmap"
           }
          ],
          "histogram": [
           {
            "marker": {
             "pattern": {
              "fillmode": "overlay",
              "size": 10,
              "solidity": 0.2
             }
            },
            "type": "histogram"
           }
          ],
          "histogram2d": [
           {
            "colorbar": {
             "outlinewidth": 0,
             "ticks": ""
            },
            "colorscale": [
             [
              0,
              "#0d0887"
             ],
             [
              0.1111111111111111,
              "#46039f"
             ],
             [
              0.2222222222222222,
              "#7201a8"
             ],
             [
              0.3333333333333333,
              "#9c179e"
             ],
             [
              0.4444444444444444,
              "#bd3786"
             ],
             [
              0.5555555555555556,
              "#d8576b"
             ],
             [
              0.6666666666666666,
              "#ed7953"
             ],
             [
              0.7777777777777778,
              "#fb9f3a"
             ],
             [
              0.8888888888888888,
              "#fdca26"
             ],
             [
              1,
              "#f0f921"
             ]
            ],
            "type": "histogram2d"
           }
          ],
          "histogram2dcontour": [
           {
            "colorbar": {
             "outlinewidth": 0,
             "ticks": ""
            },
            "colorscale": [
             [
              0,
              "#0d0887"
             ],
             [
              0.1111111111111111,
              "#46039f"
             ],
             [
              0.2222222222222222,
              "#7201a8"
             ],
             [
              0.3333333333333333,
              "#9c179e"
             ],
             [
              0.4444444444444444,
              "#bd3786"
             ],
             [
              0.5555555555555556,
              "#d8576b"
             ],
             [
              0.6666666666666666,
              "#ed7953"
             ],
             [
              0.7777777777777778,
              "#fb9f3a"
             ],
             [
              0.8888888888888888,
              "#fdca26"
             ],
             [
              1,
              "#f0f921"
             ]
            ],
            "type": "histogram2dcontour"
           }
          ],
          "mesh3d": [
           {
            "colorbar": {
             "outlinewidth": 0,
             "ticks": ""
            },
            "type": "mesh3d"
           }
          ],
          "parcoords": [
           {
            "line": {
             "colorbar": {
              "outlinewidth": 0,
              "ticks": ""
             }
            },
            "type": "parcoords"
           }
          ],
          "pie": [
           {
            "automargin": true,
            "type": "pie"
           }
          ],
          "scatter": [
           {
            "fillpattern": {
             "fillmode": "overlay",
             "size": 10,
             "solidity": 0.2
            },
            "type": "scatter"
           }
          ],
          "scatter3d": [
           {
            "line": {
             "colorbar": {
              "outlinewidth": 0,
              "ticks": ""
             }
            },
            "marker": {
             "colorbar": {
              "outlinewidth": 0,
              "ticks": ""
             }
            },
            "type": "scatter3d"
           }
          ],
          "scattercarpet": [
           {
            "marker": {
             "colorbar": {
              "outlinewidth": 0,
              "ticks": ""
             }
            },
            "type": "scattercarpet"
           }
          ],
          "scattergeo": [
           {
            "marker": {
             "colorbar": {
              "outlinewidth": 0,
              "ticks": ""
             }
            },
            "type": "scattergeo"
           }
          ],
          "scattergl": [
           {
            "marker": {
             "colorbar": {
              "outlinewidth": 0,
              "ticks": ""
             }
            },
            "type": "scattergl"
           }
          ],
          "scattermap": [
           {
            "marker": {
             "colorbar": {
              "outlinewidth": 0,
              "ticks": ""
             }
            },
            "type": "scattermap"
           }
          ],
          "scattermapbox": [
           {
            "marker": {
             "colorbar": {
              "outlinewidth": 0,
              "ticks": ""
             }
            },
            "type": "scattermapbox"
           }
          ],
          "scatterpolar": [
           {
            "marker": {
             "colorbar": {
              "outlinewidth": 0,
              "ticks": ""
             }
            },
            "type": "scatterpolar"
           }
          ],
          "scatterpolargl": [
           {
            "marker": {
             "colorbar": {
              "outlinewidth": 0,
              "ticks": ""
             }
            },
            "type": "scatterpolargl"
           }
          ],
          "scatterternary": [
           {
            "marker": {
             "colorbar": {
              "outlinewidth": 0,
              "ticks": ""
             }
            },
            "type": "scatterternary"
           }
          ],
          "surface": [
           {
            "colorbar": {
             "outlinewidth": 0,
             "ticks": ""
            },
            "colorscale": [
             [
              0,
              "#0d0887"
             ],
             [
              0.1111111111111111,
              "#46039f"
             ],
             [
              0.2222222222222222,
              "#7201a8"
             ],
             [
              0.3333333333333333,
              "#9c179e"
             ],
             [
              0.4444444444444444,
              "#bd3786"
             ],
             [
              0.5555555555555556,
              "#d8576b"
             ],
             [
              0.6666666666666666,
              "#ed7953"
             ],
             [
              0.7777777777777778,
              "#fb9f3a"
             ],
             [
              0.8888888888888888,
              "#fdca26"
             ],
             [
              1,
              "#f0f921"
             ]
            ],
            "type": "surface"
           }
          ],
          "table": [
           {
            "cells": {
             "fill": {
              "color": "#EBF0F8"
             },
             "line": {
              "color": "white"
             }
            },
            "header": {
             "fill": {
              "color": "#C8D4E3"
             },
             "line": {
              "color": "white"
             }
            },
            "type": "table"
           }
          ]
         },
         "layout": {
          "annotationdefaults": {
           "arrowcolor": "#2a3f5f",
           "arrowhead": 0,
           "arrowwidth": 1
          },
          "autotypenumbers": "strict",
          "coloraxis": {
           "colorbar": {
            "outlinewidth": 0,
            "ticks": ""
           }
          },
          "colorscale": {
           "diverging": [
            [
             0,
             "#8e0152"
            ],
            [
             0.1,
             "#c51b7d"
            ],
            [
             0.2,
             "#de77ae"
            ],
            [
             0.3,
             "#f1b6da"
            ],
            [
             0.4,
             "#fde0ef"
            ],
            [
             0.5,
             "#f7f7f7"
            ],
            [
             0.6,
             "#e6f5d0"
            ],
            [
             0.7,
             "#b8e186"
            ],
            [
             0.8,
             "#7fbc41"
            ],
            [
             0.9,
             "#4d9221"
            ],
            [
             1,
             "#276419"
            ]
           ],
           "sequential": [
            [
             0,
             "#0d0887"
            ],
            [
             0.1111111111111111,
             "#46039f"
            ],
            [
             0.2222222222222222,
             "#7201a8"
            ],
            [
             0.3333333333333333,
             "#9c179e"
            ],
            [
             0.4444444444444444,
             "#bd3786"
            ],
            [
             0.5555555555555556,
             "#d8576b"
            ],
            [
             0.6666666666666666,
             "#ed7953"
            ],
            [
             0.7777777777777778,
             "#fb9f3a"
            ],
            [
             0.8888888888888888,
             "#fdca26"
            ],
            [
             1,
             "#f0f921"
            ]
           ],
           "sequentialminus": [
            [
             0,
             "#0d0887"
            ],
            [
             0.1111111111111111,
             "#46039f"
            ],
            [
             0.2222222222222222,
             "#7201a8"
            ],
            [
             0.3333333333333333,
             "#9c179e"
            ],
            [
             0.4444444444444444,
             "#bd3786"
            ],
            [
             0.5555555555555556,
             "#d8576b"
            ],
            [
             0.6666666666666666,
             "#ed7953"
            ],
            [
             0.7777777777777778,
             "#fb9f3a"
            ],
            [
             0.8888888888888888,
             "#fdca26"
            ],
            [
             1,
             "#f0f921"
            ]
           ]
          },
          "colorway": [
           "#636efa",
           "#EF553B",
           "#00cc96",
           "#ab63fa",
           "#FFA15A",
           "#19d3f3",
           "#FF6692",
           "#B6E880",
           "#FF97FF",
           "#FECB52"
          ],
          "font": {
           "color": "#2a3f5f"
          },
          "geo": {
           "bgcolor": "white",
           "lakecolor": "white",
           "landcolor": "#E5ECF6",
           "showlakes": true,
           "showland": true,
           "subunitcolor": "white"
          },
          "hoverlabel": {
           "align": "left"
          },
          "hovermode": "closest",
          "mapbox": {
           "style": "light"
          },
          "paper_bgcolor": "white",
          "plot_bgcolor": "#E5ECF6",
          "polar": {
           "angularaxis": {
            "gridcolor": "white",
            "linecolor": "white",
            "ticks": ""
           },
           "bgcolor": "#E5ECF6",
           "radialaxis": {
            "gridcolor": "white",
            "linecolor": "white",
            "ticks": ""
           }
          },
          "scene": {
           "xaxis": {
            "backgroundcolor": "#E5ECF6",
            "gridcolor": "white",
            "gridwidth": 2,
            "linecolor": "white",
            "showbackground": true,
            "ticks": "",
            "zerolinecolor": "white"
           },
           "yaxis": {
            "backgroundcolor": "#E5ECF6",
            "gridcolor": "white",
            "gridwidth": 2,
            "linecolor": "white",
            "showbackground": true,
            "ticks": "",
            "zerolinecolor": "white"
           },
           "zaxis": {
            "backgroundcolor": "#E5ECF6",
            "gridcolor": "white",
            "gridwidth": 2,
            "linecolor": "white",
            "showbackground": true,
            "ticks": "",
            "zerolinecolor": "white"
           }
          },
          "shapedefaults": {
           "line": {
            "color": "#2a3f5f"
           }
          },
          "ternary": {
           "aaxis": {
            "gridcolor": "white",
            "linecolor": "white",
            "ticks": ""
           },
           "baxis": {
            "gridcolor": "white",
            "linecolor": "white",
            "ticks": ""
           },
           "bgcolor": "#E5ECF6",
           "caxis": {
            "gridcolor": "white",
            "linecolor": "white",
            "ticks": ""
           }
          },
          "title": {
           "x": 0.05
          },
          "xaxis": {
           "automargin": true,
           "gridcolor": "white",
           "linecolor": "white",
           "ticks": "",
           "title": {
            "standoff": 15
           },
           "zerolinecolor": "white",
           "zerolinewidth": 2
          },
          "yaxis": {
           "automargin": true,
           "gridcolor": "white",
           "linecolor": "white",
           "ticks": "",
           "title": {
            "standoff": 15
           },
           "zerolinecolor": "white",
           "zerolinewidth": 2
          }
         }
        },
        "title": {
         "text": "U.S. National Trend vs States (Period)"
        },
        "xaxis": {
         "anchor": "y",
         "domain": [
          0,
          1
         ],
         "tickangle": 60,
         "title": {
          "text": "Period"
         }
        },
        "yaxis": {
         "anchor": "x",
         "domain": [
          0,
          1
         ],
         "title": {
          "text": "Cost ($/GAL)"
         }
        }
       }
      }
     },
     "metadata": {},
     "output_type": "display_data"
    }
   ],
   "source": [
    "# Scatter plot: Fuel Product Prices\n",
    "fig1 = px.scatter(\n",
    "    df,\n",
    "    x='value',\n",
    "    y='product-name',\n",
    "    size='value',\n",
    "    color='value',\n",
    "    color_continuous_scale='viridis',\n",
    "    title=\"Fuel Product Prices ($/Gallon)\",\n",
    "    labels={\"value\": \"Cost ($/GAL)\", \"product-name\": \"Product Type\"},\n",
    "    height=500\n",
    ")\n",
    "fig1.show()\n",
    "\n",
    "# Line plot: Prices trend over the years\n",
    "fig2 = px.line(\n",
    "    df,\n",
    "    x='period',\n",
    "    y='value',\n",
    "    color='product-name',\n",
    "    title=\"Prices ($/Gallon) Trend Over the Years\",\n",
    "    labels={\"value\": \"Cost ($/GAL)\", \"period\": \"Year\"},\n",
    "    height=500\n",
    ")\n",
    "fig2.update_xaxes(tickangle=60)\n",
    "fig2.show()\n",
    "# Bar plot: Regional Cost by Area and Product (2024–2025)\n",
    "latest_two_years = sorted(df['period'].unique())[-2:]\n",
    "regional_data = df[df['period'].isin(latest_two_years)]\n",
    "\n",
    "fig3 = px.bar(\n",
    "    regional_data,\n",
    "    x='area-name',\n",
    "    y='value',\n",
    "    color='product',\n",
    "    barmode='group',\n",
    "    title=\"Regional Cost by Area and Product (2024–2025)\",\n",
    "    labels={\"value\": \"Cost ($/GAL)\", \"area-name\": \"Region\"},\n",
    "    height=600\n",
    ")\n",
    "fig3.update_xaxes(tickangle=60)\n",
    "fig3.show()\n",
    "\n",
    "# Bar plot: Fuel type Cost by Area and Time (2024–2025)\n",
    "fig4 = px.bar(\n",
    "    regional_data,\n",
    "    x='product',\n",
    "    y='value',\n",
    "    color='period',\n",
    "    barmode='group',\n",
    "    title=\"Fuel Type Cost by Area and Time (2024–2025)\",\n",
    "    labels={\"value\": \"Cost ($/GAL)\", \"product\": \"Product Name\"},\n",
    "    height=500\n",
    ")\n",
    "fig4.update_xaxes(tickangle=45)\n",
    "fig4.show()\n",
    "\n",
    "# Line plot: U.S. National Trend vs States\n",
    "fig5 = px.line(\n",
    "    df,\n",
    "    x='period',\n",
    "    y='value',\n",
    "    color='area-name',\n",
    "    title=\"U.S. National Trend vs States (Period)\",\n",
    "    labels={\"value\": \"Cost ($/GAL)\", \"period\": \"Period\"},\n",
    "    height=500\n",
    ")\n",
    "fig5.update_xaxes(tickangle=60)\n",
    "fig5.show()\n"
   ]
  },
  {
   "cell_type": "markdown",
   "id": "baa21348",
   "metadata": {},
   "source": [
    "# 🛢️ Petroleum Market Intelligence Report\n",
    "\n",
    "**Analysis Period:** 2001-2024  \n",
    "**Report Generated:** August 16, 2025  \n",
    "**Data Source:** U.S. Energy Information Administration (EIA)\n",
    "\n",
    "---\n",
    "\n",
    "## 📋 Executive Summary\n",
    "\n",
    "PETROLEUM MARKET INTELLIGENCE SUMMARY\n",
    "====================================\n",
    "\n",
    "MARKET STRUCTURE:\n",
    "• U.S. fuel pricing operates as fragmented regional sub-markets, not a unified national market\n",
    "• Product prices move in 99.1% synchronization\n",
    "• Clear market segmentation: Premium gasoline maintains stable 20% markup\n",
    "\n",
    "REGIONAL DYNAMICS:\n",
    "• Maximum regional price spread: $1.53/gallon\n",
    "• California most expensive, Padd 3 least expensive\n",
    "• California operates as isolated sub-market with unique pricing dynamics\n",
    "\n",
    "KEY VOLATILITY PERIODS:\n",
    "• 2008 Financial Crisis, 2014-2016 Oil Crash, 2020 COVID Impact, 2021-2022 Supply Shock\n",
    "• Increasing amplitude of price swings over time\n",
    "• Regional vulnerability varies significantly during crises\n",
    "\n",
    "STRATEGIC IMPLICATIONS:\n",
    "• Geographic location determines fuel costs more than product choice\n",
    "• Regulatory compliance creates predictable price premiums\n",
    "• Premium segments show price insensitivity - opportunity for margin optimization\n",
    "• California trends serve as early indicators for broader market movements\n",
    "\n",
    "RECOMMENDED ACTIONS:\n",
    "• Implement regional hedging strategies\n",
    "• Monitor California prices for trend prediction  \n",
    "• Optimize inventory based on cyclical patterns\n",
    "• Consider regional arbitrage opportunities\n",
    "\n",
    "---\n",
    "\n",
    "## 🏗️ Market Structure Analysis\n",
    "\n",
    "### Key Finding: **U.S. fuel pricing operates as interconnected regional sub-markets rather than a unified national market**\n",
    "\n",
    "- **Market Type:** Fragmented Regional Markets\n",
    "- **Product Synchronization:** 99.1%\n",
    "- **Gasoline Products Tracked:** 4\n",
    "- **Diesel Products Tracked:** 2\n",
    "\n",
    "> 💡 **Insight:** The U.S. fuel market operates as interconnected regional sub-markets rather than a unified national pricing system.\n",
    "\n",
    "---\n",
    "\n",
    "## 📍 Regional Market Dynamics\n",
    "\n",
    "### Price Leadership Hierarchy\n",
    "\n",
    "| Rank | Region | Average Price | Market Role |\n",
    "|------|--------|---------------|-------------|\n",
    "| 🥇 Highest | **California** | Premium Market | Price Leader |\n",
    "| 🥉 Lowest | **Padd 3** | Cost Center | Benchmark |\n",
    "\n",
    "### Key Regional Metrics\n",
    "- **Maximum Price Spread:** `$1.53/gallon`\n",
    "- **California Premium:** `$1.08/gallon` above U.S. average\n",
    "- **Gulf Coast Advantage:** PADD 3 (Gulf Coast) serves as pricing benchmark due to refining concentration\n",
    "\n",
    "### Regional Insights\n",
    "- **Geographic Impact:** Location determines up to **$2.00/gallon** price difference\n",
    "- **Market Isolation:** California operates as a distinct sub-market with unique pricing dynamics\n",
    "\n",
    "---\n",
    "\n",
    "## 📊 Volatility & Crisis Analysis\n",
    "\n",
    "### Major Market Disruptions Identified\n",
    "\n",
    "\n",
    "#### 2008 Financial Crisis\n",
    "- **Timeline:** 2007 - 2009\n",
    "- **Peak Price:** $3.53/gallon\n",
    "#### 2014 Oil Crash\n",
    "- **Timeline:** 2014 - 2016\n",
    "- **Trough Price:** $2.39/gallon\n",
    "#### 2020 Covid Impact\n",
    "- **Timeline:** 2020 - 2021\n",
    "#### 2021 Supply Shock\n",
    "- **Timeline:** 2021 - 2023\n",
    "- **Peak Price:** $4.57/gallon\n",
    "\n",
    "### Volatility Insights\n",
    "- **Highest Volatility Year:** 2022\n",
    "- **Most Stable Period:** 2016-2019\n",
    "- **Trend:** Increasing amplitude of price swings over time\n",
    "\n",
    "---\n",
    "\n",
    "## 🏷️ Product Premium Analysis\n",
    "\n",
    "### Current Market Premiums\n",
    "- **No 2 Diesel:** `$+0.50/gallon` (Premium)\n",
    "- **No 2 Diesel Low Sulfur (0-15 Ppm):** `$+0.50/gallon` (Premium)\n",
    "- **Premium Gasoline:** `$+0.74/gallon` (Premium)\n",
    "- **Reformulated Motor Gasoline:** `$+0.20/gallon` (Premium)\n",
    "- **Total Gasoline:** `$+0.11/gallon` (Premium)\n",
    "\n",
    "### Premium Market Insights\n",
    "- **Premium Gasoline Psychology:** Stable ~20% premium indicates consumer price insensitivity\n",
    "- **Diesel Premium Driver:** Commercial demand and sulfur regulations\n",
    "- **Key Finding:** Product premiums remain remarkably stable despite market volatility\n",
    "\n",
    "---\n",
    "\n",
    "## 🎯 Price Driver Analysis\n",
    "\n",
    "### Regulatory Impact\n",
    "**Impact Level:** `High`  \n",
    "**Evidence:** Low-sulfur diesel premium, California reformulated gasoline markup  \n",
    "**Quantification:** $0.30-$0.60 premium for environmental regulations\n",
    "\n",
    "### Geographic Factors\n",
    "**Impact Level:** `Critical`  \n",
    "**Evidence:** PADD 3 (Gulf Coast) cheapest, PADD 1 (East Coast) most volatile  \n",
    "**Quantification:** Up to $2.00/gallon spread between regions\n",
    "\n",
    "### Market Segmentation\n",
    "**Impact Level:** `Clear Tiers`  \n",
    "**Evidence:** Premium (luxury) vs regular (mass market), diesel (commercial)  \n",
    "**Quantification:** 15-25% premium tiers maintained consistently\n",
    "\n",
    "### Crisis Vulnerability\n",
    "**Impact Level:** `Uneven Effects`  \n",
    "**Evidence:** 2020 COVID crash hit PADD 1 hardest, California least affected  \n",
    "**Quantification:** Regional crisis impact varies by 30-50%\n",
    "\n",
    "---\n",
    "\n",
    "## 🔍 Surprising Market Findings\n",
    "\n",
    "### 1. Reformulated Gasoline Costs No More\n",
    "\n",
    "**Context:** Despite environmental requirements, reformulated gasoline prices match regular gasoline nationally\n",
    "\n",
    "**Explanation:** Federal subsidies or economies of scale in mandated regions\n",
    "\n",
    "**Significance:** Challenges assumptions about environmental regulation costs\n",
    "\n",
    "⚠️ **Exception:** California shows significant markup\n",
    "\n",
    "### 2. Diesel More Volatile Than Gasoline\n",
    "\n",
    "**Context:** Commercial diesel shows higher price volatility than consumer gasoline\n",
    "\n",
    "**Explanation:** Commercial demand fluctuates with freight/agricultural cycles\n",
    "\n",
    "**Significance:** Indicates B2B vs B2C market behavior differences\n",
    "\n",
    "### 3. Premium Gasoline Price Gap Stability\n",
    "\n",
    "**Context:** Premium maintains consistent 20% markup regardless of market conditions\n",
    "\n",
    "**Explanation:** Suggests psychological pricing - consumers accept premium as \"normal\"\n",
    "\n",
    "**Significance:** Reveals price elasticity differences across market segments\n",
    "\n",
    "### 4. California Market Decoupling\n",
    "\n",
    "**Context:** California fuel prices increasingly diverge from national trends post-2016\n",
    "\n",
    "**Explanation:** Analysis ongoing\n",
    "\n",
    "**Significance:** Creates isolated sub-market within U.S. fuel economy\n",
    "\n",
    "---\n",
    "\n",
    "## 🎯 Strategic Recommendations\n",
    "\n",
    "### Risk Management\n",
    "\n",
    "**Strategy:** Build Regional Hedging Programs\n",
    "\n",
    "**Rationale:** 2021-2022 surge patterns suggest preparing for future supply shocks\n",
    "\n",
    "**Implementation:** Develop region-specific inventory and pricing strategies\n",
    "\n",
    "### Market Opportunities\n",
    "\n",
    "**Strategy:** Exploit Regional Arbitrage\n",
    "\n",
    "**Rationale:** Persistent $1.50-2.00 price spreads between regions\n",
    "\n",
    "**Implementation:** Consider cross-regional supply optimization\n",
    "\n",
    "### Monitoring Framework\n",
    "\n",
    "**Strategy:** Use California as Early Indicator\n",
    "\n",
    "**Rationale:** California trends often predict broader U.S. patterns\n",
    "\n",
    "**Implementation:** Establish California price monitoring dashboard\n",
    "\n",
    "### Inventory Planning\n",
    "\n",
    "**Strategy:** Build Cyclical Inventory Strategy\n",
    "\n",
    "**Rationale:** Clear seasonal and crisis patterns identified\n",
    "\n",
    "**Implementation:** Optimize storage based on historical volatility patterns\n",
    "\n",
    "---\n",
    "\n",
    "## 📈 Key Takeaways\n",
    "\n",
    "### For Energy Companies\n",
    "1. **Regional Strategy Required** - One-size-fits-all pricing doesn't work\n",
    "2. **California as Leading Indicator** - Monitor for early trend detection  \n",
    "3. **Premium Segment Opportunity** - Price-insensitive consumer base\n",
    "\n",
    "### For Policymakers\n",
    "1. **Regulation Cost Quantification** - Environmental rules add $0.30-0.60/gallon\n",
    "2. **Regional Equity Concerns** - $2.00/gallon spread creates economic disparities\n",
    "3. **Market Fragmentation Effects** - Regional policies have national implications\n",
    "\n",
    "### For Investors\n",
    "1. **Volatility Patterns** - Increasing amplitude suggests higher-risk environment\n",
    "2. **Infrastructure Advantage** - Gulf Coast refining capacity creates pricing power\n",
    "3. **Premium Market Resilience** - Luxury fuel segments show price stability\n",
    "\n",
    "---\n",
    "\n",
    "## 📚 Research Questions for Future Analysis\n",
    "\n",
    "### Immediate Investigations\n",
    "- Why does standard diesel persist alongside low-sulfur variants?\n",
    "- What explains PADD 4 (Rocky Mountains) unusual price stability?\n",
    "- When exactly did California's fuel market fully decouple from national trends?\n",
    "\n",
    "### Strategic Deep-Dives  \n",
    "- How do hurricane patterns correlate with regional price volatility?\n",
    "- What role do state tax policies play in regional price leadership?\n",
    "- Can machine learning predict regional crisis vulnerability?\n",
    "\n",
    "---\n",
    "\n",
    "## 🔬 Methodology & Data Quality\n",
    "\n",
    "**Data Source:** U.S. Energy Information Administration (EIA) API  \n",
    "**Products Analyzed:** Regular Gasoline, Premium Gasoline, Reformulated Motor Gasoline, Total Gasoline, No 2 Diesel, No 2 Diesel Low Sulfur  \n",
    "**Geographic Coverage:** National and PADD regions plus California  \n",
    "**Time Series:** Annual data, {data_period}  \n",
    "\n",
    "**Analysis Approach:** Statistical correlation analysis, volatility measurement, regional comparative analysis, premium stability tracking\n",
    "\n",
    "---\n",
    "\n",
    "*Report generated using advanced petroleum market intelligence algorithms. For technical questions or data requests, contact the author.*\n"
   ]
  }
 ],
 "metadata": {
  "kernelspec": {
   "display_name": "FPAUA_env",
   "language": "python",
   "name": "python3"
  },
  "language_info": {
   "codemirror_mode": {
    "name": "ipython",
    "version": 3
   },
   "file_extension": ".py",
   "mimetype": "text/x-python",
   "name": "python",
   "nbconvert_exporter": "python",
   "pygments_lexer": "ipython3",
   "version": "3.10.12"
  }
 },
 "nbformat": 4,
 "nbformat_minor": 5
}
